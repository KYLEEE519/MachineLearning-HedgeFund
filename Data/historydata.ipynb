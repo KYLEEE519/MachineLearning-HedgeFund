{
 "cells": [
  {
   "cell_type": "code",
   "execution_count": null,
   "metadata": {
    "vscode": {
     "languageId": "plaintext"
    }
   },
   "outputs": [],
   "source": [
    "import requests\n",
    "import datetime\n",
    "import os\n",
    "\n",
    "# 交易对\n",
    "symbol = \"DOGE-USD-SWAP\"\n",
    "\n",
    "# 下载目录\n",
    "download_dir = \"DOGE-USD-SWAP_trades_data\"\n",
    "os.makedirs(download_dir, exist_ok=True)\n",
    "\n",
    "# 计算过去一年的日期\n",
    "start_date = datetime.date(2024, 2, 16)\n",
    "end_date = datetime.date.today()\n",
    "\n",
    "# HTTP 请求头，模拟浏览器访问\n",
    "headers = {\n",
    "    \"User-Agent\": \"Mozilla/5.0 (Windows NT 10.0; Win64; x64) AppleWebKit/537.36 (KHTML, like Gecko) Chrome/91.0.4472.124 Safari/537.36\"\n",
    "}\n",
    "\n",
    "# 循环下载文件\n",
    "current_date = start_date\n",
    "while current_date <= end_date:\n",
    "    date_str_dir = current_date.strftime(\"%Y%m%d\")  # 目录格式 20240220\n",
    "    date_str_file = current_date.strftime(\"%Y-%m-%d\")  # 文件格式 2024-02-20\n",
    "\n",
    "    # 生成文件路径\n",
    "    file_name = f\"{symbol}-trades-{date_str_file}.zip\"\n",
    "    file_path = os.path.join(download_dir, file_name)\n",
    "\n",
    "    # 生成下载 URL\n",
    "    file_url = f\"https://www.okx.com/cdn/okex/traderecords/trades/daily/{date_str_dir}/{symbol}-trades-{date_str_file}.zip\"\n",
    "\n",
    "    print(f\"正在下载: {file_url}\")\n",
    "\n",
    "    # 发送请求\n",
    "    response = requests.get(file_url, headers=headers, stream=True)\n",
    "\n",
    "    if response.status_code == 200:\n",
    "        with open(file_path, \"wb\") as f:\n",
    "            for chunk in response.iter_content(chunk_size=1024):\n",
    "                f.write(chunk)\n",
    "        print(f\"下载完成: {file_path}\")\n",
    "    else:\n",
    "        print(f\"文件不存在 ({response.status_code}): {file_url}\")\n",
    "\n",
    "    # 递增日期\n",
    "    current_date += datetime.timedelta(days=1)"
   ]
  }
 ],
 "metadata": {
  "language_info": {
   "name": "python"
  }
 },
 "nbformat": 4,
 "nbformat_minor": 2
}
