{
 "cells": [
  {
   "cell_type": "code",
   "execution_count": 1,
   "metadata": {},
   "outputs": [
    {
     "ename": "UnicodeDecodeError",
     "evalue": "'utf-8' codec can't decode byte 0xb4 in position 9: invalid start byte",
     "output_type": "error",
     "traceback": [
      "\u001b[1;31m---------------------------------------------------------------------------\u001b[0m",
      "\u001b[1;31mUnicodeDecodeError\u001b[0m                        Traceback (most recent call last)",
      "Cell \u001b[1;32mIn[1], line 2\u001b[0m\n\u001b[0;32m      1\u001b[0m \u001b[38;5;28;01mimport\u001b[39;00m\u001b[38;5;250m \u001b[39m\u001b[38;5;21;01mpandas\u001b[39;00m\u001b[38;5;250m \u001b[39m\u001b[38;5;28;01mas\u001b[39;00m\u001b[38;5;250m \u001b[39m\u001b[38;5;21;01mpd\u001b[39;00m\n\u001b[1;32m----> 2\u001b[0m df\u001b[38;5;241m=\u001b[39m \u001b[43mpd\u001b[49m\u001b[38;5;241;43m.\u001b[39;49m\u001b[43mread_csv\u001b[49m\u001b[43m(\u001b[49m\u001b[38;5;124;43m'\u001b[39;49m\u001b[38;5;124;43mDOGE/DOGE-USDT-SWAP-aggtrades-2024-12-16.csv\u001b[39;49m\u001b[38;5;124;43m'\u001b[39;49m\u001b[43m)\u001b[49m\n\u001b[0;32m      3\u001b[0m df\n",
      "File \u001b[1;32mc:\\Users\\36679\\Downloads\\daima\\COIN\\coin\\Lib\\site-packages\\pandas\\io\\parsers\\readers.py:1026\u001b[0m, in \u001b[0;36mread_csv\u001b[1;34m(filepath_or_buffer, sep, delimiter, header, names, index_col, usecols, dtype, engine, converters, true_values, false_values, skipinitialspace, skiprows, skipfooter, nrows, na_values, keep_default_na, na_filter, verbose, skip_blank_lines, parse_dates, infer_datetime_format, keep_date_col, date_parser, date_format, dayfirst, cache_dates, iterator, chunksize, compression, thousands, decimal, lineterminator, quotechar, quoting, doublequote, escapechar, comment, encoding, encoding_errors, dialect, on_bad_lines, delim_whitespace, low_memory, memory_map, float_precision, storage_options, dtype_backend)\u001b[0m\n\u001b[0;32m   1013\u001b[0m kwds_defaults \u001b[38;5;241m=\u001b[39m _refine_defaults_read(\n\u001b[0;32m   1014\u001b[0m     dialect,\n\u001b[0;32m   1015\u001b[0m     delimiter,\n\u001b[1;32m   (...)\u001b[0m\n\u001b[0;32m   1022\u001b[0m     dtype_backend\u001b[38;5;241m=\u001b[39mdtype_backend,\n\u001b[0;32m   1023\u001b[0m )\n\u001b[0;32m   1024\u001b[0m kwds\u001b[38;5;241m.\u001b[39mupdate(kwds_defaults)\n\u001b[1;32m-> 1026\u001b[0m \u001b[38;5;28;01mreturn\u001b[39;00m \u001b[43m_read\u001b[49m\u001b[43m(\u001b[49m\u001b[43mfilepath_or_buffer\u001b[49m\u001b[43m,\u001b[49m\u001b[43m \u001b[49m\u001b[43mkwds\u001b[49m\u001b[43m)\u001b[49m\n",
      "File \u001b[1;32mc:\\Users\\36679\\Downloads\\daima\\COIN\\coin\\Lib\\site-packages\\pandas\\io\\parsers\\readers.py:620\u001b[0m, in \u001b[0;36m_read\u001b[1;34m(filepath_or_buffer, kwds)\u001b[0m\n\u001b[0;32m    617\u001b[0m _validate_names(kwds\u001b[38;5;241m.\u001b[39mget(\u001b[38;5;124m\"\u001b[39m\u001b[38;5;124mnames\u001b[39m\u001b[38;5;124m\"\u001b[39m, \u001b[38;5;28;01mNone\u001b[39;00m))\n\u001b[0;32m    619\u001b[0m \u001b[38;5;66;03m# Create the parser.\u001b[39;00m\n\u001b[1;32m--> 620\u001b[0m parser \u001b[38;5;241m=\u001b[39m \u001b[43mTextFileReader\u001b[49m\u001b[43m(\u001b[49m\u001b[43mfilepath_or_buffer\u001b[49m\u001b[43m,\u001b[49m\u001b[43m \u001b[49m\u001b[38;5;241;43m*\u001b[39;49m\u001b[38;5;241;43m*\u001b[39;49m\u001b[43mkwds\u001b[49m\u001b[43m)\u001b[49m\n\u001b[0;32m    622\u001b[0m \u001b[38;5;28;01mif\u001b[39;00m chunksize \u001b[38;5;129;01mor\u001b[39;00m iterator:\n\u001b[0;32m    623\u001b[0m     \u001b[38;5;28;01mreturn\u001b[39;00m parser\n",
      "File \u001b[1;32mc:\\Users\\36679\\Downloads\\daima\\COIN\\coin\\Lib\\site-packages\\pandas\\io\\parsers\\readers.py:1620\u001b[0m, in \u001b[0;36mTextFileReader.__init__\u001b[1;34m(self, f, engine, **kwds)\u001b[0m\n\u001b[0;32m   1617\u001b[0m     \u001b[38;5;28mself\u001b[39m\u001b[38;5;241m.\u001b[39moptions[\u001b[38;5;124m\"\u001b[39m\u001b[38;5;124mhas_index_names\u001b[39m\u001b[38;5;124m\"\u001b[39m] \u001b[38;5;241m=\u001b[39m kwds[\u001b[38;5;124m\"\u001b[39m\u001b[38;5;124mhas_index_names\u001b[39m\u001b[38;5;124m\"\u001b[39m]\n\u001b[0;32m   1619\u001b[0m \u001b[38;5;28mself\u001b[39m\u001b[38;5;241m.\u001b[39mhandles: IOHandles \u001b[38;5;241m|\u001b[39m \u001b[38;5;28;01mNone\u001b[39;00m \u001b[38;5;241m=\u001b[39m \u001b[38;5;28;01mNone\u001b[39;00m\n\u001b[1;32m-> 1620\u001b[0m \u001b[38;5;28mself\u001b[39m\u001b[38;5;241m.\u001b[39m_engine \u001b[38;5;241m=\u001b[39m \u001b[38;5;28;43mself\u001b[39;49m\u001b[38;5;241;43m.\u001b[39;49m\u001b[43m_make_engine\u001b[49m\u001b[43m(\u001b[49m\u001b[43mf\u001b[49m\u001b[43m,\u001b[49m\u001b[43m \u001b[49m\u001b[38;5;28;43mself\u001b[39;49m\u001b[38;5;241;43m.\u001b[39;49m\u001b[43mengine\u001b[49m\u001b[43m)\u001b[49m\n",
      "File \u001b[1;32mc:\\Users\\36679\\Downloads\\daima\\COIN\\coin\\Lib\\site-packages\\pandas\\io\\parsers\\readers.py:1898\u001b[0m, in \u001b[0;36mTextFileReader._make_engine\u001b[1;34m(self, f, engine)\u001b[0m\n\u001b[0;32m   1895\u001b[0m     \u001b[38;5;28;01mraise\u001b[39;00m \u001b[38;5;167;01mValueError\u001b[39;00m(msg)\n\u001b[0;32m   1897\u001b[0m \u001b[38;5;28;01mtry\u001b[39;00m:\n\u001b[1;32m-> 1898\u001b[0m     \u001b[38;5;28;01mreturn\u001b[39;00m \u001b[43mmapping\u001b[49m\u001b[43m[\u001b[49m\u001b[43mengine\u001b[49m\u001b[43m]\u001b[49m\u001b[43m(\u001b[49m\u001b[43mf\u001b[49m\u001b[43m,\u001b[49m\u001b[43m \u001b[49m\u001b[38;5;241;43m*\u001b[39;49m\u001b[38;5;241;43m*\u001b[39;49m\u001b[38;5;28;43mself\u001b[39;49m\u001b[38;5;241;43m.\u001b[39;49m\u001b[43moptions\u001b[49m\u001b[43m)\u001b[49m\n\u001b[0;32m   1899\u001b[0m \u001b[38;5;28;01mexcept\u001b[39;00m \u001b[38;5;167;01mException\u001b[39;00m:\n\u001b[0;32m   1900\u001b[0m     \u001b[38;5;28;01mif\u001b[39;00m \u001b[38;5;28mself\u001b[39m\u001b[38;5;241m.\u001b[39mhandles \u001b[38;5;129;01mis\u001b[39;00m \u001b[38;5;129;01mnot\u001b[39;00m \u001b[38;5;28;01mNone\u001b[39;00m:\n",
      "File \u001b[1;32mc:\\Users\\36679\\Downloads\\daima\\COIN\\coin\\Lib\\site-packages\\pandas\\io\\parsers\\c_parser_wrapper.py:93\u001b[0m, in \u001b[0;36mCParserWrapper.__init__\u001b[1;34m(self, src, **kwds)\u001b[0m\n\u001b[0;32m     90\u001b[0m \u001b[38;5;28;01mif\u001b[39;00m kwds[\u001b[38;5;124m\"\u001b[39m\u001b[38;5;124mdtype_backend\u001b[39m\u001b[38;5;124m\"\u001b[39m] \u001b[38;5;241m==\u001b[39m \u001b[38;5;124m\"\u001b[39m\u001b[38;5;124mpyarrow\u001b[39m\u001b[38;5;124m\"\u001b[39m:\n\u001b[0;32m     91\u001b[0m     \u001b[38;5;66;03m# Fail here loudly instead of in cython after reading\u001b[39;00m\n\u001b[0;32m     92\u001b[0m     import_optional_dependency(\u001b[38;5;124m\"\u001b[39m\u001b[38;5;124mpyarrow\u001b[39m\u001b[38;5;124m\"\u001b[39m)\n\u001b[1;32m---> 93\u001b[0m \u001b[38;5;28mself\u001b[39m\u001b[38;5;241m.\u001b[39m_reader \u001b[38;5;241m=\u001b[39m \u001b[43mparsers\u001b[49m\u001b[38;5;241;43m.\u001b[39;49m\u001b[43mTextReader\u001b[49m\u001b[43m(\u001b[49m\u001b[43msrc\u001b[49m\u001b[43m,\u001b[49m\u001b[43m \u001b[49m\u001b[38;5;241;43m*\u001b[39;49m\u001b[38;5;241;43m*\u001b[39;49m\u001b[43mkwds\u001b[49m\u001b[43m)\u001b[49m\n\u001b[0;32m     95\u001b[0m \u001b[38;5;28mself\u001b[39m\u001b[38;5;241m.\u001b[39munnamed_cols \u001b[38;5;241m=\u001b[39m \u001b[38;5;28mself\u001b[39m\u001b[38;5;241m.\u001b[39m_reader\u001b[38;5;241m.\u001b[39munnamed_cols\n\u001b[0;32m     97\u001b[0m \u001b[38;5;66;03m# error: Cannot determine type of 'names'\u001b[39;00m\n",
      "File \u001b[1;32mparsers.pyx:574\u001b[0m, in \u001b[0;36mpandas._libs.parsers.TextReader.__cinit__\u001b[1;34m()\u001b[0m\n",
      "File \u001b[1;32mparsers.pyx:663\u001b[0m, in \u001b[0;36mpandas._libs.parsers.TextReader._get_header\u001b[1;34m()\u001b[0m\n",
      "File \u001b[1;32mparsers.pyx:874\u001b[0m, in \u001b[0;36mpandas._libs.parsers.TextReader._tokenize_rows\u001b[1;34m()\u001b[0m\n",
      "File \u001b[1;32mparsers.pyx:891\u001b[0m, in \u001b[0;36mpandas._libs.parsers.TextReader._check_tokenize_status\u001b[1;34m()\u001b[0m\n",
      "File \u001b[1;32mparsers.pyx:2053\u001b[0m, in \u001b[0;36mpandas._libs.parsers.raise_parser_error\u001b[1;34m()\u001b[0m\n",
      "\u001b[1;31mUnicodeDecodeError\u001b[0m: 'utf-8' codec can't decode byte 0xb4 in position 9: invalid start byte"
     ]
    }
   ],
   "source": [
    "import pandas as pd\n",
    "df= pd.read_csv('DOGE/DOGE-USDT-SWAP-aggtrades-2024-12-16.csv')\n",
    "df"
   ]
  },
  {
   "cell_type": "code",
   "execution_count": 4,
   "metadata": {},
   "outputs": [
    {
     "name": "stderr",
     "output_type": "stream",
     "text": [
      "c:\\Users\\36679\\Downloads\\daima\\COIN\\Data\\data_clean.py:19: FutureWarning: 'T' is deprecated and will be removed in a future version, please use 'min' instead.\n",
      "  df[\"minute\"] = df[\"timestamp\"].dt.floor(\"T\")  # 按分钟对齐\n",
      "c:\\Users\\36679\\Downloads\\daima\\COIN\\Data\\data_clean.py:19: FutureWarning: 'T' is deprecated and will be removed in a future version, please use 'min' instead.\n",
      "  df[\"minute\"] = df[\"timestamp\"].dt.floor(\"T\")  # 按分钟对齐\n",
      "c:\\Users\\36679\\Downloads\\daima\\COIN\\Data\\data_clean.py:19: FutureWarning: 'T' is deprecated and will be removed in a future version, please use 'min' instead.\n",
      "  df[\"minute\"] = df[\"timestamp\"].dt.floor(\"T\")  # 按分钟对齐\n"
     ]
    },
    {
     "name": "stdout",
     "output_type": "stream",
     "text": [
      "成功处理文件: DOGE-USDT-SWAP-aggtrades-2024-12-16.csv\n",
      "成功处理文件: DOGE-USDT-SWAP-aggtrades-2024-12-17.csv\n",
      "成功处理文件: DOGE-USDT-SWAP-aggtrades-2024-12-18.csv\n"
     ]
    },
    {
     "name": "stderr",
     "output_type": "stream",
     "text": [
      "c:\\Users\\36679\\Downloads\\daima\\COIN\\Data\\data_clean.py:19: FutureWarning: 'T' is deprecated and will be removed in a future version, please use 'min' instead.\n",
      "  df[\"minute\"] = df[\"timestamp\"].dt.floor(\"T\")  # 按分钟对齐\n",
      "c:\\Users\\36679\\Downloads\\daima\\COIN\\Data\\data_clean.py:19: FutureWarning: 'T' is deprecated and will be removed in a future version, please use 'min' instead.\n",
      "  df[\"minute\"] = df[\"timestamp\"].dt.floor(\"T\")  # 按分钟对齐\n"
     ]
    },
    {
     "name": "stdout",
     "output_type": "stream",
     "text": [
      "成功处理文件: DOGE-USDT-SWAP-aggtrades-2024-12-19.csv\n",
      "成功处理文件: DOGE-USDT-SWAP-aggtrades-2024-12-20.csv\n"
     ]
    },
    {
     "name": "stderr",
     "output_type": "stream",
     "text": [
      "c:\\Users\\36679\\Downloads\\daima\\COIN\\Data\\data_clean.py:19: FutureWarning: 'T' is deprecated and will be removed in a future version, please use 'min' instead.\n",
      "  df[\"minute\"] = df[\"timestamp\"].dt.floor(\"T\")  # 按分钟对齐\n",
      "c:\\Users\\36679\\Downloads\\daima\\COIN\\Data\\data_clean.py:19: FutureWarning: 'T' is deprecated and will be removed in a future version, please use 'min' instead.\n",
      "  df[\"minute\"] = df[\"timestamp\"].dt.floor(\"T\")  # 按分钟对齐\n",
      "c:\\Users\\36679\\Downloads\\daima\\COIN\\Data\\data_clean.py:19: FutureWarning: 'T' is deprecated and will be removed in a future version, please use 'min' instead.\n",
      "  df[\"minute\"] = df[\"timestamp\"].dt.floor(\"T\")  # 按分钟对齐\n"
     ]
    },
    {
     "name": "stdout",
     "output_type": "stream",
     "text": [
      "成功处理文件: DOGE-USDT-SWAP-aggtrades-2024-12-21.csv\n",
      "成功处理文件: DOGE-USDT-SWAP-aggtrades-2024-12-22.csv\n",
      "成功处理文件: DOGE-USDT-SWAP-aggtrades-2024-12-23.csv\n"
     ]
    },
    {
     "name": "stderr",
     "output_type": "stream",
     "text": [
      "c:\\Users\\36679\\Downloads\\daima\\COIN\\Data\\data_clean.py:19: FutureWarning: 'T' is deprecated and will be removed in a future version, please use 'min' instead.\n",
      "  df[\"minute\"] = df[\"timestamp\"].dt.floor(\"T\")  # 按分钟对齐\n",
      "c:\\Users\\36679\\Downloads\\daima\\COIN\\Data\\data_clean.py:19: FutureWarning: 'T' is deprecated and will be removed in a future version, please use 'min' instead.\n",
      "  df[\"minute\"] = df[\"timestamp\"].dt.floor(\"T\")  # 按分钟对齐\n",
      "c:\\Users\\36679\\Downloads\\daima\\COIN\\Data\\data_clean.py:19: FutureWarning: 'T' is deprecated and will be removed in a future version, please use 'min' instead.\n",
      "  df[\"minute\"] = df[\"timestamp\"].dt.floor(\"T\")  # 按分钟对齐\n"
     ]
    },
    {
     "name": "stdout",
     "output_type": "stream",
     "text": [
      "成功处理文件: DOGE-USDT-SWAP-aggtrades-2024-12-24.csv\n",
      "成功处理文件: DOGE-USDT-SWAP-aggtrades-2024-12-25.csv\n",
      "成功处理文件: DOGE-USDT-SWAP-aggtrades-2024-12-26.csv\n"
     ]
    },
    {
     "name": "stderr",
     "output_type": "stream",
     "text": [
      "c:\\Users\\36679\\Downloads\\daima\\COIN\\Data\\data_clean.py:19: FutureWarning: 'T' is deprecated and will be removed in a future version, please use 'min' instead.\n",
      "  df[\"minute\"] = df[\"timestamp\"].dt.floor(\"T\")  # 按分钟对齐\n",
      "c:\\Users\\36679\\Downloads\\daima\\COIN\\Data\\data_clean.py:19: FutureWarning: 'T' is deprecated and will be removed in a future version, please use 'min' instead.\n",
      "  df[\"minute\"] = df[\"timestamp\"].dt.floor(\"T\")  # 按分钟对齐\n",
      "c:\\Users\\36679\\Downloads\\daima\\COIN\\Data\\data_clean.py:19: FutureWarning: 'T' is deprecated and will be removed in a future version, please use 'min' instead.\n",
      "  df[\"minute\"] = df[\"timestamp\"].dt.floor(\"T\")  # 按分钟对齐\n",
      "c:\\Users\\36679\\Downloads\\daima\\COIN\\Data\\data_clean.py:19: FutureWarning: 'T' is deprecated and will be removed in a future version, please use 'min' instead.\n",
      "  df[\"minute\"] = df[\"timestamp\"].dt.floor(\"T\")  # 按分钟对齐\n"
     ]
    },
    {
     "name": "stdout",
     "output_type": "stream",
     "text": [
      "成功处理文件: DOGE-USDT-SWAP-aggtrades-2024-12-27.csv\n",
      "成功处理文件: DOGE-USDT-SWAP-aggtrades-2024-12-28.csv\n",
      "成功处理文件: DOGE-USDT-SWAP-aggtrades-2024-12-29.csv\n",
      "成功处理文件: DOGE-USDT-SWAP-aggtrades-2024-12-30.csv\n"
     ]
    },
    {
     "name": "stderr",
     "output_type": "stream",
     "text": [
      "c:\\Users\\36679\\Downloads\\daima\\COIN\\Data\\data_clean.py:19: FutureWarning: 'T' is deprecated and will be removed in a future version, please use 'min' instead.\n",
      "  df[\"minute\"] = df[\"timestamp\"].dt.floor(\"T\")  # 按分钟对齐\n",
      "c:\\Users\\36679\\Downloads\\daima\\COIN\\Data\\data_clean.py:19: FutureWarning: 'T' is deprecated and will be removed in a future version, please use 'min' instead.\n",
      "  df[\"minute\"] = df[\"timestamp\"].dt.floor(\"T\")  # 按分钟对齐\n",
      "c:\\Users\\36679\\Downloads\\daima\\COIN\\Data\\data_clean.py:19: FutureWarning: 'T' is deprecated and will be removed in a future version, please use 'min' instead.\n",
      "  df[\"minute\"] = df[\"timestamp\"].dt.floor(\"T\")  # 按分钟对齐\n",
      "c:\\Users\\36679\\Downloads\\daima\\COIN\\Data\\data_clean.py:19: FutureWarning: 'T' is deprecated and will be removed in a future version, please use 'min' instead.\n",
      "  df[\"minute\"] = df[\"timestamp\"].dt.floor(\"T\")  # 按分钟对齐\n"
     ]
    },
    {
     "name": "stdout",
     "output_type": "stream",
     "text": [
      "成功处理文件: DOGE-USDT-SWAP-aggtrades-2024-12-31.csv\n",
      "成功处理文件: DOGE-USDT-SWAP-aggtrades-2025-01-01.csv\n",
      "成功处理文件: DOGE-USDT-SWAP-aggtrades-2025-01-02.csv\n",
      "成功处理文件: DOGE-USDT-SWAP-aggtrades-2025-01-03.csv\n"
     ]
    },
    {
     "name": "stderr",
     "output_type": "stream",
     "text": [
      "c:\\Users\\36679\\Downloads\\daima\\COIN\\Data\\data_clean.py:19: FutureWarning: 'T' is deprecated and will be removed in a future version, please use 'min' instead.\n",
      "  df[\"minute\"] = df[\"timestamp\"].dt.floor(\"T\")  # 按分钟对齐\n",
      "c:\\Users\\36679\\Downloads\\daima\\COIN\\Data\\data_clean.py:19: FutureWarning: 'T' is deprecated and will be removed in a future version, please use 'min' instead.\n",
      "  df[\"minute\"] = df[\"timestamp\"].dt.floor(\"T\")  # 按分钟对齐\n",
      "c:\\Users\\36679\\Downloads\\daima\\COIN\\Data\\data_clean.py:19: FutureWarning: 'T' is deprecated and will be removed in a future version, please use 'min' instead.\n",
      "  df[\"minute\"] = df[\"timestamp\"].dt.floor(\"T\")  # 按分钟对齐\n"
     ]
    },
    {
     "name": "stdout",
     "output_type": "stream",
     "text": [
      "成功处理文件: DOGE-USDT-SWAP-aggtrades-2025-01-04.csv\n",
      "成功处理文件: DOGE-USDT-SWAP-aggtrades-2025-01-05.csv\n",
      "成功处理文件: DOGE-USDT-SWAP-aggtrades-2025-01-06.csv\n"
     ]
    },
    {
     "name": "stderr",
     "output_type": "stream",
     "text": [
      "c:\\Users\\36679\\Downloads\\daima\\COIN\\Data\\data_clean.py:19: FutureWarning: 'T' is deprecated and will be removed in a future version, please use 'min' instead.\n",
      "  df[\"minute\"] = df[\"timestamp\"].dt.floor(\"T\")  # 按分钟对齐\n",
      "c:\\Users\\36679\\Downloads\\daima\\COIN\\Data\\data_clean.py:19: FutureWarning: 'T' is deprecated and will be removed in a future version, please use 'min' instead.\n",
      "  df[\"minute\"] = df[\"timestamp\"].dt.floor(\"T\")  # 按分钟对齐\n",
      "c:\\Users\\36679\\Downloads\\daima\\COIN\\Data\\data_clean.py:19: FutureWarning: 'T' is deprecated and will be removed in a future version, please use 'min' instead.\n",
      "  df[\"minute\"] = df[\"timestamp\"].dt.floor(\"T\")  # 按分钟对齐\n"
     ]
    },
    {
     "name": "stdout",
     "output_type": "stream",
     "text": [
      "成功处理文件: DOGE-USDT-SWAP-aggtrades-2025-01-07.csv\n",
      "成功处理文件: DOGE-USDT-SWAP-aggtrades-2025-01-08.csv\n",
      "成功处理文件: DOGE-USDT-SWAP-aggtrades-2025-01-09.csv\n"
     ]
    },
    {
     "name": "stderr",
     "output_type": "stream",
     "text": [
      "c:\\Users\\36679\\Downloads\\daima\\COIN\\Data\\data_clean.py:19: FutureWarning: 'T' is deprecated and will be removed in a future version, please use 'min' instead.\n",
      "  df[\"minute\"] = df[\"timestamp\"].dt.floor(\"T\")  # 按分钟对齐\n",
      "c:\\Users\\36679\\Downloads\\daima\\COIN\\Data\\data_clean.py:19: FutureWarning: 'T' is deprecated and will be removed in a future version, please use 'min' instead.\n",
      "  df[\"minute\"] = df[\"timestamp\"].dt.floor(\"T\")  # 按分钟对齐\n",
      "c:\\Users\\36679\\Downloads\\daima\\COIN\\Data\\data_clean.py:19: FutureWarning: 'T' is deprecated and will be removed in a future version, please use 'min' instead.\n",
      "  df[\"minute\"] = df[\"timestamp\"].dt.floor(\"T\")  # 按分钟对齐\n",
      "c:\\Users\\36679\\Downloads\\daima\\COIN\\Data\\data_clean.py:19: FutureWarning: 'T' is deprecated and will be removed in a future version, please use 'min' instead.\n",
      "  df[\"minute\"] = df[\"timestamp\"].dt.floor(\"T\")  # 按分钟对齐\n"
     ]
    },
    {
     "name": "stdout",
     "output_type": "stream",
     "text": [
      "成功处理文件: DOGE-USDT-SWAP-aggtrades-2025-01-10.csv\n",
      "成功处理文件: DOGE-USDT-SWAP-aggtrades-2025-01-11.csv\n",
      "成功处理文件: DOGE-USDT-SWAP-aggtrades-2025-01-12.csv\n",
      "成功处理文件: DOGE-USDT-SWAP-aggtrades-2025-01-13.csv\n"
     ]
    },
    {
     "name": "stderr",
     "output_type": "stream",
     "text": [
      "c:\\Users\\36679\\Downloads\\daima\\COIN\\Data\\data_clean.py:19: FutureWarning: 'T' is deprecated and will be removed in a future version, please use 'min' instead.\n",
      "  df[\"minute\"] = df[\"timestamp\"].dt.floor(\"T\")  # 按分钟对齐\n",
      "c:\\Users\\36679\\Downloads\\daima\\COIN\\Data\\data_clean.py:19: FutureWarning: 'T' is deprecated and will be removed in a future version, please use 'min' instead.\n",
      "  df[\"minute\"] = df[\"timestamp\"].dt.floor(\"T\")  # 按分钟对齐\n",
      "c:\\Users\\36679\\Downloads\\daima\\COIN\\Data\\data_clean.py:19: FutureWarning: 'T' is deprecated and will be removed in a future version, please use 'min' instead.\n",
      "  df[\"minute\"] = df[\"timestamp\"].dt.floor(\"T\")  # 按分钟对齐\n"
     ]
    },
    {
     "name": "stdout",
     "output_type": "stream",
     "text": [
      "成功处理文件: DOGE-USDT-SWAP-aggtrades-2025-01-14.csv\n",
      "成功处理文件: DOGE-USDT-SWAP-aggtrades-2025-01-15.csv\n",
      "成功处理文件: DOGE-USDT-SWAP-aggtrades-2025-01-16.csv\n"
     ]
    },
    {
     "name": "stderr",
     "output_type": "stream",
     "text": [
      "c:\\Users\\36679\\Downloads\\daima\\COIN\\Data\\data_clean.py:19: FutureWarning: 'T' is deprecated and will be removed in a future version, please use 'min' instead.\n",
      "  df[\"minute\"] = df[\"timestamp\"].dt.floor(\"T\")  # 按分钟对齐\n",
      "c:\\Users\\36679\\Downloads\\daima\\COIN\\Data\\data_clean.py:19: FutureWarning: 'T' is deprecated and will be removed in a future version, please use 'min' instead.\n",
      "  df[\"minute\"] = df[\"timestamp\"].dt.floor(\"T\")  # 按分钟对齐\n",
      "c:\\Users\\36679\\Downloads\\daima\\COIN\\Data\\data_clean.py:19: FutureWarning: 'T' is deprecated and will be removed in a future version, please use 'min' instead.\n",
      "  df[\"minute\"] = df[\"timestamp\"].dt.floor(\"T\")  # 按分钟对齐\n"
     ]
    },
    {
     "name": "stdout",
     "output_type": "stream",
     "text": [
      "成功处理文件: DOGE-USDT-SWAP-aggtrades-2025-01-17.csv\n",
      "成功处理文件: DOGE-USDT-SWAP-aggtrades-2025-01-18.csv\n",
      "成功处理文件: DOGE-USDT-SWAP-aggtrades-2025-01-19.csv\n",
      "成功处理文件: DOGE-USDT-SWAP-aggtrades-2025-01-20.csv\n"
     ]
    },
    {
     "name": "stderr",
     "output_type": "stream",
     "text": [
      "c:\\Users\\36679\\Downloads\\daima\\COIN\\Data\\data_clean.py:19: FutureWarning: 'T' is deprecated and will be removed in a future version, please use 'min' instead.\n",
      "  df[\"minute\"] = df[\"timestamp\"].dt.floor(\"T\")  # 按分钟对齐\n",
      "c:\\Users\\36679\\Downloads\\daima\\COIN\\Data\\data_clean.py:19: FutureWarning: 'T' is deprecated and will be removed in a future version, please use 'min' instead.\n",
      "  df[\"minute\"] = df[\"timestamp\"].dt.floor(\"T\")  # 按分钟对齐\n"
     ]
    },
    {
     "name": "stdout",
     "output_type": "stream",
     "text": [
      "成功处理文件: DOGE-USDT-SWAP-aggtrades-2025-01-21.csv\n",
      "成功处理文件: DOGE-USDT-SWAP-aggtrades-2025-01-22.csv\n",
      "成功处理文件: DOGE-USDT-SWAP-aggtrades-2025-01-23.csv\n"
     ]
    },
    {
     "name": "stderr",
     "output_type": "stream",
     "text": [
      "c:\\Users\\36679\\Downloads\\daima\\COIN\\Data\\data_clean.py:19: FutureWarning: 'T' is deprecated and will be removed in a future version, please use 'min' instead.\n",
      "  df[\"minute\"] = df[\"timestamp\"].dt.floor(\"T\")  # 按分钟对齐\n",
      "c:\\Users\\36679\\Downloads\\daima\\COIN\\Data\\data_clean.py:19: FutureWarning: 'T' is deprecated and will be removed in a future version, please use 'min' instead.\n",
      "  df[\"minute\"] = df[\"timestamp\"].dt.floor(\"T\")  # 按分钟对齐\n",
      "c:\\Users\\36679\\Downloads\\daima\\COIN\\Data\\data_clean.py:19: FutureWarning: 'T' is deprecated and will be removed in a future version, please use 'min' instead.\n",
      "  df[\"minute\"] = df[\"timestamp\"].dt.floor(\"T\")  # 按分钟对齐\n"
     ]
    },
    {
     "name": "stdout",
     "output_type": "stream",
     "text": [
      "成功处理文件: DOGE-USDT-SWAP-aggtrades-2025-01-24.csv\n",
      "成功处理文件: DOGE-USDT-SWAP-aggtrades-2025-01-25.csv\n",
      "成功处理文件: DOGE-USDT-SWAP-aggtrades-2025-01-26.csv\n",
      "成功处理文件: DOGE-USDT-SWAP-aggtrades-2025-01-27.csv\n"
     ]
    },
    {
     "name": "stderr",
     "output_type": "stream",
     "text": [
      "c:\\Users\\36679\\Downloads\\daima\\COIN\\Data\\data_clean.py:19: FutureWarning: 'T' is deprecated and will be removed in a future version, please use 'min' instead.\n",
      "  df[\"minute\"] = df[\"timestamp\"].dt.floor(\"T\")  # 按分钟对齐\n",
      "c:\\Users\\36679\\Downloads\\daima\\COIN\\Data\\data_clean.py:19: FutureWarning: 'T' is deprecated and will be removed in a future version, please use 'min' instead.\n",
      "  df[\"minute\"] = df[\"timestamp\"].dt.floor(\"T\")  # 按分钟对齐\n",
      "c:\\Users\\36679\\Downloads\\daima\\COIN\\Data\\data_clean.py:19: FutureWarning: 'T' is deprecated and will be removed in a future version, please use 'min' instead.\n",
      "  df[\"minute\"] = df[\"timestamp\"].dt.floor(\"T\")  # 按分钟对齐\n",
      "c:\\Users\\36679\\Downloads\\daima\\COIN\\Data\\data_clean.py:19: FutureWarning: 'T' is deprecated and will be removed in a future version, please use 'min' instead.\n",
      "  df[\"minute\"] = df[\"timestamp\"].dt.floor(\"T\")  # 按分钟对齐\n"
     ]
    },
    {
     "name": "stdout",
     "output_type": "stream",
     "text": [
      "成功处理文件: DOGE-USDT-SWAP-aggtrades-2025-01-28.csv\n",
      "成功处理文件: DOGE-USDT-SWAP-aggtrades-2025-01-29.csv\n",
      "成功处理文件: DOGE-USDT-SWAP-aggtrades-2025-01-30.csv\n",
      "成功处理文件: DOGE-USDT-SWAP-aggtrades-2025-01-31.csv\n"
     ]
    },
    {
     "name": "stderr",
     "output_type": "stream",
     "text": [
      "c:\\Users\\36679\\Downloads\\daima\\COIN\\Data\\data_clean.py:19: FutureWarning: 'T' is deprecated and will be removed in a future version, please use 'min' instead.\n",
      "  df[\"minute\"] = df[\"timestamp\"].dt.floor(\"T\")  # 按分钟对齐\n",
      "c:\\Users\\36679\\Downloads\\daima\\COIN\\Data\\data_clean.py:19: FutureWarning: 'T' is deprecated and will be removed in a future version, please use 'min' instead.\n",
      "  df[\"minute\"] = df[\"timestamp\"].dt.floor(\"T\")  # 按分钟对齐\n",
      "c:\\Users\\36679\\Downloads\\daima\\COIN\\Data\\data_clean.py:19: FutureWarning: 'T' is deprecated and will be removed in a future version, please use 'min' instead.\n",
      "  df[\"minute\"] = df[\"timestamp\"].dt.floor(\"T\")  # 按分钟对齐\n",
      "c:\\Users\\36679\\Downloads\\daima\\COIN\\Data\\data_clean.py:19: FutureWarning: 'T' is deprecated and will be removed in a future version, please use 'min' instead.\n",
      "  df[\"minute\"] = df[\"timestamp\"].dt.floor(\"T\")  # 按分钟对齐\n"
     ]
    },
    {
     "name": "stdout",
     "output_type": "stream",
     "text": [
      "成功处理文件: DOGE-USDT-SWAP-aggtrades-2025-02-01.csv\n",
      "成功处理文件: DOGE-USDT-SWAP-aggtrades-2025-02-02.csv\n"
     ]
    },
    {
     "name": "stderr",
     "output_type": "stream",
     "text": [
      "c:\\Users\\36679\\Downloads\\daima\\COIN\\Data\\data_clean.py:19: FutureWarning: 'T' is deprecated and will be removed in a future version, please use 'min' instead.\n",
      "  df[\"minute\"] = df[\"timestamp\"].dt.floor(\"T\")  # 按分钟对齐\n",
      "c:\\Users\\36679\\Downloads\\daima\\COIN\\Data\\data_clean.py:19: FutureWarning: 'T' is deprecated and will be removed in a future version, please use 'min' instead.\n",
      "  df[\"minute\"] = df[\"timestamp\"].dt.floor(\"T\")  # 按分钟对齐\n"
     ]
    },
    {
     "name": "stdout",
     "output_type": "stream",
     "text": [
      "成功处理文件: DOGE-USDT-SWAP-aggtrades-2025-02-03.csv\n",
      "成功处理文件: DOGE-USDT-SWAP-aggtrades-2025-02-04.csv\n",
      "成功处理文件: DOGE-USDT-SWAP-aggtrades-2025-02-05.csv\n"
     ]
    },
    {
     "name": "stderr",
     "output_type": "stream",
     "text": [
      "c:\\Users\\36679\\Downloads\\daima\\COIN\\Data\\data_clean.py:19: FutureWarning: 'T' is deprecated and will be removed in a future version, please use 'min' instead.\n",
      "  df[\"minute\"] = df[\"timestamp\"].dt.floor(\"T\")  # 按分钟对齐\n",
      "c:\\Users\\36679\\Downloads\\daima\\COIN\\Data\\data_clean.py:19: FutureWarning: 'T' is deprecated and will be removed in a future version, please use 'min' instead.\n",
      "  df[\"minute\"] = df[\"timestamp\"].dt.floor(\"T\")  # 按分钟对齐\n",
      "c:\\Users\\36679\\Downloads\\daima\\COIN\\Data\\data_clean.py:19: FutureWarning: 'T' is deprecated and will be removed in a future version, please use 'min' instead.\n",
      "  df[\"minute\"] = df[\"timestamp\"].dt.floor(\"T\")  # 按分钟对齐\n",
      "c:\\Users\\36679\\Downloads\\daima\\COIN\\Data\\data_clean.py:19: FutureWarning: 'T' is deprecated and will be removed in a future version, please use 'min' instead.\n",
      "  df[\"minute\"] = df[\"timestamp\"].dt.floor(\"T\")  # 按分钟对齐\n"
     ]
    },
    {
     "name": "stdout",
     "output_type": "stream",
     "text": [
      "成功处理文件: DOGE-USDT-SWAP-aggtrades-2025-02-06.csv\n",
      "成功处理文件: DOGE-USDT-SWAP-aggtrades-2025-02-07.csv\n",
      "成功处理文件: DOGE-USDT-SWAP-aggtrades-2025-02-08.csv\n",
      "成功处理文件: DOGE-USDT-SWAP-aggtrades-2025-02-09.csv\n"
     ]
    },
    {
     "name": "stderr",
     "output_type": "stream",
     "text": [
      "c:\\Users\\36679\\Downloads\\daima\\COIN\\Data\\data_clean.py:19: FutureWarning: 'T' is deprecated and will be removed in a future version, please use 'min' instead.\n",
      "  df[\"minute\"] = df[\"timestamp\"].dt.floor(\"T\")  # 按分钟对齐\n",
      "c:\\Users\\36679\\Downloads\\daima\\COIN\\Data\\data_clean.py:19: FutureWarning: 'T' is deprecated and will be removed in a future version, please use 'min' instead.\n",
      "  df[\"minute\"] = df[\"timestamp\"].dt.floor(\"T\")  # 按分钟对齐\n",
      "c:\\Users\\36679\\Downloads\\daima\\COIN\\Data\\data_clean.py:19: FutureWarning: 'T' is deprecated and will be removed in a future version, please use 'min' instead.\n",
      "  df[\"minute\"] = df[\"timestamp\"].dt.floor(\"T\")  # 按分钟对齐\n",
      "c:\\Users\\36679\\Downloads\\daima\\COIN\\Data\\data_clean.py:19: FutureWarning: 'T' is deprecated and will be removed in a future version, please use 'min' instead.\n",
      "  df[\"minute\"] = df[\"timestamp\"].dt.floor(\"T\")  # 按分钟对齐\n"
     ]
    },
    {
     "name": "stdout",
     "output_type": "stream",
     "text": [
      "成功处理文件: DOGE-USDT-SWAP-aggtrades-2025-02-10.csv\n",
      "成功处理文件: DOGE-USDT-SWAP-aggtrades-2025-02-11.csv\n",
      "成功处理文件: DOGE-USDT-SWAP-aggtrades-2025-02-12.csv\n",
      "成功处理文件: DOGE-USDT-SWAP-aggtrades-2025-02-13.csv\n",
      "成功处理文件: DOGE-USDT-SWAP-aggtrades-2025-02-14.csv\n"
     ]
    },
    {
     "name": "stderr",
     "output_type": "stream",
     "text": [
      "c:\\Users\\36679\\Downloads\\daima\\COIN\\Data\\data_clean.py:19: FutureWarning: 'T' is deprecated and will be removed in a future version, please use 'min' instead.\n",
      "  df[\"minute\"] = df[\"timestamp\"].dt.floor(\"T\")  # 按分钟对齐\n",
      "c:\\Users\\36679\\Downloads\\daima\\COIN\\Data\\data_clean.py:19: FutureWarning: 'T' is deprecated and will be removed in a future version, please use 'min' instead.\n",
      "  df[\"minute\"] = df[\"timestamp\"].dt.floor(\"T\")  # 按分钟对齐\n",
      "c:\\Users\\36679\\Downloads\\daima\\COIN\\Data\\data_clean.py:19: FutureWarning: 'T' is deprecated and will be removed in a future version, please use 'min' instead.\n",
      "  df[\"minute\"] = df[\"timestamp\"].dt.floor(\"T\")  # 按分钟对齐\n",
      "c:\\Users\\36679\\Downloads\\daima\\COIN\\Data\\data_clean.py:19: FutureWarning: 'T' is deprecated and will be removed in a future version, please use 'min' instead.\n",
      "  df[\"minute\"] = df[\"timestamp\"].dt.floor(\"T\")  # 按分钟对齐\n"
     ]
    },
    {
     "name": "stdout",
     "output_type": "stream",
     "text": [
      "成功处理文件: DOGE-USDT-SWAP-aggtrades-2025-02-15.csv\n",
      "成功处理文件: DOGE-USDT-SWAP-aggtrades-2025-02-16.csv\n",
      "成功处理文件: DOGE-USDT-SWAP-aggtrades-2025-02-17.csv\n",
      "成功处理文件: DOGE-USDT-SWAP-aggtrades-2025-02-18.csv\n",
      "成功处理文件: DOGE-USDT-SWAP-aggtrades-2025-02-19.csv\n"
     ]
    },
    {
     "name": "stderr",
     "output_type": "stream",
     "text": [
      "c:\\Users\\36679\\Downloads\\daima\\COIN\\Data\\data_clean.py:19: FutureWarning: 'T' is deprecated and will be removed in a future version, please use 'min' instead.\n",
      "  df[\"minute\"] = df[\"timestamp\"].dt.floor(\"T\")  # 按分钟对齐\n",
      "c:\\Users\\36679\\Downloads\\daima\\COIN\\Data\\data_clean.py:19: FutureWarning: 'T' is deprecated and will be removed in a future version, please use 'min' instead.\n",
      "  df[\"minute\"] = df[\"timestamp\"].dt.floor(\"T\")  # 按分钟对齐\n",
      "c:\\Users\\36679\\Downloads\\daima\\COIN\\Data\\data_clean.py:19: FutureWarning: 'T' is deprecated and will be removed in a future version, please use 'min' instead.\n",
      "  df[\"minute\"] = df[\"timestamp\"].dt.floor(\"T\")  # 按分钟对齐\n",
      "c:\\Users\\36679\\Downloads\\daima\\COIN\\Data\\data_clean.py:19: FutureWarning: 'T' is deprecated and will be removed in a future version, please use 'min' instead.\n",
      "  df[\"minute\"] = df[\"timestamp\"].dt.floor(\"T\")  # 按分钟对齐\n",
      "c:\\Users\\36679\\Downloads\\daima\\COIN\\Data\\data_clean.py:19: FutureWarning: 'T' is deprecated and will be removed in a future version, please use 'min' instead.\n",
      "  df[\"minute\"] = df[\"timestamp\"].dt.floor(\"T\")  # 按分钟对齐\n"
     ]
    },
    {
     "name": "stdout",
     "output_type": "stream",
     "text": [
      "成功处理文件: DOGE-USDT-SWAP-aggtrades-2025-02-20.csv\n",
      "成功处理文件: DOGE-USDT-SWAP-aggtrades-2025-02-21.csv\n",
      "成功处理文件: DOGE-USDT-SWAP-aggtrades-2025-02-22.csv\n",
      "成功处理文件: DOGE-USDT-SWAP-aggtrades-2025-02-23.csv\n",
      "成功处理文件: DOGE-USDT-SWAP-aggtrades-2025-02-24.csv\n"
     ]
    },
    {
     "name": "stderr",
     "output_type": "stream",
     "text": [
      "c:\\Users\\36679\\Downloads\\daima\\COIN\\Data\\data_clean.py:19: FutureWarning: 'T' is deprecated and will be removed in a future version, please use 'min' instead.\n",
      "  df[\"minute\"] = df[\"timestamp\"].dt.floor(\"T\")  # 按分钟对齐\n",
      "c:\\Users\\36679\\Downloads\\daima\\COIN\\Data\\data_clean.py:19: FutureWarning: 'T' is deprecated and will be removed in a future version, please use 'min' instead.\n",
      "  df[\"minute\"] = df[\"timestamp\"].dt.floor(\"T\")  # 按分钟对齐\n",
      "c:\\Users\\36679\\Downloads\\daima\\COIN\\Data\\data_clean.py:19: FutureWarning: 'T' is deprecated and will be removed in a future version, please use 'min' instead.\n",
      "  df[\"minute\"] = df[\"timestamp\"].dt.floor(\"T\")  # 按分钟对齐\n",
      "c:\\Users\\36679\\Downloads\\daima\\COIN\\Data\\data_clean.py:19: FutureWarning: 'T' is deprecated and will be removed in a future version, please use 'min' instead.\n",
      "  df[\"minute\"] = df[\"timestamp\"].dt.floor(\"T\")  # 按分钟对齐\n",
      "c:\\Users\\36679\\Downloads\\daima\\COIN\\Data\\data_clean.py:19: FutureWarning: 'T' is deprecated and will be removed in a future version, please use 'min' instead.\n",
      "  df[\"minute\"] = df[\"timestamp\"].dt.floor(\"T\")  # 按分钟对齐\n"
     ]
    },
    {
     "name": "stdout",
     "output_type": "stream",
     "text": [
      "成功处理文件: DOGE-USDT-SWAP-aggtrades-2025-02-25.csv\n",
      "成功处理文件: DOGE-USDT-SWAP-aggtrades-2025-02-26.csv\n",
      "成功处理文件: DOGE-USDT-SWAP-aggtrades-2025-02-27.csv\n",
      "成功处理文件: DOGE-USDT-SWAP-aggtrades-2025-02-28.csv\n"
     ]
    },
    {
     "name": "stderr",
     "output_type": "stream",
     "text": [
      "c:\\Users\\36679\\Downloads\\daima\\COIN\\Data\\data_clean.py:19: FutureWarning: 'T' is deprecated and will be removed in a future version, please use 'min' instead.\n",
      "  df[\"minute\"] = df[\"timestamp\"].dt.floor(\"T\")  # 按分钟对齐\n",
      "c:\\Users\\36679\\Downloads\\daima\\COIN\\Data\\data_clean.py:19: FutureWarning: 'T' is deprecated and will be removed in a future version, please use 'min' instead.\n",
      "  df[\"minute\"] = df[\"timestamp\"].dt.floor(\"T\")  # 按分钟对齐\n",
      "c:\\Users\\36679\\Downloads\\daima\\COIN\\Data\\data_clean.py:19: FutureWarning: 'T' is deprecated and will be removed in a future version, please use 'min' instead.\n",
      "  df[\"minute\"] = df[\"timestamp\"].dt.floor(\"T\")  # 按分钟对齐\n",
      "c:\\Users\\36679\\Downloads\\daima\\COIN\\Data\\data_clean.py:19: FutureWarning: 'T' is deprecated and will be removed in a future version, please use 'min' instead.\n",
      "  df[\"minute\"] = df[\"timestamp\"].dt.floor(\"T\")  # 按分钟对齐\n"
     ]
    },
    {
     "name": "stdout",
     "output_type": "stream",
     "text": [
      "成功处理文件: DOGE-USDT-SWAP-aggtrades-2025-03-01.csv\n",
      "成功处理文件: DOGE-USDT-SWAP-aggtrades-2025-03-02.csv\n",
      "成功处理文件: DOGE-USDT-SWAP-aggtrades-2025-03-03.csv\n"
     ]
    },
    {
     "name": "stderr",
     "output_type": "stream",
     "text": [
      "c:\\Users\\36679\\Downloads\\daima\\COIN\\Data\\data_clean.py:19: FutureWarning: 'T' is deprecated and will be removed in a future version, please use 'min' instead.\n",
      "  df[\"minute\"] = df[\"timestamp\"].dt.floor(\"T\")  # 按分钟对齐\n",
      "c:\\Users\\36679\\Downloads\\daima\\COIN\\Data\\data_clean.py:19: FutureWarning: 'T' is deprecated and will be removed in a future version, please use 'min' instead.\n",
      "  df[\"minute\"] = df[\"timestamp\"].dt.floor(\"T\")  # 按分钟对齐\n",
      "c:\\Users\\36679\\Downloads\\daima\\COIN\\Data\\data_clean.py:19: FutureWarning: 'T' is deprecated and will be removed in a future version, please use 'min' instead.\n",
      "  df[\"minute\"] = df[\"timestamp\"].dt.floor(\"T\")  # 按分钟对齐\n"
     ]
    },
    {
     "name": "stdout",
     "output_type": "stream",
     "text": [
      "成功处理文件: DOGE-USDT-SWAP-aggtrades-2025-03-04.csv\n",
      "成功处理文件: DOGE-USDT-SWAP-aggtrades-2025-03-05.csv\n"
     ]
    },
    {
     "name": "stderr",
     "output_type": "stream",
     "text": [
      "c:\\Users\\36679\\Downloads\\daima\\COIN\\Data\\data_clean.py:19: FutureWarning: 'T' is deprecated and will be removed in a future version, please use 'min' instead.\n",
      "  df[\"minute\"] = df[\"timestamp\"].dt.floor(\"T\")  # 按分钟对齐\n"
     ]
    },
    {
     "name": "stdout",
     "output_type": "stream",
     "text": [
      "所有 CSV 文件合并完成，输出文件: merged_kline.csv\n"
     ]
    }
   ],
   "source": [
    "import os\n",
    "import pandas as pd\n",
    "from data_clean import KlineProcessor\n",
    "\n",
    "def process_all_csv_in_folder(folder_path, output_file, encoding=\"GBK\"):\n",
    "    \"\"\"\n",
    "    批量处理指定文件夹内的所有 CSV 文件，并合并为一个大 CSV 文件。\n",
    "    \n",
    "    :param folder_path: 包含 CSV 文件的文件夹路径\n",
    "    :param output_file: 合并后的 CSV 输出文件路径\n",
    "    :param encoding: CSV 文件编码，默认 GBK\n",
    "    \"\"\"\n",
    "    all_kline_dfs = []\n",
    "    \n",
    "    # 遍历文件夹中的所有 CSV 文件\n",
    "    for file_name in os.listdir(folder_path):\n",
    "        if file_name.endswith(\".csv\"):  # 确保是 CSV 文件\n",
    "            file_path = os.path.join(folder_path, file_name)\n",
    "            \n",
    "            try:\n",
    "                # 使用 KlineProcessor 处理文件\n",
    "                processor = KlineProcessor(file_path, encoding=encoding)\n",
    "                kline_df = processor.get_kline_df()\n",
    "                \n",
    "                # 记录文件来源\n",
    "                kline_df[\"source_file\"] = file_name\n",
    "                \n",
    "                all_kline_dfs.append(kline_df)\n",
    "                print(f\"成功处理文件: {file_name}\")\n",
    "            except Exception as e:\n",
    "                print(f\"处理文件 {file_name} 时出错: {e}\")\n",
    "    \n",
    "    # 合并所有数据\n",
    "    if all_kline_dfs:\n",
    "        combined_df = pd.concat(all_kline_dfs, ignore_index=True)\n",
    "        combined_df.to_csv(output_file, index=False, encoding=encoding)\n",
    "        print(f\"所有 CSV 文件合并完成，输出文件: {output_file}\")\n",
    "    else:\n",
    "        print(\"未找到有效的 CSV 文件或处理失败！\")\n",
    "\n",
    "# 使用示例\n",
    "folder_path = \"DOGE\"  # 你的文件夹路径\n",
    "output_file = \"merged_kline.csv\"  # 合并后的 CSV 文件\n",
    "process_all_csv_in_folder(folder_path, output_file)\n"
   ]
  },
  {
   "cell_type": "code",
   "execution_count": 5,
   "metadata": {},
   "outputs": [
    {
     "data": {
      "text/html": [
       "<div>\n",
       "<style scoped>\n",
       "    .dataframe tbody tr th:only-of-type {\n",
       "        vertical-align: middle;\n",
       "    }\n",
       "\n",
       "    .dataframe tbody tr th {\n",
       "        vertical-align: top;\n",
       "    }\n",
       "\n",
       "    .dataframe thead th {\n",
       "        text-align: right;\n",
       "    }\n",
       "</style>\n",
       "<table border=\"1\" class=\"dataframe\">\n",
       "  <thead>\n",
       "    <tr style=\"text-align: right;\">\n",
       "      <th></th>\n",
       "      <th>timestamp</th>\n",
       "      <th>open</th>\n",
       "      <th>high</th>\n",
       "      <th>low</th>\n",
       "      <th>close</th>\n",
       "      <th>vol</th>\n",
       "      <th>source_file</th>\n",
       "    </tr>\n",
       "  </thead>\n",
       "  <tbody>\n",
       "    <tr>\n",
       "      <th>0</th>\n",
       "      <td>2024-12-15 16:00:00</td>\n",
       "      <td>0.40291</td>\n",
       "      <td>0.40362</td>\n",
       "      <td>0.40291</td>\n",
       "      <td>0.40362</td>\n",
       "      <td>853.80</td>\n",
       "      <td>DOGE-USDT-SWAP-aggtrades-2024-12-16.csv</td>\n",
       "    </tr>\n",
       "    <tr>\n",
       "      <th>1</th>\n",
       "      <td>2024-12-15 16:01:00</td>\n",
       "      <td>0.40220</td>\n",
       "      <td>0.40358</td>\n",
       "      <td>0.40220</td>\n",
       "      <td>0.40358</td>\n",
       "      <td>4829.30</td>\n",
       "      <td>DOGE-USDT-SWAP-aggtrades-2024-12-16.csv</td>\n",
       "    </tr>\n",
       "    <tr>\n",
       "      <th>2</th>\n",
       "      <td>2024-12-15 16:02:00</td>\n",
       "      <td>0.40222</td>\n",
       "      <td>0.40265</td>\n",
       "      <td>0.40222</td>\n",
       "      <td>0.40265</td>\n",
       "      <td>3549.10</td>\n",
       "      <td>DOGE-USDT-SWAP-aggtrades-2024-12-16.csv</td>\n",
       "    </tr>\n",
       "    <tr>\n",
       "      <th>3</th>\n",
       "      <td>2024-12-15 16:03:00</td>\n",
       "      <td>0.40220</td>\n",
       "      <td>0.40279</td>\n",
       "      <td>0.40220</td>\n",
       "      <td>0.40278</td>\n",
       "      <td>3401.10</td>\n",
       "      <td>DOGE-USDT-SWAP-aggtrades-2024-12-16.csv</td>\n",
       "    </tr>\n",
       "    <tr>\n",
       "      <th>4</th>\n",
       "      <td>2024-12-15 16:04:00</td>\n",
       "      <td>0.40262</td>\n",
       "      <td>0.40300</td>\n",
       "      <td>0.40262</td>\n",
       "      <td>0.40300</td>\n",
       "      <td>2144.70</td>\n",
       "      <td>DOGE-USDT-SWAP-aggtrades-2024-12-16.csv</td>\n",
       "    </tr>\n",
       "    <tr>\n",
       "      <th>...</th>\n",
       "      <td>...</td>\n",
       "      <td>...</td>\n",
       "      <td>...</td>\n",
       "      <td>...</td>\n",
       "      <td>...</td>\n",
       "      <td>...</td>\n",
       "      <td>...</td>\n",
       "    </tr>\n",
       "    <tr>\n",
       "      <th>115195</th>\n",
       "      <td>2025-03-05 15:55:00</td>\n",
       "      <td>0.19993</td>\n",
       "      <td>0.20025</td>\n",
       "      <td>0.19992</td>\n",
       "      <td>0.20024</td>\n",
       "      <td>3815.17</td>\n",
       "      <td>DOGE-USDT-SWAP-aggtrades-2025-03-05.csv</td>\n",
       "    </tr>\n",
       "    <tr>\n",
       "      <th>115196</th>\n",
       "      <td>2025-03-05 15:56:00</td>\n",
       "      <td>0.19979</td>\n",
       "      <td>0.20011</td>\n",
       "      <td>0.19979</td>\n",
       "      <td>0.20011</td>\n",
       "      <td>905.14</td>\n",
       "      <td>DOGE-USDT-SWAP-aggtrades-2025-03-05.csv</td>\n",
       "    </tr>\n",
       "    <tr>\n",
       "      <th>115197</th>\n",
       "      <td>2025-03-05 15:57:00</td>\n",
       "      <td>0.19973</td>\n",
       "      <td>0.20002</td>\n",
       "      <td>0.19972</td>\n",
       "      <td>0.20001</td>\n",
       "      <td>870.16</td>\n",
       "      <td>DOGE-USDT-SWAP-aggtrades-2025-03-05.csv</td>\n",
       "    </tr>\n",
       "    <tr>\n",
       "      <th>115198</th>\n",
       "      <td>2025-03-05 15:58:00</td>\n",
       "      <td>0.19986</td>\n",
       "      <td>0.20016</td>\n",
       "      <td>0.19986</td>\n",
       "      <td>0.20016</td>\n",
       "      <td>610.83</td>\n",
       "      <td>DOGE-USDT-SWAP-aggtrades-2025-03-05.csv</td>\n",
       "    </tr>\n",
       "    <tr>\n",
       "      <th>115199</th>\n",
       "      <td>2025-03-05 15:59:00</td>\n",
       "      <td>0.19961</td>\n",
       "      <td>0.19987</td>\n",
       "      <td>0.19960</td>\n",
       "      <td>0.19987</td>\n",
       "      <td>1615.48</td>\n",
       "      <td>DOGE-USDT-SWAP-aggtrades-2025-03-05.csv</td>\n",
       "    </tr>\n",
       "  </tbody>\n",
       "</table>\n",
       "<p>115200 rows × 7 columns</p>\n",
       "</div>"
      ],
      "text/plain": [
       "                  timestamp     open     high      low    close      vol  \\\n",
       "0       2024-12-15 16:00:00  0.40291  0.40362  0.40291  0.40362   853.80   \n",
       "1       2024-12-15 16:01:00  0.40220  0.40358  0.40220  0.40358  4829.30   \n",
       "2       2024-12-15 16:02:00  0.40222  0.40265  0.40222  0.40265  3549.10   \n",
       "3       2024-12-15 16:03:00  0.40220  0.40279  0.40220  0.40278  3401.10   \n",
       "4       2024-12-15 16:04:00  0.40262  0.40300  0.40262  0.40300  2144.70   \n",
       "...                     ...      ...      ...      ...      ...      ...   \n",
       "115195  2025-03-05 15:55:00  0.19993  0.20025  0.19992  0.20024  3815.17   \n",
       "115196  2025-03-05 15:56:00  0.19979  0.20011  0.19979  0.20011   905.14   \n",
       "115197  2025-03-05 15:57:00  0.19973  0.20002  0.19972  0.20001   870.16   \n",
       "115198  2025-03-05 15:58:00  0.19986  0.20016  0.19986  0.20016   610.83   \n",
       "115199  2025-03-05 15:59:00  0.19961  0.19987  0.19960  0.19987  1615.48   \n",
       "\n",
       "                                    source_file  \n",
       "0       DOGE-USDT-SWAP-aggtrades-2024-12-16.csv  \n",
       "1       DOGE-USDT-SWAP-aggtrades-2024-12-16.csv  \n",
       "2       DOGE-USDT-SWAP-aggtrades-2024-12-16.csv  \n",
       "3       DOGE-USDT-SWAP-aggtrades-2024-12-16.csv  \n",
       "4       DOGE-USDT-SWAP-aggtrades-2024-12-16.csv  \n",
       "...                                         ...  \n",
       "115195  DOGE-USDT-SWAP-aggtrades-2025-03-05.csv  \n",
       "115196  DOGE-USDT-SWAP-aggtrades-2025-03-05.csv  \n",
       "115197  DOGE-USDT-SWAP-aggtrades-2025-03-05.csv  \n",
       "115198  DOGE-USDT-SWAP-aggtrades-2025-03-05.csv  \n",
       "115199  DOGE-USDT-SWAP-aggtrades-2025-03-05.csv  \n",
       "\n",
       "[115200 rows x 7 columns]"
      ]
     },
     "execution_count": 5,
     "metadata": {},
     "output_type": "execute_result"
    }
   ],
   "source": [
    "df=pd.read_csv(\"merged_kline.csv\")\n",
    "df"
   ]
  },
  {
   "cell_type": "code",
   "execution_count": null,
   "metadata": {},
   "outputs": [],
   "source": []
  },
  {
   "cell_type": "code",
   "execution_count": null,
   "metadata": {},
   "outputs": [],
   "source": []
  }
 ],
 "metadata": {
  "kernelspec": {
   "display_name": "coin",
   "language": "python",
   "name": "python3"
  },
  "language_info": {
   "codemirror_mode": {
    "name": "ipython",
    "version": 3
   },
   "file_extension": ".py",
   "mimetype": "text/x-python",
   "name": "python",
   "nbconvert_exporter": "python",
   "pygments_lexer": "ipython3",
   "version": "3.11.4"
  }
 },
 "nbformat": 4,
 "nbformat_minor": 2
}
