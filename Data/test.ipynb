{
 "cells": [
  {
   "cell_type": "code",
   "execution_count": 1,
   "metadata": {},
   "outputs": [
    {
     "ename": "UnicodeDecodeError",
     "evalue": "'utf-8' codec can't decode byte 0xb4 in position 9: invalid start byte",
     "output_type": "error",
     "traceback": [
      "\u001b[1;31m---------------------------------------------------------------------------\u001b[0m",
      "\u001b[1;31mUnicodeDecodeError\u001b[0m                        Traceback (most recent call last)",
      "Cell \u001b[1;32mIn[1], line 2\u001b[0m\n\u001b[0;32m      1\u001b[0m \u001b[38;5;28;01mimport\u001b[39;00m\u001b[38;5;250m \u001b[39m\u001b[38;5;21;01mpandas\u001b[39;00m\u001b[38;5;250m \u001b[39m\u001b[38;5;28;01mas\u001b[39;00m\u001b[38;5;250m \u001b[39m\u001b[38;5;21;01mpd\u001b[39;00m\n\u001b[1;32m----> 2\u001b[0m df\u001b[38;5;241m=\u001b[39m \u001b[43mpd\u001b[49m\u001b[38;5;241;43m.\u001b[39;49m\u001b[43mread_csv\u001b[49m\u001b[43m(\u001b[49m\u001b[38;5;124;43m'\u001b[39;49m\u001b[38;5;124;43mDOGE/DOGE-USDT-SWAP-aggtrades-2024-12-16.csv\u001b[39;49m\u001b[38;5;124;43m'\u001b[39;49m\u001b[43m)\u001b[49m\n\u001b[0;32m      3\u001b[0m df\n",
      "File \u001b[1;32mc:\\Users\\36679\\Downloads\\daima\\COIN\\coin\\Lib\\site-packages\\pandas\\io\\parsers\\readers.py:1026\u001b[0m, in \u001b[0;36mread_csv\u001b[1;34m(filepath_or_buffer, sep, delimiter, header, names, index_col, usecols, dtype, engine, converters, true_values, false_values, skipinitialspace, skiprows, skipfooter, nrows, na_values, keep_default_na, na_filter, verbose, skip_blank_lines, parse_dates, infer_datetime_format, keep_date_col, date_parser, date_format, dayfirst, cache_dates, iterator, chunksize, compression, thousands, decimal, lineterminator, quotechar, quoting, doublequote, escapechar, comment, encoding, encoding_errors, dialect, on_bad_lines, delim_whitespace, low_memory, memory_map, float_precision, storage_options, dtype_backend)\u001b[0m\n\u001b[0;32m   1013\u001b[0m kwds_defaults \u001b[38;5;241m=\u001b[39m _refine_defaults_read(\n\u001b[0;32m   1014\u001b[0m     dialect,\n\u001b[0;32m   1015\u001b[0m     delimiter,\n\u001b[1;32m   (...)\u001b[0m\n\u001b[0;32m   1022\u001b[0m     dtype_backend\u001b[38;5;241m=\u001b[39mdtype_backend,\n\u001b[0;32m   1023\u001b[0m )\n\u001b[0;32m   1024\u001b[0m kwds\u001b[38;5;241m.\u001b[39mupdate(kwds_defaults)\n\u001b[1;32m-> 1026\u001b[0m \u001b[38;5;28;01mreturn\u001b[39;00m \u001b[43m_read\u001b[49m\u001b[43m(\u001b[49m\u001b[43mfilepath_or_buffer\u001b[49m\u001b[43m,\u001b[49m\u001b[43m \u001b[49m\u001b[43mkwds\u001b[49m\u001b[43m)\u001b[49m\n",
      "File \u001b[1;32mc:\\Users\\36679\\Downloads\\daima\\COIN\\coin\\Lib\\site-packages\\pandas\\io\\parsers\\readers.py:620\u001b[0m, in \u001b[0;36m_read\u001b[1;34m(filepath_or_buffer, kwds)\u001b[0m\n\u001b[0;32m    617\u001b[0m _validate_names(kwds\u001b[38;5;241m.\u001b[39mget(\u001b[38;5;124m\"\u001b[39m\u001b[38;5;124mnames\u001b[39m\u001b[38;5;124m\"\u001b[39m, \u001b[38;5;28;01mNone\u001b[39;00m))\n\u001b[0;32m    619\u001b[0m \u001b[38;5;66;03m# Create the parser.\u001b[39;00m\n\u001b[1;32m--> 620\u001b[0m parser \u001b[38;5;241m=\u001b[39m \u001b[43mTextFileReader\u001b[49m\u001b[43m(\u001b[49m\u001b[43mfilepath_or_buffer\u001b[49m\u001b[43m,\u001b[49m\u001b[43m \u001b[49m\u001b[38;5;241;43m*\u001b[39;49m\u001b[38;5;241;43m*\u001b[39;49m\u001b[43mkwds\u001b[49m\u001b[43m)\u001b[49m\n\u001b[0;32m    622\u001b[0m \u001b[38;5;28;01mif\u001b[39;00m chunksize \u001b[38;5;129;01mor\u001b[39;00m iterator:\n\u001b[0;32m    623\u001b[0m     \u001b[38;5;28;01mreturn\u001b[39;00m parser\n",
      "File \u001b[1;32mc:\\Users\\36679\\Downloads\\daima\\COIN\\coin\\Lib\\site-packages\\pandas\\io\\parsers\\readers.py:1620\u001b[0m, in \u001b[0;36mTextFileReader.__init__\u001b[1;34m(self, f, engine, **kwds)\u001b[0m\n\u001b[0;32m   1617\u001b[0m     \u001b[38;5;28mself\u001b[39m\u001b[38;5;241m.\u001b[39moptions[\u001b[38;5;124m\"\u001b[39m\u001b[38;5;124mhas_index_names\u001b[39m\u001b[38;5;124m\"\u001b[39m] \u001b[38;5;241m=\u001b[39m kwds[\u001b[38;5;124m\"\u001b[39m\u001b[38;5;124mhas_index_names\u001b[39m\u001b[38;5;124m\"\u001b[39m]\n\u001b[0;32m   1619\u001b[0m \u001b[38;5;28mself\u001b[39m\u001b[38;5;241m.\u001b[39mhandles: IOHandles \u001b[38;5;241m|\u001b[39m \u001b[38;5;28;01mNone\u001b[39;00m \u001b[38;5;241m=\u001b[39m \u001b[38;5;28;01mNone\u001b[39;00m\n\u001b[1;32m-> 1620\u001b[0m \u001b[38;5;28mself\u001b[39m\u001b[38;5;241m.\u001b[39m_engine \u001b[38;5;241m=\u001b[39m \u001b[38;5;28;43mself\u001b[39;49m\u001b[38;5;241;43m.\u001b[39;49m\u001b[43m_make_engine\u001b[49m\u001b[43m(\u001b[49m\u001b[43mf\u001b[49m\u001b[43m,\u001b[49m\u001b[43m \u001b[49m\u001b[38;5;28;43mself\u001b[39;49m\u001b[38;5;241;43m.\u001b[39;49m\u001b[43mengine\u001b[49m\u001b[43m)\u001b[49m\n",
      "File \u001b[1;32mc:\\Users\\36679\\Downloads\\daima\\COIN\\coin\\Lib\\site-packages\\pandas\\io\\parsers\\readers.py:1898\u001b[0m, in \u001b[0;36mTextFileReader._make_engine\u001b[1;34m(self, f, engine)\u001b[0m\n\u001b[0;32m   1895\u001b[0m     \u001b[38;5;28;01mraise\u001b[39;00m \u001b[38;5;167;01mValueError\u001b[39;00m(msg)\n\u001b[0;32m   1897\u001b[0m \u001b[38;5;28;01mtry\u001b[39;00m:\n\u001b[1;32m-> 1898\u001b[0m     \u001b[38;5;28;01mreturn\u001b[39;00m \u001b[43mmapping\u001b[49m\u001b[43m[\u001b[49m\u001b[43mengine\u001b[49m\u001b[43m]\u001b[49m\u001b[43m(\u001b[49m\u001b[43mf\u001b[49m\u001b[43m,\u001b[49m\u001b[43m \u001b[49m\u001b[38;5;241;43m*\u001b[39;49m\u001b[38;5;241;43m*\u001b[39;49m\u001b[38;5;28;43mself\u001b[39;49m\u001b[38;5;241;43m.\u001b[39;49m\u001b[43moptions\u001b[49m\u001b[43m)\u001b[49m\n\u001b[0;32m   1899\u001b[0m \u001b[38;5;28;01mexcept\u001b[39;00m \u001b[38;5;167;01mException\u001b[39;00m:\n\u001b[0;32m   1900\u001b[0m     \u001b[38;5;28;01mif\u001b[39;00m \u001b[38;5;28mself\u001b[39m\u001b[38;5;241m.\u001b[39mhandles \u001b[38;5;129;01mis\u001b[39;00m \u001b[38;5;129;01mnot\u001b[39;00m \u001b[38;5;28;01mNone\u001b[39;00m:\n",
      "File \u001b[1;32mc:\\Users\\36679\\Downloads\\daima\\COIN\\coin\\Lib\\site-packages\\pandas\\io\\parsers\\c_parser_wrapper.py:93\u001b[0m, in \u001b[0;36mCParserWrapper.__init__\u001b[1;34m(self, src, **kwds)\u001b[0m\n\u001b[0;32m     90\u001b[0m \u001b[38;5;28;01mif\u001b[39;00m kwds[\u001b[38;5;124m\"\u001b[39m\u001b[38;5;124mdtype_backend\u001b[39m\u001b[38;5;124m\"\u001b[39m] \u001b[38;5;241m==\u001b[39m \u001b[38;5;124m\"\u001b[39m\u001b[38;5;124mpyarrow\u001b[39m\u001b[38;5;124m\"\u001b[39m:\n\u001b[0;32m     91\u001b[0m     \u001b[38;5;66;03m# Fail here loudly instead of in cython after reading\u001b[39;00m\n\u001b[0;32m     92\u001b[0m     import_optional_dependency(\u001b[38;5;124m\"\u001b[39m\u001b[38;5;124mpyarrow\u001b[39m\u001b[38;5;124m\"\u001b[39m)\n\u001b[1;32m---> 93\u001b[0m \u001b[38;5;28mself\u001b[39m\u001b[38;5;241m.\u001b[39m_reader \u001b[38;5;241m=\u001b[39m \u001b[43mparsers\u001b[49m\u001b[38;5;241;43m.\u001b[39;49m\u001b[43mTextReader\u001b[49m\u001b[43m(\u001b[49m\u001b[43msrc\u001b[49m\u001b[43m,\u001b[49m\u001b[43m \u001b[49m\u001b[38;5;241;43m*\u001b[39;49m\u001b[38;5;241;43m*\u001b[39;49m\u001b[43mkwds\u001b[49m\u001b[43m)\u001b[49m\n\u001b[0;32m     95\u001b[0m \u001b[38;5;28mself\u001b[39m\u001b[38;5;241m.\u001b[39munnamed_cols \u001b[38;5;241m=\u001b[39m \u001b[38;5;28mself\u001b[39m\u001b[38;5;241m.\u001b[39m_reader\u001b[38;5;241m.\u001b[39munnamed_cols\n\u001b[0;32m     97\u001b[0m \u001b[38;5;66;03m# error: Cannot determine type of 'names'\u001b[39;00m\n",
      "File \u001b[1;32mparsers.pyx:574\u001b[0m, in \u001b[0;36mpandas._libs.parsers.TextReader.__cinit__\u001b[1;34m()\u001b[0m\n",
      "File \u001b[1;32mparsers.pyx:663\u001b[0m, in \u001b[0;36mpandas._libs.parsers.TextReader._get_header\u001b[1;34m()\u001b[0m\n",
      "File \u001b[1;32mparsers.pyx:874\u001b[0m, in \u001b[0;36mpandas._libs.parsers.TextReader._tokenize_rows\u001b[1;34m()\u001b[0m\n",
      "File \u001b[1;32mparsers.pyx:891\u001b[0m, in \u001b[0;36mpandas._libs.parsers.TextReader._check_tokenize_status\u001b[1;34m()\u001b[0m\n",
      "File \u001b[1;32mparsers.pyx:2053\u001b[0m, in \u001b[0;36mpandas._libs.parsers.raise_parser_error\u001b[1;34m()\u001b[0m\n",
      "\u001b[1;31mUnicodeDecodeError\u001b[0m: 'utf-8' codec can't decode byte 0xb4 in position 9: invalid start byte"
     ]
    }
   ],
   "source": [
    "import pandas as pd\n",
    "df= pd.read_csv('DOGE/DOGE-USDT-SWAP-aggtrades-2024-12-16.csv')\n",
    "df"
   ]
  },
  {
   "cell_type": "code",
   "execution_count": 1,
   "metadata": {},
   "outputs": [
    {
     "name": "stderr",
     "output_type": "stream",
     "text": [
      "c:\\Users\\qianz\\Desktop\\Untitled Folder\\COIN\\Data\\data_clean.py:19: FutureWarning: 'T' is deprecated and will be removed in a future version, please use 'min' instead.\n",
      "  df[\"minute\"] = df[\"timestamp\"].dt.floor(\"T\")  # 按分钟对齐\n",
      "c:\\Users\\qianz\\Desktop\\Untitled Folder\\COIN\\Data\\data_clean.py:19: FutureWarning: 'T' is deprecated and will be removed in a future version, please use 'min' instead.\n",
      "  df[\"minute\"] = df[\"timestamp\"].dt.floor(\"T\")  # 按分钟对齐\n",
      "c:\\Users\\qianz\\Desktop\\Untitled Folder\\COIN\\Data\\data_clean.py:19: FutureWarning: 'T' is deprecated and will be removed in a future version, please use 'min' instead.\n",
      "  df[\"minute\"] = df[\"timestamp\"].dt.floor(\"T\")  # 按分钟对齐\n",
      "c:\\Users\\qianz\\Desktop\\Untitled Folder\\COIN\\Data\\data_clean.py:19: FutureWarning: 'T' is deprecated and will be removed in a future version, please use 'min' instead.\n",
      "  df[\"minute\"] = df[\"timestamp\"].dt.floor(\"T\")  # 按分钟对齐\n",
      "c:\\Users\\qianz\\Desktop\\Untitled Folder\\COIN\\Data\\data_clean.py:19: FutureWarning: 'T' is deprecated and will be removed in a future version, please use 'min' instead.\n",
      "  df[\"minute\"] = df[\"timestamp\"].dt.floor(\"T\")  # 按分钟对齐\n",
      "c:\\Users\\qianz\\Desktop\\Untitled Folder\\COIN\\Data\\data_clean.py:19: FutureWarning: 'T' is deprecated and will be removed in a future version, please use 'min' instead.\n",
      "  df[\"minute\"] = df[\"timestamp\"].dt.floor(\"T\")  # 按分钟对齐\n",
      "c:\\Users\\qianz\\Desktop\\Untitled Folder\\COIN\\Data\\data_clean.py:19: FutureWarning: 'T' is deprecated and will be removed in a future version, please use 'min' instead.\n",
      "  df[\"minute\"] = df[\"timestamp\"].dt.floor(\"T\")  # 按分钟对齐\n",
      "c:\\Users\\qianz\\Desktop\\Untitled Folder\\COIN\\Data\\data_clean.py:19: FutureWarning: 'T' is deprecated and will be removed in a future version, please use 'min' instead.\n",
      "  df[\"minute\"] = df[\"timestamp\"].dt.floor(\"T\")  # 按分钟对齐\n"
     ]
    },
    {
     "name": "stdout",
     "output_type": "stream",
     "text": [
      "成功处理文件: DOGE-USDT-SWAP-aggtrades-2023-12-16.csv\n",
      "成功处理文件: DOGE-USDT-SWAP-aggtrades-2023-12-17.csv\n",
      "成功处理文件: DOGE-USDT-SWAP-aggtrades-2023-12-18.csv\n",
      "成功处理文件: DOGE-USDT-SWAP-aggtrades-2023-12-19.csv\n",
      "成功处理文件: DOGE-USDT-SWAP-aggtrades-2023-12-20.csv\n",
      "成功处理文件: DOGE-USDT-SWAP-aggtrades-2023-12-21.csv\n",
      "成功处理文件: DOGE-USDT-SWAP-aggtrades-2023-12-22.csv\n",
      "成功处理文件: DOGE-USDT-SWAP-aggtrades-2023-12-23.csv\n"
     ]
    },
    {
     "name": "stderr",
     "output_type": "stream",
     "text": [
      "c:\\Users\\qianz\\Desktop\\Untitled Folder\\COIN\\Data\\data_clean.py:19: FutureWarning: 'T' is deprecated and will be removed in a future version, please use 'min' instead.\n",
      "  df[\"minute\"] = df[\"timestamp\"].dt.floor(\"T\")  # 按分钟对齐\n",
      "c:\\Users\\qianz\\Desktop\\Untitled Folder\\COIN\\Data\\data_clean.py:19: FutureWarning: 'T' is deprecated and will be removed in a future version, please use 'min' instead.\n",
      "  df[\"minute\"] = df[\"timestamp\"].dt.floor(\"T\")  # 按分钟对齐\n",
      "c:\\Users\\qianz\\Desktop\\Untitled Folder\\COIN\\Data\\data_clean.py:19: FutureWarning: 'T' is deprecated and will be removed in a future version, please use 'min' instead.\n",
      "  df[\"minute\"] = df[\"timestamp\"].dt.floor(\"T\")  # 按分钟对齐\n",
      "c:\\Users\\qianz\\Desktop\\Untitled Folder\\COIN\\Data\\data_clean.py:19: FutureWarning: 'T' is deprecated and will be removed in a future version, please use 'min' instead.\n",
      "  df[\"minute\"] = df[\"timestamp\"].dt.floor(\"T\")  # 按分钟对齐\n",
      "c:\\Users\\qianz\\Desktop\\Untitled Folder\\COIN\\Data\\data_clean.py:19: FutureWarning: 'T' is deprecated and will be removed in a future version, please use 'min' instead.\n",
      "  df[\"minute\"] = df[\"timestamp\"].dt.floor(\"T\")  # 按分钟对齐\n",
      "c:\\Users\\qianz\\Desktop\\Untitled Folder\\COIN\\Data\\data_clean.py:19: FutureWarning: 'T' is deprecated and will be removed in a future version, please use 'min' instead.\n",
      "  df[\"minute\"] = df[\"timestamp\"].dt.floor(\"T\")  # 按分钟对齐\n",
      "c:\\Users\\qianz\\Desktop\\Untitled Folder\\COIN\\Data\\data_clean.py:19: FutureWarning: 'T' is deprecated and will be removed in a future version, please use 'min' instead.\n",
      "  df[\"minute\"] = df[\"timestamp\"].dt.floor(\"T\")  # 按分钟对齐\n",
      "c:\\Users\\qianz\\Desktop\\Untitled Folder\\COIN\\Data\\data_clean.py:19: FutureWarning: 'T' is deprecated and will be removed in a future version, please use 'min' instead.\n",
      "  df[\"minute\"] = df[\"timestamp\"].dt.floor(\"T\")  # 按分钟对齐\n",
      "c:\\Users\\qianz\\Desktop\\Untitled Folder\\COIN\\Data\\data_clean.py:19: FutureWarning: 'T' is deprecated and will be removed in a future version, please use 'min' instead.\n",
      "  df[\"minute\"] = df[\"timestamp\"].dt.floor(\"T\")  # 按分钟对齐\n",
      "c:\\Users\\qianz\\Desktop\\Untitled Folder\\COIN\\Data\\data_clean.py:19: FutureWarning: 'T' is deprecated and will be removed in a future version, please use 'min' instead.\n",
      "  df[\"minute\"] = df[\"timestamp\"].dt.floor(\"T\")  # 按分钟对齐\n"
     ]
    },
    {
     "name": "stdout",
     "output_type": "stream",
     "text": [
      "成功处理文件: DOGE-USDT-SWAP-aggtrades-2023-12-24.csv\n",
      "成功处理文件: DOGE-USDT-SWAP-aggtrades-2023-12-25.csv\n",
      "成功处理文件: DOGE-USDT-SWAP-aggtrades-2023-12-26.csv\n",
      "成功处理文件: DOGE-USDT-SWAP-aggtrades-2023-12-27.csv\n",
      "成功处理文件: DOGE-USDT-SWAP-aggtrades-2023-12-28.csv\n",
      "成功处理文件: DOGE-USDT-SWAP-aggtrades-2023-12-29.csv\n",
      "成功处理文件: DOGE-USDT-SWAP-aggtrades-2023-12-30.csv\n",
      "成功处理文件: DOGE-USDT-SWAP-aggtrades-2023-12-31.csv\n",
      "成功处理文件: DOGE-USDT-SWAP-aggtrades-2024-01-01.csv\n",
      "成功处理文件: DOGE-USDT-SWAP-aggtrades-2024-01-02.csv\n"
     ]
    },
    {
     "name": "stderr",
     "output_type": "stream",
     "text": [
      "c:\\Users\\qianz\\Desktop\\Untitled Folder\\COIN\\Data\\data_clean.py:19: FutureWarning: 'T' is deprecated and will be removed in a future version, please use 'min' instead.\n",
      "  df[\"minute\"] = df[\"timestamp\"].dt.floor(\"T\")  # 按分钟对齐\n",
      "c:\\Users\\qianz\\Desktop\\Untitled Folder\\COIN\\Data\\data_clean.py:19: FutureWarning: 'T' is deprecated and will be removed in a future version, please use 'min' instead.\n",
      "  df[\"minute\"] = df[\"timestamp\"].dt.floor(\"T\")  # 按分钟对齐\n",
      "c:\\Users\\qianz\\Desktop\\Untitled Folder\\COIN\\Data\\data_clean.py:19: FutureWarning: 'T' is deprecated and will be removed in a future version, please use 'min' instead.\n",
      "  df[\"minute\"] = df[\"timestamp\"].dt.floor(\"T\")  # 按分钟对齐\n",
      "c:\\Users\\qianz\\Desktop\\Untitled Folder\\COIN\\Data\\data_clean.py:19: FutureWarning: 'T' is deprecated and will be removed in a future version, please use 'min' instead.\n",
      "  df[\"minute\"] = df[\"timestamp\"].dt.floor(\"T\")  # 按分钟对齐\n",
      "c:\\Users\\qianz\\Desktop\\Untitled Folder\\COIN\\Data\\data_clean.py:19: FutureWarning: 'T' is deprecated and will be removed in a future version, please use 'min' instead.\n",
      "  df[\"minute\"] = df[\"timestamp\"].dt.floor(\"T\")  # 按分钟对齐\n",
      "c:\\Users\\qianz\\Desktop\\Untitled Folder\\COIN\\Data\\data_clean.py:19: FutureWarning: 'T' is deprecated and will be removed in a future version, please use 'min' instead.\n",
      "  df[\"minute\"] = df[\"timestamp\"].dt.floor(\"T\")  # 按分钟对齐\n",
      "c:\\Users\\qianz\\Desktop\\Untitled Folder\\COIN\\Data\\data_clean.py:19: FutureWarning: 'T' is deprecated and will be removed in a future version, please use 'min' instead.\n",
      "  df[\"minute\"] = df[\"timestamp\"].dt.floor(\"T\")  # 按分钟对齐\n",
      "c:\\Users\\qianz\\Desktop\\Untitled Folder\\COIN\\Data\\data_clean.py:19: FutureWarning: 'T' is deprecated and will be removed in a future version, please use 'min' instead.\n",
      "  df[\"minute\"] = df[\"timestamp\"].dt.floor(\"T\")  # 按分钟对齐\n"
     ]
    },
    {
     "name": "stdout",
     "output_type": "stream",
     "text": [
      "成功处理文件: DOGE-USDT-SWAP-aggtrades-2024-01-03.csv\n",
      "成功处理文件: DOGE-USDT-SWAP-aggtrades-2024-01-04.csv\n",
      "成功处理文件: DOGE-USDT-SWAP-aggtrades-2024-01-05.csv\n",
      "成功处理文件: DOGE-USDT-SWAP-aggtrades-2024-01-06.csv\n",
      "成功处理文件: DOGE-USDT-SWAP-aggtrades-2024-01-07.csv\n",
      "成功处理文件: DOGE-USDT-SWAP-aggtrades-2024-01-08.csv\n",
      "成功处理文件: DOGE-USDT-SWAP-aggtrades-2024-01-09.csv\n",
      "成功处理文件: DOGE-USDT-SWAP-aggtrades-2024-01-10.csv\n"
     ]
    },
    {
     "name": "stderr",
     "output_type": "stream",
     "text": [
      "c:\\Users\\qianz\\Desktop\\Untitled Folder\\COIN\\Data\\data_clean.py:19: FutureWarning: 'T' is deprecated and will be removed in a future version, please use 'min' instead.\n",
      "  df[\"minute\"] = df[\"timestamp\"].dt.floor(\"T\")  # 按分钟对齐\n",
      "c:\\Users\\qianz\\Desktop\\Untitled Folder\\COIN\\Data\\data_clean.py:19: FutureWarning: 'T' is deprecated and will be removed in a future version, please use 'min' instead.\n",
      "  df[\"minute\"] = df[\"timestamp\"].dt.floor(\"T\")  # 按分钟对齐\n",
      "c:\\Users\\qianz\\Desktop\\Untitled Folder\\COIN\\Data\\data_clean.py:19: FutureWarning: 'T' is deprecated and will be removed in a future version, please use 'min' instead.\n",
      "  df[\"minute\"] = df[\"timestamp\"].dt.floor(\"T\")  # 按分钟对齐\n",
      "c:\\Users\\qianz\\Desktop\\Untitled Folder\\COIN\\Data\\data_clean.py:19: FutureWarning: 'T' is deprecated and will be removed in a future version, please use 'min' instead.\n",
      "  df[\"minute\"] = df[\"timestamp\"].dt.floor(\"T\")  # 按分钟对齐\n",
      "c:\\Users\\qianz\\Desktop\\Untitled Folder\\COIN\\Data\\data_clean.py:19: FutureWarning: 'T' is deprecated and will be removed in a future version, please use 'min' instead.\n",
      "  df[\"minute\"] = df[\"timestamp\"].dt.floor(\"T\")  # 按分钟对齐\n",
      "c:\\Users\\qianz\\Desktop\\Untitled Folder\\COIN\\Data\\data_clean.py:19: FutureWarning: 'T' is deprecated and will be removed in a future version, please use 'min' instead.\n",
      "  df[\"minute\"] = df[\"timestamp\"].dt.floor(\"T\")  # 按分钟对齐\n",
      "c:\\Users\\qianz\\Desktop\\Untitled Folder\\COIN\\Data\\data_clean.py:19: FutureWarning: 'T' is deprecated and will be removed in a future version, please use 'min' instead.\n",
      "  df[\"minute\"] = df[\"timestamp\"].dt.floor(\"T\")  # 按分钟对齐\n",
      "c:\\Users\\qianz\\Desktop\\Untitled Folder\\COIN\\Data\\data_clean.py:19: FutureWarning: 'T' is deprecated and will be removed in a future version, please use 'min' instead.\n",
      "  df[\"minute\"] = df[\"timestamp\"].dt.floor(\"T\")  # 按分钟对齐\n"
     ]
    },
    {
     "name": "stdout",
     "output_type": "stream",
     "text": [
      "成功处理文件: DOGE-USDT-SWAP-aggtrades-2024-01-11.csv\n",
      "成功处理文件: DOGE-USDT-SWAP-aggtrades-2024-01-12.csv\n",
      "成功处理文件: DOGE-USDT-SWAP-aggtrades-2024-01-13.csv\n",
      "成功处理文件: DOGE-USDT-SWAP-aggtrades-2024-01-14.csv\n",
      "成功处理文件: DOGE-USDT-SWAP-aggtrades-2024-01-15.csv\n",
      "成功处理文件: DOGE-USDT-SWAP-aggtrades-2024-01-16.csv\n",
      "成功处理文件: DOGE-USDT-SWAP-aggtrades-2024-01-17.csv\n",
      "成功处理文件: DOGE-USDT-SWAP-aggtrades-2024-01-18.csv\n"
     ]
    },
    {
     "name": "stderr",
     "output_type": "stream",
     "text": [
      "c:\\Users\\qianz\\Desktop\\Untitled Folder\\COIN\\Data\\data_clean.py:19: FutureWarning: 'T' is deprecated and will be removed in a future version, please use 'min' instead.\n",
      "  df[\"minute\"] = df[\"timestamp\"].dt.floor(\"T\")  # 按分钟对齐\n",
      "c:\\Users\\qianz\\Desktop\\Untitled Folder\\COIN\\Data\\data_clean.py:19: FutureWarning: 'T' is deprecated and will be removed in a future version, please use 'min' instead.\n",
      "  df[\"minute\"] = df[\"timestamp\"].dt.floor(\"T\")  # 按分钟对齐\n",
      "c:\\Users\\qianz\\Desktop\\Untitled Folder\\COIN\\Data\\data_clean.py:19: FutureWarning: 'T' is deprecated and will be removed in a future version, please use 'min' instead.\n",
      "  df[\"minute\"] = df[\"timestamp\"].dt.floor(\"T\")  # 按分钟对齐\n",
      "c:\\Users\\qianz\\Desktop\\Untitled Folder\\COIN\\Data\\data_clean.py:19: FutureWarning: 'T' is deprecated and will be removed in a future version, please use 'min' instead.\n",
      "  df[\"minute\"] = df[\"timestamp\"].dt.floor(\"T\")  # 按分钟对齐\n",
      "c:\\Users\\qianz\\Desktop\\Untitled Folder\\COIN\\Data\\data_clean.py:19: FutureWarning: 'T' is deprecated and will be removed in a future version, please use 'min' instead.\n",
      "  df[\"minute\"] = df[\"timestamp\"].dt.floor(\"T\")  # 按分钟对齐\n",
      "c:\\Users\\qianz\\Desktop\\Untitled Folder\\COIN\\Data\\data_clean.py:19: FutureWarning: 'T' is deprecated and will be removed in a future version, please use 'min' instead.\n",
      "  df[\"minute\"] = df[\"timestamp\"].dt.floor(\"T\")  # 按分钟对齐\n",
      "c:\\Users\\qianz\\Desktop\\Untitled Folder\\COIN\\Data\\data_clean.py:19: FutureWarning: 'T' is deprecated and will be removed in a future version, please use 'min' instead.\n",
      "  df[\"minute\"] = df[\"timestamp\"].dt.floor(\"T\")  # 按分钟对齐\n",
      "c:\\Users\\qianz\\Desktop\\Untitled Folder\\COIN\\Data\\data_clean.py:19: FutureWarning: 'T' is deprecated and will be removed in a future version, please use 'min' instead.\n",
      "  df[\"minute\"] = df[\"timestamp\"].dt.floor(\"T\")  # 按分钟对齐\n",
      "c:\\Users\\qianz\\Desktop\\Untitled Folder\\COIN\\Data\\data_clean.py:19: FutureWarning: 'T' is deprecated and will be removed in a future version, please use 'min' instead.\n",
      "  df[\"minute\"] = df[\"timestamp\"].dt.floor(\"T\")  # 按分钟对齐\n"
     ]
    },
    {
     "name": "stdout",
     "output_type": "stream",
     "text": [
      "成功处理文件: DOGE-USDT-SWAP-aggtrades-2024-01-19.csv\n",
      "成功处理文件: DOGE-USDT-SWAP-aggtrades-2024-01-20.csv\n",
      "成功处理文件: DOGE-USDT-SWAP-aggtrades-2024-01-21.csv\n",
      "成功处理文件: DOGE-USDT-SWAP-aggtrades-2024-01-22.csv\n",
      "成功处理文件: DOGE-USDT-SWAP-aggtrades-2024-01-23.csv\n",
      "成功处理文件: DOGE-USDT-SWAP-aggtrades-2024-01-24.csv\n",
      "成功处理文件: DOGE-USDT-SWAP-aggtrades-2024-01-25.csv\n",
      "成功处理文件: DOGE-USDT-SWAP-aggtrades-2024-01-26.csv\n",
      "成功处理文件: DOGE-USDT-SWAP-aggtrades-2024-01-27.csv\n"
     ]
    },
    {
     "name": "stderr",
     "output_type": "stream",
     "text": [
      "c:\\Users\\qianz\\Desktop\\Untitled Folder\\COIN\\Data\\data_clean.py:19: FutureWarning: 'T' is deprecated and will be removed in a future version, please use 'min' instead.\n",
      "  df[\"minute\"] = df[\"timestamp\"].dt.floor(\"T\")  # 按分钟对齐\n",
      "c:\\Users\\qianz\\Desktop\\Untitled Folder\\COIN\\Data\\data_clean.py:19: FutureWarning: 'T' is deprecated and will be removed in a future version, please use 'min' instead.\n",
      "  df[\"minute\"] = df[\"timestamp\"].dt.floor(\"T\")  # 按分钟对齐\n",
      "c:\\Users\\qianz\\Desktop\\Untitled Folder\\COIN\\Data\\data_clean.py:19: FutureWarning: 'T' is deprecated and will be removed in a future version, please use 'min' instead.\n",
      "  df[\"minute\"] = df[\"timestamp\"].dt.floor(\"T\")  # 按分钟对齐\n",
      "c:\\Users\\qianz\\Desktop\\Untitled Folder\\COIN\\Data\\data_clean.py:19: FutureWarning: 'T' is deprecated and will be removed in a future version, please use 'min' instead.\n",
      "  df[\"minute\"] = df[\"timestamp\"].dt.floor(\"T\")  # 按分钟对齐\n",
      "c:\\Users\\qianz\\Desktop\\Untitled Folder\\COIN\\Data\\data_clean.py:19: FutureWarning: 'T' is deprecated and will be removed in a future version, please use 'min' instead.\n",
      "  df[\"minute\"] = df[\"timestamp\"].dt.floor(\"T\")  # 按分钟对齐\n",
      "c:\\Users\\qianz\\Desktop\\Untitled Folder\\COIN\\Data\\data_clean.py:19: FutureWarning: 'T' is deprecated and will be removed in a future version, please use 'min' instead.\n",
      "  df[\"minute\"] = df[\"timestamp\"].dt.floor(\"T\")  # 按分钟对齐\n",
      "c:\\Users\\qianz\\Desktop\\Untitled Folder\\COIN\\Data\\data_clean.py:19: FutureWarning: 'T' is deprecated and will be removed in a future version, please use 'min' instead.\n",
      "  df[\"minute\"] = df[\"timestamp\"].dt.floor(\"T\")  # 按分钟对齐\n",
      "c:\\Users\\qianz\\Desktop\\Untitled Folder\\COIN\\Data\\data_clean.py:19: FutureWarning: 'T' is deprecated and will be removed in a future version, please use 'min' instead.\n",
      "  df[\"minute\"] = df[\"timestamp\"].dt.floor(\"T\")  # 按分钟对齐\n",
      "c:\\Users\\qianz\\Desktop\\Untitled Folder\\COIN\\Data\\data_clean.py:19: FutureWarning: 'T' is deprecated and will be removed in a future version, please use 'min' instead.\n",
      "  df[\"minute\"] = df[\"timestamp\"].dt.floor(\"T\")  # 按分钟对齐\n",
      "c:\\Users\\qianz\\Desktop\\Untitled Folder\\COIN\\Data\\data_clean.py:19: FutureWarning: 'T' is deprecated and will be removed in a future version, please use 'min' instead.\n",
      "  df[\"minute\"] = df[\"timestamp\"].dt.floor(\"T\")  # 按分钟对齐\n"
     ]
    },
    {
     "name": "stdout",
     "output_type": "stream",
     "text": [
      "成功处理文件: DOGE-USDT-SWAP-aggtrades-2024-01-28.csv\n",
      "成功处理文件: DOGE-USDT-SWAP-aggtrades-2024-01-29.csv\n",
      "成功处理文件: DOGE-USDT-SWAP-aggtrades-2024-01-30.csv\n",
      "成功处理文件: DOGE-USDT-SWAP-aggtrades-2024-01-31.csv\n",
      "成功处理文件: DOGE-USDT-SWAP-aggtrades-2024-02-01.csv\n",
      "成功处理文件: DOGE-USDT-SWAP-aggtrades-2024-02-02.csv\n",
      "成功处理文件: DOGE-USDT-SWAP-aggtrades-2024-02-03.csv\n",
      "成功处理文件: DOGE-USDT-SWAP-aggtrades-2024-02-04.csv\n",
      "成功处理文件: DOGE-USDT-SWAP-aggtrades-2024-02-05.csv\n",
      "成功处理文件: DOGE-USDT-SWAP-aggtrades-2024-02-06.csv\n"
     ]
    },
    {
     "name": "stderr",
     "output_type": "stream",
     "text": [
      "c:\\Users\\qianz\\Desktop\\Untitled Folder\\COIN\\Data\\data_clean.py:19: FutureWarning: 'T' is deprecated and will be removed in a future version, please use 'min' instead.\n",
      "  df[\"minute\"] = df[\"timestamp\"].dt.floor(\"T\")  # 按分钟对齐\n",
      "c:\\Users\\qianz\\Desktop\\Untitled Folder\\COIN\\Data\\data_clean.py:19: FutureWarning: 'T' is deprecated and will be removed in a future version, please use 'min' instead.\n",
      "  df[\"minute\"] = df[\"timestamp\"].dt.floor(\"T\")  # 按分钟对齐\n",
      "c:\\Users\\qianz\\Desktop\\Untitled Folder\\COIN\\Data\\data_clean.py:19: FutureWarning: 'T' is deprecated and will be removed in a future version, please use 'min' instead.\n",
      "  df[\"minute\"] = df[\"timestamp\"].dt.floor(\"T\")  # 按分钟对齐\n",
      "c:\\Users\\qianz\\Desktop\\Untitled Folder\\COIN\\Data\\data_clean.py:19: FutureWarning: 'T' is deprecated and will be removed in a future version, please use 'min' instead.\n",
      "  df[\"minute\"] = df[\"timestamp\"].dt.floor(\"T\")  # 按分钟对齐\n",
      "c:\\Users\\qianz\\Desktop\\Untitled Folder\\COIN\\Data\\data_clean.py:19: FutureWarning: 'T' is deprecated and will be removed in a future version, please use 'min' instead.\n",
      "  df[\"minute\"] = df[\"timestamp\"].dt.floor(\"T\")  # 按分钟对齐\n",
      "c:\\Users\\qianz\\Desktop\\Untitled Folder\\COIN\\Data\\data_clean.py:19: FutureWarning: 'T' is deprecated and will be removed in a future version, please use 'min' instead.\n",
      "  df[\"minute\"] = df[\"timestamp\"].dt.floor(\"T\")  # 按分钟对齐\n",
      "c:\\Users\\qianz\\Desktop\\Untitled Folder\\COIN\\Data\\data_clean.py:19: FutureWarning: 'T' is deprecated and will be removed in a future version, please use 'min' instead.\n",
      "  df[\"minute\"] = df[\"timestamp\"].dt.floor(\"T\")  # 按分钟对齐\n",
      "c:\\Users\\qianz\\Desktop\\Untitled Folder\\COIN\\Data\\data_clean.py:19: FutureWarning: 'T' is deprecated and will be removed in a future version, please use 'min' instead.\n",
      "  df[\"minute\"] = df[\"timestamp\"].dt.floor(\"T\")  # 按分钟对齐\n",
      "c:\\Users\\qianz\\Desktop\\Untitled Folder\\COIN\\Data\\data_clean.py:19: FutureWarning: 'T' is deprecated and will be removed in a future version, please use 'min' instead.\n",
      "  df[\"minute\"] = df[\"timestamp\"].dt.floor(\"T\")  # 按分钟对齐\n",
      "c:\\Users\\qianz\\Desktop\\Untitled Folder\\COIN\\Data\\data_clean.py:19: FutureWarning: 'T' is deprecated and will be removed in a future version, please use 'min' instead.\n",
      "  df[\"minute\"] = df[\"timestamp\"].dt.floor(\"T\")  # 按分钟对齐\n"
     ]
    },
    {
     "name": "stdout",
     "output_type": "stream",
     "text": [
      "成功处理文件: DOGE-USDT-SWAP-aggtrades-2024-02-07.csv\n",
      "成功处理文件: DOGE-USDT-SWAP-aggtrades-2024-02-08.csv\n",
      "成功处理文件: DOGE-USDT-SWAP-aggtrades-2024-02-09.csv\n",
      "成功处理文件: DOGE-USDT-SWAP-aggtrades-2024-02-10.csv\n",
      "成功处理文件: DOGE-USDT-SWAP-aggtrades-2024-02-11.csv\n",
      "成功处理文件: DOGE-USDT-SWAP-aggtrades-2024-02-12.csv\n",
      "成功处理文件: DOGE-USDT-SWAP-aggtrades-2024-02-13.csv\n",
      "成功处理文件: DOGE-USDT-SWAP-aggtrades-2024-02-14.csv\n",
      "成功处理文件: DOGE-USDT-SWAP-aggtrades-2024-02-15.csv\n",
      "成功处理文件: DOGE-USDT-SWAP-aggtrades-2024-02-16.csv\n"
     ]
    },
    {
     "name": "stderr",
     "output_type": "stream",
     "text": [
      "c:\\Users\\qianz\\Desktop\\Untitled Folder\\COIN\\Data\\data_clean.py:19: FutureWarning: 'T' is deprecated and will be removed in a future version, please use 'min' instead.\n",
      "  df[\"minute\"] = df[\"timestamp\"].dt.floor(\"T\")  # 按分钟对齐\n",
      "c:\\Users\\qianz\\Desktop\\Untitled Folder\\COIN\\Data\\data_clean.py:19: FutureWarning: 'T' is deprecated and will be removed in a future version, please use 'min' instead.\n",
      "  df[\"minute\"] = df[\"timestamp\"].dt.floor(\"T\")  # 按分钟对齐\n",
      "c:\\Users\\qianz\\Desktop\\Untitled Folder\\COIN\\Data\\data_clean.py:19: FutureWarning: 'T' is deprecated and will be removed in a future version, please use 'min' instead.\n",
      "  df[\"minute\"] = df[\"timestamp\"].dt.floor(\"T\")  # 按分钟对齐\n",
      "c:\\Users\\qianz\\Desktop\\Untitled Folder\\COIN\\Data\\data_clean.py:19: FutureWarning: 'T' is deprecated and will be removed in a future version, please use 'min' instead.\n",
      "  df[\"minute\"] = df[\"timestamp\"].dt.floor(\"T\")  # 按分钟对齐\n",
      "c:\\Users\\qianz\\Desktop\\Untitled Folder\\COIN\\Data\\data_clean.py:19: FutureWarning: 'T' is deprecated and will be removed in a future version, please use 'min' instead.\n",
      "  df[\"minute\"] = df[\"timestamp\"].dt.floor(\"T\")  # 按分钟对齐\n",
      "c:\\Users\\qianz\\Desktop\\Untitled Folder\\COIN\\Data\\data_clean.py:19: FutureWarning: 'T' is deprecated and will be removed in a future version, please use 'min' instead.\n",
      "  df[\"minute\"] = df[\"timestamp\"].dt.floor(\"T\")  # 按分钟对齐\n",
      "c:\\Users\\qianz\\Desktop\\Untitled Folder\\COIN\\Data\\data_clean.py:19: FutureWarning: 'T' is deprecated and will be removed in a future version, please use 'min' instead.\n",
      "  df[\"minute\"] = df[\"timestamp\"].dt.floor(\"T\")  # 按分钟对齐\n",
      "c:\\Users\\qianz\\Desktop\\Untitled Folder\\COIN\\Data\\data_clean.py:19: FutureWarning: 'T' is deprecated and will be removed in a future version, please use 'min' instead.\n",
      "  df[\"minute\"] = df[\"timestamp\"].dt.floor(\"T\")  # 按分钟对齐\n",
      "c:\\Users\\qianz\\Desktop\\Untitled Folder\\COIN\\Data\\data_clean.py:19: FutureWarning: 'T' is deprecated and will be removed in a future version, please use 'min' instead.\n",
      "  df[\"minute\"] = df[\"timestamp\"].dt.floor(\"T\")  # 按分钟对齐\n",
      "c:\\Users\\qianz\\Desktop\\Untitled Folder\\COIN\\Data\\data_clean.py:19: FutureWarning: 'T' is deprecated and will be removed in a future version, please use 'min' instead.\n",
      "  df[\"minute\"] = df[\"timestamp\"].dt.floor(\"T\")  # 按分钟对齐\n"
     ]
    },
    {
     "name": "stdout",
     "output_type": "stream",
     "text": [
      "成功处理文件: DOGE-USDT-SWAP-aggtrades-2024-02-17.csv\n",
      "成功处理文件: DOGE-USDT-SWAP-aggtrades-2024-02-18.csv\n",
      "成功处理文件: DOGE-USDT-SWAP-aggtrades-2024-02-19.csv\n",
      "成功处理文件: DOGE-USDT-SWAP-aggtrades-2024-02-20.csv\n",
      "成功处理文件: DOGE-USDT-SWAP-aggtrades-2024-02-21.csv\n",
      "成功处理文件: DOGE-USDT-SWAP-aggtrades-2024-02-22.csv\n",
      "成功处理文件: DOGE-USDT-SWAP-aggtrades-2024-02-23.csv\n",
      "成功处理文件: DOGE-USDT-SWAP-aggtrades-2024-02-24.csv\n",
      "成功处理文件: DOGE-USDT-SWAP-aggtrades-2024-02-25.csv\n",
      "成功处理文件: DOGE-USDT-SWAP-aggtrades-2024-02-26.csv\n"
     ]
    },
    {
     "name": "stderr",
     "output_type": "stream",
     "text": [
      "c:\\Users\\qianz\\Desktop\\Untitled Folder\\COIN\\Data\\data_clean.py:19: FutureWarning: 'T' is deprecated and will be removed in a future version, please use 'min' instead.\n",
      "  df[\"minute\"] = df[\"timestamp\"].dt.floor(\"T\")  # 按分钟对齐\n",
      "c:\\Users\\qianz\\Desktop\\Untitled Folder\\COIN\\Data\\data_clean.py:19: FutureWarning: 'T' is deprecated and will be removed in a future version, please use 'min' instead.\n",
      "  df[\"minute\"] = df[\"timestamp\"].dt.floor(\"T\")  # 按分钟对齐\n",
      "c:\\Users\\qianz\\Desktop\\Untitled Folder\\COIN\\Data\\data_clean.py:19: FutureWarning: 'T' is deprecated and will be removed in a future version, please use 'min' instead.\n",
      "  df[\"minute\"] = df[\"timestamp\"].dt.floor(\"T\")  # 按分钟对齐\n",
      "c:\\Users\\qianz\\Desktop\\Untitled Folder\\COIN\\Data\\data_clean.py:19: FutureWarning: 'T' is deprecated and will be removed in a future version, please use 'min' instead.\n",
      "  df[\"minute\"] = df[\"timestamp\"].dt.floor(\"T\")  # 按分钟对齐\n"
     ]
    },
    {
     "name": "stdout",
     "output_type": "stream",
     "text": [
      "成功处理文件: DOGE-USDT-SWAP-aggtrades-2024-02-27.csv\n",
      "成功处理文件: DOGE-USDT-SWAP-aggtrades-2024-02-28.csv\n",
      "成功处理文件: DOGE-USDT-SWAP-aggtrades-2024-02-29.csv\n",
      "成功处理文件: DOGE-USDT-SWAP-aggtrades-2024-03-01.csv\n",
      "成功处理文件: DOGE-USDT-SWAP-aggtrades-2024-03-02.csv\n",
      "成功处理文件: DOGE-USDT-SWAP-aggtrades-2024-03-03.csv\n"
     ]
    },
    {
     "name": "stderr",
     "output_type": "stream",
     "text": [
      "c:\\Users\\qianz\\Desktop\\Untitled Folder\\COIN\\Data\\data_clean.py:19: FutureWarning: 'T' is deprecated and will be removed in a future version, please use 'min' instead.\n",
      "  df[\"minute\"] = df[\"timestamp\"].dt.floor(\"T\")  # 按分钟对齐\n",
      "c:\\Users\\qianz\\Desktop\\Untitled Folder\\COIN\\Data\\data_clean.py:19: FutureWarning: 'T' is deprecated and will be removed in a future version, please use 'min' instead.\n",
      "  df[\"minute\"] = df[\"timestamp\"].dt.floor(\"T\")  # 按分钟对齐\n",
      "c:\\Users\\qianz\\Desktop\\Untitled Folder\\COIN\\Data\\data_clean.py:19: FutureWarning: 'T' is deprecated and will be removed in a future version, please use 'min' instead.\n",
      "  df[\"minute\"] = df[\"timestamp\"].dt.floor(\"T\")  # 按分钟对齐\n"
     ]
    },
    {
     "name": "stdout",
     "output_type": "stream",
     "text": [
      "成功处理文件: DOGE-USDT-SWAP-aggtrades-2024-03-04.csv\n",
      "成功处理文件: DOGE-USDT-SWAP-aggtrades-2024-03-05.csv\n"
     ]
    },
    {
     "name": "stderr",
     "output_type": "stream",
     "text": [
      "c:\\Users\\qianz\\Desktop\\Untitled Folder\\COIN\\Data\\data_clean.py:19: FutureWarning: 'T' is deprecated and will be removed in a future version, please use 'min' instead.\n",
      "  df[\"minute\"] = df[\"timestamp\"].dt.floor(\"T\")  # 按分钟对齐\n",
      "c:\\Users\\qianz\\Desktop\\Untitled Folder\\COIN\\Data\\data_clean.py:19: FutureWarning: 'T' is deprecated and will be removed in a future version, please use 'min' instead.\n",
      "  df[\"minute\"] = df[\"timestamp\"].dt.floor(\"T\")  # 按分钟对齐\n"
     ]
    },
    {
     "name": "stdout",
     "output_type": "stream",
     "text": [
      "成功处理文件: DOGE-USDT-SWAP-aggtrades-2024-03-06.csv\n",
      "成功处理文件: DOGE-USDT-SWAP-aggtrades-2024-03-07.csv\n",
      "成功处理文件: DOGE-USDT-SWAP-aggtrades-2024-03-08.csv\n"
     ]
    },
    {
     "name": "stderr",
     "output_type": "stream",
     "text": [
      "c:\\Users\\qianz\\Desktop\\Untitled Folder\\COIN\\Data\\data_clean.py:19: FutureWarning: 'T' is deprecated and will be removed in a future version, please use 'min' instead.\n",
      "  df[\"minute\"] = df[\"timestamp\"].dt.floor(\"T\")  # 按分钟对齐\n",
      "c:\\Users\\qianz\\Desktop\\Untitled Folder\\COIN\\Data\\data_clean.py:19: FutureWarning: 'T' is deprecated and will be removed in a future version, please use 'min' instead.\n",
      "  df[\"minute\"] = df[\"timestamp\"].dt.floor(\"T\")  # 按分钟对齐\n",
      "c:\\Users\\qianz\\Desktop\\Untitled Folder\\COIN\\Data\\data_clean.py:19: FutureWarning: 'T' is deprecated and will be removed in a future version, please use 'min' instead.\n",
      "  df[\"minute\"] = df[\"timestamp\"].dt.floor(\"T\")  # 按分钟对齐\n"
     ]
    },
    {
     "name": "stdout",
     "output_type": "stream",
     "text": [
      "成功处理文件: DOGE-USDT-SWAP-aggtrades-2024-03-09.csv\n",
      "成功处理文件: DOGE-USDT-SWAP-aggtrades-2024-03-10.csv\n",
      "成功处理文件: DOGE-USDT-SWAP-aggtrades-2024-03-11.csv\n"
     ]
    },
    {
     "name": "stderr",
     "output_type": "stream",
     "text": [
      "c:\\Users\\qianz\\Desktop\\Untitled Folder\\COIN\\Data\\data_clean.py:19: FutureWarning: 'T' is deprecated and will be removed in a future version, please use 'min' instead.\n",
      "  df[\"minute\"] = df[\"timestamp\"].dt.floor(\"T\")  # 按分钟对齐\n",
      "c:\\Users\\qianz\\Desktop\\Untitled Folder\\COIN\\Data\\data_clean.py:19: FutureWarning: 'T' is deprecated and will be removed in a future version, please use 'min' instead.\n",
      "  df[\"minute\"] = df[\"timestamp\"].dt.floor(\"T\")  # 按分钟对齐\n",
      "c:\\Users\\qianz\\Desktop\\Untitled Folder\\COIN\\Data\\data_clean.py:19: FutureWarning: 'T' is deprecated and will be removed in a future version, please use 'min' instead.\n",
      "  df[\"minute\"] = df[\"timestamp\"].dt.floor(\"T\")  # 按分钟对齐\n",
      "c:\\Users\\qianz\\Desktop\\Untitled Folder\\COIN\\Data\\data_clean.py:19: FutureWarning: 'T' is deprecated and will be removed in a future version, please use 'min' instead.\n",
      "  df[\"minute\"] = df[\"timestamp\"].dt.floor(\"T\")  # 按分钟对齐\n"
     ]
    },
    {
     "name": "stdout",
     "output_type": "stream",
     "text": [
      "成功处理文件: DOGE-USDT-SWAP-aggtrades-2024-03-12.csv\n",
      "成功处理文件: DOGE-USDT-SWAP-aggtrades-2024-03-13.csv\n",
      "成功处理文件: DOGE-USDT-SWAP-aggtrades-2024-03-14.csv\n"
     ]
    },
    {
     "name": "stderr",
     "output_type": "stream",
     "text": [
      "c:\\Users\\qianz\\Desktop\\Untitled Folder\\COIN\\Data\\data_clean.py:19: FutureWarning: 'T' is deprecated and will be removed in a future version, please use 'min' instead.\n",
      "  df[\"minute\"] = df[\"timestamp\"].dt.floor(\"T\")  # 按分钟对齐\n",
      "c:\\Users\\qianz\\Desktop\\Untitled Folder\\COIN\\Data\\data_clean.py:19: FutureWarning: 'T' is deprecated and will be removed in a future version, please use 'min' instead.\n",
      "  df[\"minute\"] = df[\"timestamp\"].dt.floor(\"T\")  # 按分钟对齐\n",
      "c:\\Users\\qianz\\Desktop\\Untitled Folder\\COIN\\Data\\data_clean.py:19: FutureWarning: 'T' is deprecated and will be removed in a future version, please use 'min' instead.\n",
      "  df[\"minute\"] = df[\"timestamp\"].dt.floor(\"T\")  # 按分钟对齐\n"
     ]
    },
    {
     "name": "stdout",
     "output_type": "stream",
     "text": [
      "成功处理文件: DOGE-USDT-SWAP-aggtrades-2024-03-15.csv\n",
      "成功处理文件: DOGE-USDT-SWAP-aggtrades-2024-03-16.csv\n",
      "成功处理文件: DOGE-USDT-SWAP-aggtrades-2024-03-17.csv\n",
      "成功处理文件: DOGE-USDT-SWAP-aggtrades-2024-03-18.csv\n"
     ]
    },
    {
     "name": "stderr",
     "output_type": "stream",
     "text": [
      "c:\\Users\\qianz\\Desktop\\Untitled Folder\\COIN\\Data\\data_clean.py:19: FutureWarning: 'T' is deprecated and will be removed in a future version, please use 'min' instead.\n",
      "  df[\"minute\"] = df[\"timestamp\"].dt.floor(\"T\")  # 按分钟对齐\n",
      "c:\\Users\\qianz\\Desktop\\Untitled Folder\\COIN\\Data\\data_clean.py:19: FutureWarning: 'T' is deprecated and will be removed in a future version, please use 'min' instead.\n",
      "  df[\"minute\"] = df[\"timestamp\"].dt.floor(\"T\")  # 按分钟对齐\n",
      "c:\\Users\\qianz\\Desktop\\Untitled Folder\\COIN\\Data\\data_clean.py:19: FutureWarning: 'T' is deprecated and will be removed in a future version, please use 'min' instead.\n",
      "  df[\"minute\"] = df[\"timestamp\"].dt.floor(\"T\")  # 按分钟对齐\n",
      "c:\\Users\\qianz\\Desktop\\Untitled Folder\\COIN\\Data\\data_clean.py:19: FutureWarning: 'T' is deprecated and will be removed in a future version, please use 'min' instead.\n",
      "  df[\"minute\"] = df[\"timestamp\"].dt.floor(\"T\")  # 按分钟对齐\n"
     ]
    },
    {
     "name": "stdout",
     "output_type": "stream",
     "text": [
      "成功处理文件: DOGE-USDT-SWAP-aggtrades-2024-03-19.csv\n",
      "成功处理文件: DOGE-USDT-SWAP-aggtrades-2024-03-20.csv\n",
      "成功处理文件: DOGE-USDT-SWAP-aggtrades-2024-03-21.csv\n"
     ]
    },
    {
     "name": "stderr",
     "output_type": "stream",
     "text": [
      "c:\\Users\\qianz\\Desktop\\Untitled Folder\\COIN\\Data\\data_clean.py:19: FutureWarning: 'T' is deprecated and will be removed in a future version, please use 'min' instead.\n",
      "  df[\"minute\"] = df[\"timestamp\"].dt.floor(\"T\")  # 按分钟对齐\n",
      "c:\\Users\\qianz\\Desktop\\Untitled Folder\\COIN\\Data\\data_clean.py:19: FutureWarning: 'T' is deprecated and will be removed in a future version, please use 'min' instead.\n",
      "  df[\"minute\"] = df[\"timestamp\"].dt.floor(\"T\")  # 按分钟对齐\n",
      "c:\\Users\\qianz\\Desktop\\Untitled Folder\\COIN\\Data\\data_clean.py:19: FutureWarning: 'T' is deprecated and will be removed in a future version, please use 'min' instead.\n",
      "  df[\"minute\"] = df[\"timestamp\"].dt.floor(\"T\")  # 按分钟对齐\n",
      "c:\\Users\\qianz\\Desktop\\Untitled Folder\\COIN\\Data\\data_clean.py:19: FutureWarning: 'T' is deprecated and will be removed in a future version, please use 'min' instead.\n",
      "  df[\"minute\"] = df[\"timestamp\"].dt.floor(\"T\")  # 按分钟对齐\n"
     ]
    },
    {
     "name": "stdout",
     "output_type": "stream",
     "text": [
      "成功处理文件: DOGE-USDT-SWAP-aggtrades-2024-03-22.csv\n",
      "成功处理文件: DOGE-USDT-SWAP-aggtrades-2024-03-23.csv\n",
      "成功处理文件: DOGE-USDT-SWAP-aggtrades-2024-03-24.csv\n",
      "成功处理文件: DOGE-USDT-SWAP-aggtrades-2024-03-25.csv\n"
     ]
    },
    {
     "name": "stderr",
     "output_type": "stream",
     "text": [
      "c:\\Users\\qianz\\Desktop\\Untitled Folder\\COIN\\Data\\data_clean.py:19: FutureWarning: 'T' is deprecated and will be removed in a future version, please use 'min' instead.\n",
      "  df[\"minute\"] = df[\"timestamp\"].dt.floor(\"T\")  # 按分钟对齐\n",
      "c:\\Users\\qianz\\Desktop\\Untitled Folder\\COIN\\Data\\data_clean.py:19: FutureWarning: 'T' is deprecated and will be removed in a future version, please use 'min' instead.\n",
      "  df[\"minute\"] = df[\"timestamp\"].dt.floor(\"T\")  # 按分钟对齐\n",
      "c:\\Users\\qianz\\Desktop\\Untitled Folder\\COIN\\Data\\data_clean.py:19: FutureWarning: 'T' is deprecated and will be removed in a future version, please use 'min' instead.\n",
      "  df[\"minute\"] = df[\"timestamp\"].dt.floor(\"T\")  # 按分钟对齐\n"
     ]
    },
    {
     "name": "stdout",
     "output_type": "stream",
     "text": [
      "成功处理文件: DOGE-USDT-SWAP-aggtrades-2024-03-26.csv\n",
      "成功处理文件: DOGE-USDT-SWAP-aggtrades-2024-03-27.csv\n",
      "成功处理文件: DOGE-USDT-SWAP-aggtrades-2024-03-28.csv\n"
     ]
    },
    {
     "name": "stderr",
     "output_type": "stream",
     "text": [
      "c:\\Users\\qianz\\Desktop\\Untitled Folder\\COIN\\Data\\data_clean.py:19: FutureWarning: 'T' is deprecated and will be removed in a future version, please use 'min' instead.\n",
      "  df[\"minute\"] = df[\"timestamp\"].dt.floor(\"T\")  # 按分钟对齐\n",
      "c:\\Users\\qianz\\Desktop\\Untitled Folder\\COIN\\Data\\data_clean.py:19: FutureWarning: 'T' is deprecated and will be removed in a future version, please use 'min' instead.\n",
      "  df[\"minute\"] = df[\"timestamp\"].dt.floor(\"T\")  # 按分钟对齐\n",
      "c:\\Users\\qianz\\Desktop\\Untitled Folder\\COIN\\Data\\data_clean.py:19: FutureWarning: 'T' is deprecated and will be removed in a future version, please use 'min' instead.\n",
      "  df[\"minute\"] = df[\"timestamp\"].dt.floor(\"T\")  # 按分钟对齐\n"
     ]
    },
    {
     "name": "stdout",
     "output_type": "stream",
     "text": [
      "成功处理文件: DOGE-USDT-SWAP-aggtrades-2024-03-29.csv\n",
      "成功处理文件: DOGE-USDT-SWAP-aggtrades-2024-03-30.csv\n",
      "成功处理文件: DOGE-USDT-SWAP-aggtrades-2024-03-31.csv\n",
      "成功处理文件: DOGE-USDT-SWAP-aggtrades-2024-04-01.csv\n"
     ]
    },
    {
     "name": "stderr",
     "output_type": "stream",
     "text": [
      "c:\\Users\\qianz\\Desktop\\Untitled Folder\\COIN\\Data\\data_clean.py:19: FutureWarning: 'T' is deprecated and will be removed in a future version, please use 'min' instead.\n",
      "  df[\"minute\"] = df[\"timestamp\"].dt.floor(\"T\")  # 按分钟对齐\n",
      "c:\\Users\\qianz\\Desktop\\Untitled Folder\\COIN\\Data\\data_clean.py:19: FutureWarning: 'T' is deprecated and will be removed in a future version, please use 'min' instead.\n",
      "  df[\"minute\"] = df[\"timestamp\"].dt.floor(\"T\")  # 按分钟对齐\n",
      "c:\\Users\\qianz\\Desktop\\Untitled Folder\\COIN\\Data\\data_clean.py:19: FutureWarning: 'T' is deprecated and will be removed in a future version, please use 'min' instead.\n",
      "  df[\"minute\"] = df[\"timestamp\"].dt.floor(\"T\")  # 按分钟对齐\n"
     ]
    },
    {
     "name": "stdout",
     "output_type": "stream",
     "text": [
      "成功处理文件: DOGE-USDT-SWAP-aggtrades-2024-04-02.csv\n",
      "成功处理文件: DOGE-USDT-SWAP-aggtrades-2024-04-03.csv\n",
      "成功处理文件: DOGE-USDT-SWAP-aggtrades-2024-04-04.csv\n",
      "成功处理文件: DOGE-USDT-SWAP-aggtrades-2024-04-05.csv\n"
     ]
    },
    {
     "name": "stderr",
     "output_type": "stream",
     "text": [
      "c:\\Users\\qianz\\Desktop\\Untitled Folder\\COIN\\Data\\data_clean.py:19: FutureWarning: 'T' is deprecated and will be removed in a future version, please use 'min' instead.\n",
      "  df[\"minute\"] = df[\"timestamp\"].dt.floor(\"T\")  # 按分钟对齐\n",
      "c:\\Users\\qianz\\Desktop\\Untitled Folder\\COIN\\Data\\data_clean.py:19: FutureWarning: 'T' is deprecated and will be removed in a future version, please use 'min' instead.\n",
      "  df[\"minute\"] = df[\"timestamp\"].dt.floor(\"T\")  # 按分钟对齐\n",
      "c:\\Users\\qianz\\Desktop\\Untitled Folder\\COIN\\Data\\data_clean.py:19: FutureWarning: 'T' is deprecated and will be removed in a future version, please use 'min' instead.\n",
      "  df[\"minute\"] = df[\"timestamp\"].dt.floor(\"T\")  # 按分钟对齐\n",
      "c:\\Users\\qianz\\Desktop\\Untitled Folder\\COIN\\Data\\data_clean.py:19: FutureWarning: 'T' is deprecated and will be removed in a future version, please use 'min' instead.\n",
      "  df[\"minute\"] = df[\"timestamp\"].dt.floor(\"T\")  # 按分钟对齐\n"
     ]
    },
    {
     "name": "stdout",
     "output_type": "stream",
     "text": [
      "成功处理文件: DOGE-USDT-SWAP-aggtrades-2024-04-06.csv\n",
      "成功处理文件: DOGE-USDT-SWAP-aggtrades-2024-04-07.csv\n",
      "成功处理文件: DOGE-USDT-SWAP-aggtrades-2024-04-08.csv\n",
      "成功处理文件: DOGE-USDT-SWAP-aggtrades-2024-04-09.csv\n"
     ]
    },
    {
     "name": "stderr",
     "output_type": "stream",
     "text": [
      "c:\\Users\\qianz\\Desktop\\Untitled Folder\\COIN\\Data\\data_clean.py:19: FutureWarning: 'T' is deprecated and will be removed in a future version, please use 'min' instead.\n",
      "  df[\"minute\"] = df[\"timestamp\"].dt.floor(\"T\")  # 按分钟对齐\n",
      "c:\\Users\\qianz\\Desktop\\Untitled Folder\\COIN\\Data\\data_clean.py:19: FutureWarning: 'T' is deprecated and will be removed in a future version, please use 'min' instead.\n",
      "  df[\"minute\"] = df[\"timestamp\"].dt.floor(\"T\")  # 按分钟对齐\n",
      "c:\\Users\\qianz\\Desktop\\Untitled Folder\\COIN\\Data\\data_clean.py:19: FutureWarning: 'T' is deprecated and will be removed in a future version, please use 'min' instead.\n",
      "  df[\"minute\"] = df[\"timestamp\"].dt.floor(\"T\")  # 按分钟对齐\n",
      "c:\\Users\\qianz\\Desktop\\Untitled Folder\\COIN\\Data\\data_clean.py:19: FutureWarning: 'T' is deprecated and will be removed in a future version, please use 'min' instead.\n",
      "  df[\"minute\"] = df[\"timestamp\"].dt.floor(\"T\")  # 按分钟对齐\n",
      "c:\\Users\\qianz\\Desktop\\Untitled Folder\\COIN\\Data\\data_clean.py:19: FutureWarning: 'T' is deprecated and will be removed in a future version, please use 'min' instead.\n",
      "  df[\"minute\"] = df[\"timestamp\"].dt.floor(\"T\")  # 按分钟对齐\n"
     ]
    },
    {
     "name": "stdout",
     "output_type": "stream",
     "text": [
      "成功处理文件: DOGE-USDT-SWAP-aggtrades-2024-04-10.csv\n",
      "成功处理文件: DOGE-USDT-SWAP-aggtrades-2024-04-11.csv\n",
      "成功处理文件: DOGE-USDT-SWAP-aggtrades-2024-04-12.csv\n",
      "成功处理文件: DOGE-USDT-SWAP-aggtrades-2024-04-13.csv\n"
     ]
    },
    {
     "name": "stderr",
     "output_type": "stream",
     "text": [
      "c:\\Users\\qianz\\Desktop\\Untitled Folder\\COIN\\Data\\data_clean.py:19: FutureWarning: 'T' is deprecated and will be removed in a future version, please use 'min' instead.\n",
      "  df[\"minute\"] = df[\"timestamp\"].dt.floor(\"T\")  # 按分钟对齐\n",
      "c:\\Users\\qianz\\Desktop\\Untitled Folder\\COIN\\Data\\data_clean.py:19: FutureWarning: 'T' is deprecated and will be removed in a future version, please use 'min' instead.\n",
      "  df[\"minute\"] = df[\"timestamp\"].dt.floor(\"T\")  # 按分钟对齐\n",
      "c:\\Users\\qianz\\Desktop\\Untitled Folder\\COIN\\Data\\data_clean.py:19: FutureWarning: 'T' is deprecated and will be removed in a future version, please use 'min' instead.\n",
      "  df[\"minute\"] = df[\"timestamp\"].dt.floor(\"T\")  # 按分钟对齐\n",
      "c:\\Users\\qianz\\Desktop\\Untitled Folder\\COIN\\Data\\data_clean.py:19: FutureWarning: 'T' is deprecated and will be removed in a future version, please use 'min' instead.\n",
      "  df[\"minute\"] = df[\"timestamp\"].dt.floor(\"T\")  # 按分钟对齐\n",
      "c:\\Users\\qianz\\Desktop\\Untitled Folder\\COIN\\Data\\data_clean.py:19: FutureWarning: 'T' is deprecated and will be removed in a future version, please use 'min' instead.\n",
      "  df[\"minute\"] = df[\"timestamp\"].dt.floor(\"T\")  # 按分钟对齐\n"
     ]
    },
    {
     "name": "stdout",
     "output_type": "stream",
     "text": [
      "成功处理文件: DOGE-USDT-SWAP-aggtrades-2024-04-14.csv\n",
      "成功处理文件: DOGE-USDT-SWAP-aggtrades-2024-04-15.csv\n",
      "成功处理文件: DOGE-USDT-SWAP-aggtrades-2024-04-16.csv\n"
     ]
    },
    {
     "name": "stderr",
     "output_type": "stream",
     "text": [
      "c:\\Users\\qianz\\Desktop\\Untitled Folder\\COIN\\Data\\data_clean.py:19: FutureWarning: 'T' is deprecated and will be removed in a future version, please use 'min' instead.\n",
      "  df[\"minute\"] = df[\"timestamp\"].dt.floor(\"T\")  # 按分钟对齐\n",
      "c:\\Users\\qianz\\Desktop\\Untitled Folder\\COIN\\Data\\data_clean.py:19: FutureWarning: 'T' is deprecated and will be removed in a future version, please use 'min' instead.\n",
      "  df[\"minute\"] = df[\"timestamp\"].dt.floor(\"T\")  # 按分钟对齐\n",
      "c:\\Users\\qianz\\Desktop\\Untitled Folder\\COIN\\Data\\data_clean.py:19: FutureWarning: 'T' is deprecated and will be removed in a future version, please use 'min' instead.\n",
      "  df[\"minute\"] = df[\"timestamp\"].dt.floor(\"T\")  # 按分钟对齐\n",
      "c:\\Users\\qianz\\Desktop\\Untitled Folder\\COIN\\Data\\data_clean.py:19: FutureWarning: 'T' is deprecated and will be removed in a future version, please use 'min' instead.\n",
      "  df[\"minute\"] = df[\"timestamp\"].dt.floor(\"T\")  # 按分钟对齐\n"
     ]
    },
    {
     "name": "stdout",
     "output_type": "stream",
     "text": [
      "成功处理文件: DOGE-USDT-SWAP-aggtrades-2024-04-17.csv\n",
      "成功处理文件: DOGE-USDT-SWAP-aggtrades-2024-04-18.csv\n",
      "成功处理文件: DOGE-USDT-SWAP-aggtrades-2024-04-19.csv\n",
      "成功处理文件: DOGE-USDT-SWAP-aggtrades-2024-04-20.csv\n"
     ]
    },
    {
     "name": "stderr",
     "output_type": "stream",
     "text": [
      "c:\\Users\\qianz\\Desktop\\Untitled Folder\\COIN\\Data\\data_clean.py:19: FutureWarning: 'T' is deprecated and will be removed in a future version, please use 'min' instead.\n",
      "  df[\"minute\"] = df[\"timestamp\"].dt.floor(\"T\")  # 按分钟对齐\n",
      "c:\\Users\\qianz\\Desktop\\Untitled Folder\\COIN\\Data\\data_clean.py:19: FutureWarning: 'T' is deprecated and will be removed in a future version, please use 'min' instead.\n",
      "  df[\"minute\"] = df[\"timestamp\"].dt.floor(\"T\")  # 按分钟对齐\n",
      "c:\\Users\\qianz\\Desktop\\Untitled Folder\\COIN\\Data\\data_clean.py:19: FutureWarning: 'T' is deprecated and will be removed in a future version, please use 'min' instead.\n",
      "  df[\"minute\"] = df[\"timestamp\"].dt.floor(\"T\")  # 按分钟对齐\n",
      "c:\\Users\\qianz\\Desktop\\Untitled Folder\\COIN\\Data\\data_clean.py:19: FutureWarning: 'T' is deprecated and will be removed in a future version, please use 'min' instead.\n",
      "  df[\"minute\"] = df[\"timestamp\"].dt.floor(\"T\")  # 按分钟对齐\n",
      "c:\\Users\\qianz\\Desktop\\Untitled Folder\\COIN\\Data\\data_clean.py:19: FutureWarning: 'T' is deprecated and will be removed in a future version, please use 'min' instead.\n",
      "  df[\"minute\"] = df[\"timestamp\"].dt.floor(\"T\")  # 按分钟对齐\n"
     ]
    },
    {
     "name": "stdout",
     "output_type": "stream",
     "text": [
      "成功处理文件: DOGE-USDT-SWAP-aggtrades-2024-04-21.csv\n",
      "成功处理文件: DOGE-USDT-SWAP-aggtrades-2024-04-22.csv\n",
      "成功处理文件: DOGE-USDT-SWAP-aggtrades-2024-04-23.csv\n",
      "成功处理文件: DOGE-USDT-SWAP-aggtrades-2024-04-24.csv\n",
      "成功处理文件: DOGE-USDT-SWAP-aggtrades-2024-04-25.csv\n"
     ]
    },
    {
     "name": "stderr",
     "output_type": "stream",
     "text": [
      "c:\\Users\\qianz\\Desktop\\Untitled Folder\\COIN\\Data\\data_clean.py:19: FutureWarning: 'T' is deprecated and will be removed in a future version, please use 'min' instead.\n",
      "  df[\"minute\"] = df[\"timestamp\"].dt.floor(\"T\")  # 按分钟对齐\n",
      "c:\\Users\\qianz\\Desktop\\Untitled Folder\\COIN\\Data\\data_clean.py:19: FutureWarning: 'T' is deprecated and will be removed in a future version, please use 'min' instead.\n",
      "  df[\"minute\"] = df[\"timestamp\"].dt.floor(\"T\")  # 按分钟对齐\n",
      "c:\\Users\\qianz\\Desktop\\Untitled Folder\\COIN\\Data\\data_clean.py:19: FutureWarning: 'T' is deprecated and will be removed in a future version, please use 'min' instead.\n",
      "  df[\"minute\"] = df[\"timestamp\"].dt.floor(\"T\")  # 按分钟对齐\n",
      "c:\\Users\\qianz\\Desktop\\Untitled Folder\\COIN\\Data\\data_clean.py:19: FutureWarning: 'T' is deprecated and will be removed in a future version, please use 'min' instead.\n",
      "  df[\"minute\"] = df[\"timestamp\"].dt.floor(\"T\")  # 按分钟对齐\n",
      "c:\\Users\\qianz\\Desktop\\Untitled Folder\\COIN\\Data\\data_clean.py:19: FutureWarning: 'T' is deprecated and will be removed in a future version, please use 'min' instead.\n",
      "  df[\"minute\"] = df[\"timestamp\"].dt.floor(\"T\")  # 按分钟对齐\n",
      "c:\\Users\\qianz\\Desktop\\Untitled Folder\\COIN\\Data\\data_clean.py:19: FutureWarning: 'T' is deprecated and will be removed in a future version, please use 'min' instead.\n",
      "  df[\"minute\"] = df[\"timestamp\"].dt.floor(\"T\")  # 按分钟对齐\n"
     ]
    },
    {
     "name": "stdout",
     "output_type": "stream",
     "text": [
      "成功处理文件: DOGE-USDT-SWAP-aggtrades-2024-04-26.csv\n",
      "成功处理文件: DOGE-USDT-SWAP-aggtrades-2024-04-27.csv\n",
      "成功处理文件: DOGE-USDT-SWAP-aggtrades-2024-04-28.csv\n",
      "成功处理文件: DOGE-USDT-SWAP-aggtrades-2024-04-29.csv\n",
      "成功处理文件: DOGE-USDT-SWAP-aggtrades-2024-04-30.csv\n",
      "成功处理文件: DOGE-USDT-SWAP-aggtrades-2024-05-01.csv\n"
     ]
    },
    {
     "name": "stderr",
     "output_type": "stream",
     "text": [
      "c:\\Users\\qianz\\Desktop\\Untitled Folder\\COIN\\Data\\data_clean.py:19: FutureWarning: 'T' is deprecated and will be removed in a future version, please use 'min' instead.\n",
      "  df[\"minute\"] = df[\"timestamp\"].dt.floor(\"T\")  # 按分钟对齐\n",
      "c:\\Users\\qianz\\Desktop\\Untitled Folder\\COIN\\Data\\data_clean.py:19: FutureWarning: 'T' is deprecated and will be removed in a future version, please use 'min' instead.\n",
      "  df[\"minute\"] = df[\"timestamp\"].dt.floor(\"T\")  # 按分钟对齐\n",
      "c:\\Users\\qianz\\Desktop\\Untitled Folder\\COIN\\Data\\data_clean.py:19: FutureWarning: 'T' is deprecated and will be removed in a future version, please use 'min' instead.\n",
      "  df[\"minute\"] = df[\"timestamp\"].dt.floor(\"T\")  # 按分钟对齐\n",
      "c:\\Users\\qianz\\Desktop\\Untitled Folder\\COIN\\Data\\data_clean.py:19: FutureWarning: 'T' is deprecated and will be removed in a future version, please use 'min' instead.\n",
      "  df[\"minute\"] = df[\"timestamp\"].dt.floor(\"T\")  # 按分钟对齐\n",
      "c:\\Users\\qianz\\Desktop\\Untitled Folder\\COIN\\Data\\data_clean.py:19: FutureWarning: 'T' is deprecated and will be removed in a future version, please use 'min' instead.\n",
      "  df[\"minute\"] = df[\"timestamp\"].dt.floor(\"T\")  # 按分钟对齐\n"
     ]
    },
    {
     "name": "stdout",
     "output_type": "stream",
     "text": [
      "成功处理文件: DOGE-USDT-SWAP-aggtrades-2024-05-02.csv\n",
      "成功处理文件: DOGE-USDT-SWAP-aggtrades-2024-05-03.csv\n",
      "成功处理文件: DOGE-USDT-SWAP-aggtrades-2024-05-04.csv\n",
      "成功处理文件: DOGE-USDT-SWAP-aggtrades-2024-05-05.csv\n",
      "成功处理文件: DOGE-USDT-SWAP-aggtrades-2024-05-06.csv\n",
      "成功处理文件: DOGE-USDT-SWAP-aggtrades-2024-05-07.csv\n",
      "成功处理文件: DOGE-USDT-SWAP-aggtrades-2024-05-08.csv\n",
      "成功处理文件: DOGE-USDT-SWAP-aggtrades-2024-05-09.csv\n",
      "成功处理文件: DOGE-USDT-SWAP-aggtrades-2024-05-10.csv\n",
      "成功处理文件: DOGE-USDT-SWAP-aggtrades-2024-05-11.csv\n"
     ]
    },
    {
     "name": "stderr",
     "output_type": "stream",
     "text": [
      "c:\\Users\\qianz\\Desktop\\Untitled Folder\\COIN\\Data\\data_clean.py:19: FutureWarning: 'T' is deprecated and will be removed in a future version, please use 'min' instead.\n",
      "  df[\"minute\"] = df[\"timestamp\"].dt.floor(\"T\")  # 按分钟对齐\n",
      "c:\\Users\\qianz\\Desktop\\Untitled Folder\\COIN\\Data\\data_clean.py:19: FutureWarning: 'T' is deprecated and will be removed in a future version, please use 'min' instead.\n",
      "  df[\"minute\"] = df[\"timestamp\"].dt.floor(\"T\")  # 按分钟对齐\n",
      "c:\\Users\\qianz\\Desktop\\Untitled Folder\\COIN\\Data\\data_clean.py:19: FutureWarning: 'T' is deprecated and will be removed in a future version, please use 'min' instead.\n",
      "  df[\"minute\"] = df[\"timestamp\"].dt.floor(\"T\")  # 按分钟对齐\n",
      "c:\\Users\\qianz\\Desktop\\Untitled Folder\\COIN\\Data\\data_clean.py:19: FutureWarning: 'T' is deprecated and will be removed in a future version, please use 'min' instead.\n",
      "  df[\"minute\"] = df[\"timestamp\"].dt.floor(\"T\")  # 按分钟对齐\n",
      "c:\\Users\\qianz\\Desktop\\Untitled Folder\\COIN\\Data\\data_clean.py:19: FutureWarning: 'T' is deprecated and will be removed in a future version, please use 'min' instead.\n",
      "  df[\"minute\"] = df[\"timestamp\"].dt.floor(\"T\")  # 按分钟对齐\n",
      "c:\\Users\\qianz\\Desktop\\Untitled Folder\\COIN\\Data\\data_clean.py:19: FutureWarning: 'T' is deprecated and will be removed in a future version, please use 'min' instead.\n",
      "  df[\"minute\"] = df[\"timestamp\"].dt.floor(\"T\")  # 按分钟对齐\n"
     ]
    },
    {
     "name": "stdout",
     "output_type": "stream",
     "text": [
      "成功处理文件: DOGE-USDT-SWAP-aggtrades-2024-05-12.csv\n",
      "成功处理文件: DOGE-USDT-SWAP-aggtrades-2024-05-13.csv\n",
      "成功处理文件: DOGE-USDT-SWAP-aggtrades-2024-05-14.csv\n",
      "成功处理文件: DOGE-USDT-SWAP-aggtrades-2024-05-15.csv\n",
      "成功处理文件: DOGE-USDT-SWAP-aggtrades-2024-05-16.csv\n"
     ]
    },
    {
     "name": "stderr",
     "output_type": "stream",
     "text": [
      "c:\\Users\\qianz\\Desktop\\Untitled Folder\\COIN\\Data\\data_clean.py:19: FutureWarning: 'T' is deprecated and will be removed in a future version, please use 'min' instead.\n",
      "  df[\"minute\"] = df[\"timestamp\"].dt.floor(\"T\")  # 按分钟对齐\n",
      "c:\\Users\\qianz\\Desktop\\Untitled Folder\\COIN\\Data\\data_clean.py:19: FutureWarning: 'T' is deprecated and will be removed in a future version, please use 'min' instead.\n",
      "  df[\"minute\"] = df[\"timestamp\"].dt.floor(\"T\")  # 按分钟对齐\n",
      "c:\\Users\\qianz\\Desktop\\Untitled Folder\\COIN\\Data\\data_clean.py:19: FutureWarning: 'T' is deprecated and will be removed in a future version, please use 'min' instead.\n",
      "  df[\"minute\"] = df[\"timestamp\"].dt.floor(\"T\")  # 按分钟对齐\n",
      "c:\\Users\\qianz\\Desktop\\Untitled Folder\\COIN\\Data\\data_clean.py:19: FutureWarning: 'T' is deprecated and will be removed in a future version, please use 'min' instead.\n",
      "  df[\"minute\"] = df[\"timestamp\"].dt.floor(\"T\")  # 按分钟对齐\n",
      "c:\\Users\\qianz\\Desktop\\Untitled Folder\\COIN\\Data\\data_clean.py:19: FutureWarning: 'T' is deprecated and will be removed in a future version, please use 'min' instead.\n",
      "  df[\"minute\"] = df[\"timestamp\"].dt.floor(\"T\")  # 按分钟对齐\n"
     ]
    },
    {
     "name": "stdout",
     "output_type": "stream",
     "text": [
      "成功处理文件: DOGE-USDT-SWAP-aggtrades-2024-05-17.csv\n",
      "成功处理文件: DOGE-USDT-SWAP-aggtrades-2024-05-18.csv\n",
      "成功处理文件: DOGE-USDT-SWAP-aggtrades-2024-05-19.csv\n",
      "成功处理文件: DOGE-USDT-SWAP-aggtrades-2024-05-20.csv\n",
      "成功处理文件: DOGE-USDT-SWAP-aggtrades-2024-05-21.csv\n"
     ]
    },
    {
     "name": "stderr",
     "output_type": "stream",
     "text": [
      "c:\\Users\\qianz\\Desktop\\Untitled Folder\\COIN\\Data\\data_clean.py:19: FutureWarning: 'T' is deprecated and will be removed in a future version, please use 'min' instead.\n",
      "  df[\"minute\"] = df[\"timestamp\"].dt.floor(\"T\")  # 按分钟对齐\n",
      "c:\\Users\\qianz\\Desktop\\Untitled Folder\\COIN\\Data\\data_clean.py:19: FutureWarning: 'T' is deprecated and will be removed in a future version, please use 'min' instead.\n",
      "  df[\"minute\"] = df[\"timestamp\"].dt.floor(\"T\")  # 按分钟对齐\n",
      "c:\\Users\\qianz\\Desktop\\Untitled Folder\\COIN\\Data\\data_clean.py:19: FutureWarning: 'T' is deprecated and will be removed in a future version, please use 'min' instead.\n",
      "  df[\"minute\"] = df[\"timestamp\"].dt.floor(\"T\")  # 按分钟对齐\n",
      "c:\\Users\\qianz\\Desktop\\Untitled Folder\\COIN\\Data\\data_clean.py:19: FutureWarning: 'T' is deprecated and will be removed in a future version, please use 'min' instead.\n",
      "  df[\"minute\"] = df[\"timestamp\"].dt.floor(\"T\")  # 按分钟对齐\n",
      "c:\\Users\\qianz\\Desktop\\Untitled Folder\\COIN\\Data\\data_clean.py:19: FutureWarning: 'T' is deprecated and will be removed in a future version, please use 'min' instead.\n",
      "  df[\"minute\"] = df[\"timestamp\"].dt.floor(\"T\")  # 按分钟对齐\n"
     ]
    },
    {
     "name": "stdout",
     "output_type": "stream",
     "text": [
      "成功处理文件: DOGE-USDT-SWAP-aggtrades-2024-05-22.csv\n",
      "成功处理文件: DOGE-USDT-SWAP-aggtrades-2024-05-23.csv\n",
      "成功处理文件: DOGE-USDT-SWAP-aggtrades-2024-05-24.csv\n",
      "成功处理文件: DOGE-USDT-SWAP-aggtrades-2024-05-25.csv\n",
      "成功处理文件: DOGE-USDT-SWAP-aggtrades-2024-05-26.csv\n"
     ]
    },
    {
     "name": "stderr",
     "output_type": "stream",
     "text": [
      "c:\\Users\\qianz\\Desktop\\Untitled Folder\\COIN\\Data\\data_clean.py:19: FutureWarning: 'T' is deprecated and will be removed in a future version, please use 'min' instead.\n",
      "  df[\"minute\"] = df[\"timestamp\"].dt.floor(\"T\")  # 按分钟对齐\n",
      "c:\\Users\\qianz\\Desktop\\Untitled Folder\\COIN\\Data\\data_clean.py:19: FutureWarning: 'T' is deprecated and will be removed in a future version, please use 'min' instead.\n",
      "  df[\"minute\"] = df[\"timestamp\"].dt.floor(\"T\")  # 按分钟对齐\n",
      "c:\\Users\\qianz\\Desktop\\Untitled Folder\\COIN\\Data\\data_clean.py:19: FutureWarning: 'T' is deprecated and will be removed in a future version, please use 'min' instead.\n",
      "  df[\"minute\"] = df[\"timestamp\"].dt.floor(\"T\")  # 按分钟对齐\n",
      "c:\\Users\\qianz\\Desktop\\Untitled Folder\\COIN\\Data\\data_clean.py:19: FutureWarning: 'T' is deprecated and will be removed in a future version, please use 'min' instead.\n",
      "  df[\"minute\"] = df[\"timestamp\"].dt.floor(\"T\")  # 按分钟对齐\n",
      "c:\\Users\\qianz\\Desktop\\Untitled Folder\\COIN\\Data\\data_clean.py:19: FutureWarning: 'T' is deprecated and will be removed in a future version, please use 'min' instead.\n",
      "  df[\"minute\"] = df[\"timestamp\"].dt.floor(\"T\")  # 按分钟对齐\n"
     ]
    },
    {
     "name": "stdout",
     "output_type": "stream",
     "text": [
      "成功处理文件: DOGE-USDT-SWAP-aggtrades-2024-05-27.csv\n",
      "成功处理文件: DOGE-USDT-SWAP-aggtrades-2024-05-28.csv\n",
      "成功处理文件: DOGE-USDT-SWAP-aggtrades-2024-05-29.csv\n",
      "成功处理文件: DOGE-USDT-SWAP-aggtrades-2024-05-30.csv\n",
      "成功处理文件: DOGE-USDT-SWAP-aggtrades-2024-05-31.csv\n",
      "成功处理文件: DOGE-USDT-SWAP-aggtrades-2024-06-01.csv\n"
     ]
    },
    {
     "name": "stderr",
     "output_type": "stream",
     "text": [
      "c:\\Users\\qianz\\Desktop\\Untitled Folder\\COIN\\Data\\data_clean.py:19: FutureWarning: 'T' is deprecated and will be removed in a future version, please use 'min' instead.\n",
      "  df[\"minute\"] = df[\"timestamp\"].dt.floor(\"T\")  # 按分钟对齐\n",
      "c:\\Users\\qianz\\Desktop\\Untitled Folder\\COIN\\Data\\data_clean.py:19: FutureWarning: 'T' is deprecated and will be removed in a future version, please use 'min' instead.\n",
      "  df[\"minute\"] = df[\"timestamp\"].dt.floor(\"T\")  # 按分钟对齐\n",
      "c:\\Users\\qianz\\Desktop\\Untitled Folder\\COIN\\Data\\data_clean.py:19: FutureWarning: 'T' is deprecated and will be removed in a future version, please use 'min' instead.\n",
      "  df[\"minute\"] = df[\"timestamp\"].dt.floor(\"T\")  # 按分钟对齐\n",
      "c:\\Users\\qianz\\Desktop\\Untitled Folder\\COIN\\Data\\data_clean.py:19: FutureWarning: 'T' is deprecated and will be removed in a future version, please use 'min' instead.\n",
      "  df[\"minute\"] = df[\"timestamp\"].dt.floor(\"T\")  # 按分钟对齐\n",
      "c:\\Users\\qianz\\Desktop\\Untitled Folder\\COIN\\Data\\data_clean.py:19: FutureWarning: 'T' is deprecated and will be removed in a future version, please use 'min' instead.\n",
      "  df[\"minute\"] = df[\"timestamp\"].dt.floor(\"T\")  # 按分钟对齐\n",
      "c:\\Users\\qianz\\Desktop\\Untitled Folder\\COIN\\Data\\data_clean.py:19: FutureWarning: 'T' is deprecated and will be removed in a future version, please use 'min' instead.\n",
      "  df[\"minute\"] = df[\"timestamp\"].dt.floor(\"T\")  # 按分钟对齐\n",
      "c:\\Users\\qianz\\Desktop\\Untitled Folder\\COIN\\Data\\data_clean.py:19: FutureWarning: 'T' is deprecated and will be removed in a future version, please use 'min' instead.\n",
      "  df[\"minute\"] = df[\"timestamp\"].dt.floor(\"T\")  # 按分钟对齐\n"
     ]
    },
    {
     "name": "stdout",
     "output_type": "stream",
     "text": [
      "成功处理文件: DOGE-USDT-SWAP-aggtrades-2024-06-02.csv\n",
      "成功处理文件: DOGE-USDT-SWAP-aggtrades-2024-06-03.csv\n",
      "成功处理文件: DOGE-USDT-SWAP-aggtrades-2024-06-04.csv\n",
      "成功处理文件: DOGE-USDT-SWAP-aggtrades-2024-06-05.csv\n",
      "成功处理文件: DOGE-USDT-SWAP-aggtrades-2024-06-06.csv\n",
      "成功处理文件: DOGE-USDT-SWAP-aggtrades-2024-06-07.csv\n",
      "成功处理文件: DOGE-USDT-SWAP-aggtrades-2024-06-08.csv\n"
     ]
    },
    {
     "name": "stderr",
     "output_type": "stream",
     "text": [
      "c:\\Users\\qianz\\Desktop\\Untitled Folder\\COIN\\Data\\data_clean.py:19: FutureWarning: 'T' is deprecated and will be removed in a future version, please use 'min' instead.\n",
      "  df[\"minute\"] = df[\"timestamp\"].dt.floor(\"T\")  # 按分钟对齐\n",
      "c:\\Users\\qianz\\Desktop\\Untitled Folder\\COIN\\Data\\data_clean.py:19: FutureWarning: 'T' is deprecated and will be removed in a future version, please use 'min' instead.\n",
      "  df[\"minute\"] = df[\"timestamp\"].dt.floor(\"T\")  # 按分钟对齐\n",
      "c:\\Users\\qianz\\Desktop\\Untitled Folder\\COIN\\Data\\data_clean.py:19: FutureWarning: 'T' is deprecated and will be removed in a future version, please use 'min' instead.\n",
      "  df[\"minute\"] = df[\"timestamp\"].dt.floor(\"T\")  # 按分钟对齐\n",
      "c:\\Users\\qianz\\Desktop\\Untitled Folder\\COIN\\Data\\data_clean.py:19: FutureWarning: 'T' is deprecated and will be removed in a future version, please use 'min' instead.\n",
      "  df[\"minute\"] = df[\"timestamp\"].dt.floor(\"T\")  # 按分钟对齐\n",
      "c:\\Users\\qianz\\Desktop\\Untitled Folder\\COIN\\Data\\data_clean.py:19: FutureWarning: 'T' is deprecated and will be removed in a future version, please use 'min' instead.\n",
      "  df[\"minute\"] = df[\"timestamp\"].dt.floor(\"T\")  # 按分钟对齐\n",
      "c:\\Users\\qianz\\Desktop\\Untitled Folder\\COIN\\Data\\data_clean.py:19: FutureWarning: 'T' is deprecated and will be removed in a future version, please use 'min' instead.\n",
      "  df[\"minute\"] = df[\"timestamp\"].dt.floor(\"T\")  # 按分钟对齐\n",
      "c:\\Users\\qianz\\Desktop\\Untitled Folder\\COIN\\Data\\data_clean.py:19: FutureWarning: 'T' is deprecated and will be removed in a future version, please use 'min' instead.\n",
      "  df[\"minute\"] = df[\"timestamp\"].dt.floor(\"T\")  # 按分钟对齐\n",
      "c:\\Users\\qianz\\Desktop\\Untitled Folder\\COIN\\Data\\data_clean.py:19: FutureWarning: 'T' is deprecated and will be removed in a future version, please use 'min' instead.\n",
      "  df[\"minute\"] = df[\"timestamp\"].dt.floor(\"T\")  # 按分钟对齐\n"
     ]
    },
    {
     "name": "stdout",
     "output_type": "stream",
     "text": [
      "成功处理文件: DOGE-USDT-SWAP-aggtrades-2024-06-09.csv\n",
      "成功处理文件: DOGE-USDT-SWAP-aggtrades-2024-06-10.csv\n",
      "成功处理文件: DOGE-USDT-SWAP-aggtrades-2024-06-11.csv\n",
      "成功处理文件: DOGE-USDT-SWAP-aggtrades-2024-06-12.csv\n",
      "成功处理文件: DOGE-USDT-SWAP-aggtrades-2024-06-13.csv\n",
      "成功处理文件: DOGE-USDT-SWAP-aggtrades-2024-06-14.csv\n",
      "成功处理文件: DOGE-USDT-SWAP-aggtrades-2024-06-15.csv\n"
     ]
    },
    {
     "name": "stderr",
     "output_type": "stream",
     "text": [
      "c:\\Users\\qianz\\Desktop\\Untitled Folder\\COIN\\Data\\data_clean.py:19: FutureWarning: 'T' is deprecated and will be removed in a future version, please use 'min' instead.\n",
      "  df[\"minute\"] = df[\"timestamp\"].dt.floor(\"T\")  # 按分钟对齐\n",
      "c:\\Users\\qianz\\Desktop\\Untitled Folder\\COIN\\Data\\data_clean.py:19: FutureWarning: 'T' is deprecated and will be removed in a future version, please use 'min' instead.\n",
      "  df[\"minute\"] = df[\"timestamp\"].dt.floor(\"T\")  # 按分钟对齐\n",
      "c:\\Users\\qianz\\Desktop\\Untitled Folder\\COIN\\Data\\data_clean.py:19: FutureWarning: 'T' is deprecated and will be removed in a future version, please use 'min' instead.\n",
      "  df[\"minute\"] = df[\"timestamp\"].dt.floor(\"T\")  # 按分钟对齐\n",
      "c:\\Users\\qianz\\Desktop\\Untitled Folder\\COIN\\Data\\data_clean.py:19: FutureWarning: 'T' is deprecated and will be removed in a future version, please use 'min' instead.\n",
      "  df[\"minute\"] = df[\"timestamp\"].dt.floor(\"T\")  # 按分钟对齐\n",
      "c:\\Users\\qianz\\Desktop\\Untitled Folder\\COIN\\Data\\data_clean.py:19: FutureWarning: 'T' is deprecated and will be removed in a future version, please use 'min' instead.\n",
      "  df[\"minute\"] = df[\"timestamp\"].dt.floor(\"T\")  # 按分钟对齐\n",
      "c:\\Users\\qianz\\Desktop\\Untitled Folder\\COIN\\Data\\data_clean.py:19: FutureWarning: 'T' is deprecated and will be removed in a future version, please use 'min' instead.\n",
      "  df[\"minute\"] = df[\"timestamp\"].dt.floor(\"T\")  # 按分钟对齐\n"
     ]
    },
    {
     "name": "stdout",
     "output_type": "stream",
     "text": [
      "成功处理文件: DOGE-USDT-SWAP-aggtrades-2024-06-16.csv\n",
      "成功处理文件: DOGE-USDT-SWAP-aggtrades-2024-06-17.csv\n",
      "成功处理文件: DOGE-USDT-SWAP-aggtrades-2024-06-18.csv\n",
      "成功处理文件: DOGE-USDT-SWAP-aggtrades-2024-06-19.csv\n",
      "成功处理文件: DOGE-USDT-SWAP-aggtrades-2024-06-20.csv\n",
      "成功处理文件: DOGE-USDT-SWAP-aggtrades-2024-06-21.csv\n",
      "成功处理文件: DOGE-USDT-SWAP-aggtrades-2024-06-22.csv\n"
     ]
    },
    {
     "name": "stderr",
     "output_type": "stream",
     "text": [
      "c:\\Users\\qianz\\Desktop\\Untitled Folder\\COIN\\Data\\data_clean.py:19: FutureWarning: 'T' is deprecated and will be removed in a future version, please use 'min' instead.\n",
      "  df[\"minute\"] = df[\"timestamp\"].dt.floor(\"T\")  # 按分钟对齐\n",
      "c:\\Users\\qianz\\Desktop\\Untitled Folder\\COIN\\Data\\data_clean.py:19: FutureWarning: 'T' is deprecated and will be removed in a future version, please use 'min' instead.\n",
      "  df[\"minute\"] = df[\"timestamp\"].dt.floor(\"T\")  # 按分钟对齐\n",
      "c:\\Users\\qianz\\Desktop\\Untitled Folder\\COIN\\Data\\data_clean.py:19: FutureWarning: 'T' is deprecated and will be removed in a future version, please use 'min' instead.\n",
      "  df[\"minute\"] = df[\"timestamp\"].dt.floor(\"T\")  # 按分钟对齐\n",
      "c:\\Users\\qianz\\Desktop\\Untitled Folder\\COIN\\Data\\data_clean.py:19: FutureWarning: 'T' is deprecated and will be removed in a future version, please use 'min' instead.\n",
      "  df[\"minute\"] = df[\"timestamp\"].dt.floor(\"T\")  # 按分钟对齐\n",
      "c:\\Users\\qianz\\Desktop\\Untitled Folder\\COIN\\Data\\data_clean.py:19: FutureWarning: 'T' is deprecated and will be removed in a future version, please use 'min' instead.\n",
      "  df[\"minute\"] = df[\"timestamp\"].dt.floor(\"T\")  # 按分钟对齐\n",
      "c:\\Users\\qianz\\Desktop\\Untitled Folder\\COIN\\Data\\data_clean.py:19: FutureWarning: 'T' is deprecated and will be removed in a future version, please use 'min' instead.\n",
      "  df[\"minute\"] = df[\"timestamp\"].dt.floor(\"T\")  # 按分钟对齐\n",
      "c:\\Users\\qianz\\Desktop\\Untitled Folder\\COIN\\Data\\data_clean.py:19: FutureWarning: 'T' is deprecated and will be removed in a future version, please use 'min' instead.\n",
      "  df[\"minute\"] = df[\"timestamp\"].dt.floor(\"T\")  # 按分钟对齐\n"
     ]
    },
    {
     "name": "stdout",
     "output_type": "stream",
     "text": [
      "成功处理文件: DOGE-USDT-SWAP-aggtrades-2024-06-23.csv\n",
      "成功处理文件: DOGE-USDT-SWAP-aggtrades-2024-06-24.csv\n",
      "成功处理文件: DOGE-USDT-SWAP-aggtrades-2024-06-25.csv\n",
      "成功处理文件: DOGE-USDT-SWAP-aggtrades-2024-06-26.csv\n",
      "成功处理文件: DOGE-USDT-SWAP-aggtrades-2024-06-27.csv\n",
      "成功处理文件: DOGE-USDT-SWAP-aggtrades-2024-06-28.csv\n",
      "成功处理文件: DOGE-USDT-SWAP-aggtrades-2024-06-29.csv\n"
     ]
    },
    {
     "name": "stderr",
     "output_type": "stream",
     "text": [
      "c:\\Users\\qianz\\Desktop\\Untitled Folder\\COIN\\Data\\data_clean.py:19: FutureWarning: 'T' is deprecated and will be removed in a future version, please use 'min' instead.\n",
      "  df[\"minute\"] = df[\"timestamp\"].dt.floor(\"T\")  # 按分钟对齐\n",
      "c:\\Users\\qianz\\Desktop\\Untitled Folder\\COIN\\Data\\data_clean.py:19: FutureWarning: 'T' is deprecated and will be removed in a future version, please use 'min' instead.\n",
      "  df[\"minute\"] = df[\"timestamp\"].dt.floor(\"T\")  # 按分钟对齐\n",
      "c:\\Users\\qianz\\Desktop\\Untitled Folder\\COIN\\Data\\data_clean.py:19: FutureWarning: 'T' is deprecated and will be removed in a future version, please use 'min' instead.\n",
      "  df[\"minute\"] = df[\"timestamp\"].dt.floor(\"T\")  # 按分钟对齐\n",
      "c:\\Users\\qianz\\Desktop\\Untitled Folder\\COIN\\Data\\data_clean.py:19: FutureWarning: 'T' is deprecated and will be removed in a future version, please use 'min' instead.\n",
      "  df[\"minute\"] = df[\"timestamp\"].dt.floor(\"T\")  # 按分钟对齐\n",
      "c:\\Users\\qianz\\Desktop\\Untitled Folder\\COIN\\Data\\data_clean.py:19: FutureWarning: 'T' is deprecated and will be removed in a future version, please use 'min' instead.\n",
      "  df[\"minute\"] = df[\"timestamp\"].dt.floor(\"T\")  # 按分钟对齐\n",
      "c:\\Users\\qianz\\Desktop\\Untitled Folder\\COIN\\Data\\data_clean.py:19: FutureWarning: 'T' is deprecated and will be removed in a future version, please use 'min' instead.\n",
      "  df[\"minute\"] = df[\"timestamp\"].dt.floor(\"T\")  # 按分钟对齐\n",
      "c:\\Users\\qianz\\Desktop\\Untitled Folder\\COIN\\Data\\data_clean.py:19: FutureWarning: 'T' is deprecated and will be removed in a future version, please use 'min' instead.\n",
      "  df[\"minute\"] = df[\"timestamp\"].dt.floor(\"T\")  # 按分钟对齐\n",
      "c:\\Users\\qianz\\Desktop\\Untitled Folder\\COIN\\Data\\data_clean.py:19: FutureWarning: 'T' is deprecated and will be removed in a future version, please use 'min' instead.\n",
      "  df[\"minute\"] = df[\"timestamp\"].dt.floor(\"T\")  # 按分钟对齐\n",
      "c:\\Users\\qianz\\Desktop\\Untitled Folder\\COIN\\Data\\data_clean.py:19: FutureWarning: 'T' is deprecated and will be removed in a future version, please use 'min' instead.\n",
      "  df[\"minute\"] = df[\"timestamp\"].dt.floor(\"T\")  # 按分钟对齐\n"
     ]
    },
    {
     "name": "stdout",
     "output_type": "stream",
     "text": [
      "成功处理文件: DOGE-USDT-SWAP-aggtrades-2024-06-30.csv\n",
      "成功处理文件: DOGE-USDT-SWAP-aggtrades-2024-07-01.csv\n",
      "成功处理文件: DOGE-USDT-SWAP-aggtrades-2024-07-02.csv\n",
      "成功处理文件: DOGE-USDT-SWAP-aggtrades-2024-07-03.csv\n",
      "成功处理文件: DOGE-USDT-SWAP-aggtrades-2024-07-04.csv\n",
      "成功处理文件: DOGE-USDT-SWAP-aggtrades-2024-07-05.csv\n",
      "成功处理文件: DOGE-USDT-SWAP-aggtrades-2024-07-06.csv\n"
     ]
    },
    {
     "name": "stderr",
     "output_type": "stream",
     "text": [
      "c:\\Users\\qianz\\Desktop\\Untitled Folder\\COIN\\Data\\data_clean.py:19: FutureWarning: 'T' is deprecated and will be removed in a future version, please use 'min' instead.\n",
      "  df[\"minute\"] = df[\"timestamp\"].dt.floor(\"T\")  # 按分钟对齐\n",
      "c:\\Users\\qianz\\Desktop\\Untitled Folder\\COIN\\Data\\data_clean.py:19: FutureWarning: 'T' is deprecated and will be removed in a future version, please use 'min' instead.\n",
      "  df[\"minute\"] = df[\"timestamp\"].dt.floor(\"T\")  # 按分钟对齐\n",
      "c:\\Users\\qianz\\Desktop\\Untitled Folder\\COIN\\Data\\data_clean.py:19: FutureWarning: 'T' is deprecated and will be removed in a future version, please use 'min' instead.\n",
      "  df[\"minute\"] = df[\"timestamp\"].dt.floor(\"T\")  # 按分钟对齐\n",
      "c:\\Users\\qianz\\Desktop\\Untitled Folder\\COIN\\Data\\data_clean.py:19: FutureWarning: 'T' is deprecated and will be removed in a future version, please use 'min' instead.\n",
      "  df[\"minute\"] = df[\"timestamp\"].dt.floor(\"T\")  # 按分钟对齐\n",
      "c:\\Users\\qianz\\Desktop\\Untitled Folder\\COIN\\Data\\data_clean.py:19: FutureWarning: 'T' is deprecated and will be removed in a future version, please use 'min' instead.\n",
      "  df[\"minute\"] = df[\"timestamp\"].dt.floor(\"T\")  # 按分钟对齐\n"
     ]
    },
    {
     "name": "stdout",
     "output_type": "stream",
     "text": [
      "成功处理文件: DOGE-USDT-SWAP-aggtrades-2024-07-07.csv\n",
      "成功处理文件: DOGE-USDT-SWAP-aggtrades-2024-07-08.csv\n",
      "成功处理文件: DOGE-USDT-SWAP-aggtrades-2024-07-09.csv\n",
      "成功处理文件: DOGE-USDT-SWAP-aggtrades-2024-07-10.csv\n",
      "成功处理文件: DOGE-USDT-SWAP-aggtrades-2024-07-11.csv\n",
      "成功处理文件: DOGE-USDT-SWAP-aggtrades-2024-07-12.csv\n",
      "成功处理文件: DOGE-USDT-SWAP-aggtrades-2024-07-13.csv\n"
     ]
    },
    {
     "name": "stderr",
     "output_type": "stream",
     "text": [
      "c:\\Users\\qianz\\Desktop\\Untitled Folder\\COIN\\Data\\data_clean.py:19: FutureWarning: 'T' is deprecated and will be removed in a future version, please use 'min' instead.\n",
      "  df[\"minute\"] = df[\"timestamp\"].dt.floor(\"T\")  # 按分钟对齐\n",
      "c:\\Users\\qianz\\Desktop\\Untitled Folder\\COIN\\Data\\data_clean.py:19: FutureWarning: 'T' is deprecated and will be removed in a future version, please use 'min' instead.\n",
      "  df[\"minute\"] = df[\"timestamp\"].dt.floor(\"T\")  # 按分钟对齐\n",
      "c:\\Users\\qianz\\Desktop\\Untitled Folder\\COIN\\Data\\data_clean.py:19: FutureWarning: 'T' is deprecated and will be removed in a future version, please use 'min' instead.\n",
      "  df[\"minute\"] = df[\"timestamp\"].dt.floor(\"T\")  # 按分钟对齐\n",
      "c:\\Users\\qianz\\Desktop\\Untitled Folder\\COIN\\Data\\data_clean.py:19: FutureWarning: 'T' is deprecated and will be removed in a future version, please use 'min' instead.\n",
      "  df[\"minute\"] = df[\"timestamp\"].dt.floor(\"T\")  # 按分钟对齐\n",
      "c:\\Users\\qianz\\Desktop\\Untitled Folder\\COIN\\Data\\data_clean.py:19: FutureWarning: 'T' is deprecated and will be removed in a future version, please use 'min' instead.\n",
      "  df[\"minute\"] = df[\"timestamp\"].dt.floor(\"T\")  # 按分钟对齐\n",
      "c:\\Users\\qianz\\Desktop\\Untitled Folder\\COIN\\Data\\data_clean.py:19: FutureWarning: 'T' is deprecated and will be removed in a future version, please use 'min' instead.\n",
      "  df[\"minute\"] = df[\"timestamp\"].dt.floor(\"T\")  # 按分钟对齐\n",
      "c:\\Users\\qianz\\Desktop\\Untitled Folder\\COIN\\Data\\data_clean.py:19: FutureWarning: 'T' is deprecated and will be removed in a future version, please use 'min' instead.\n",
      "  df[\"minute\"] = df[\"timestamp\"].dt.floor(\"T\")  # 按分钟对齐\n",
      "c:\\Users\\qianz\\Desktop\\Untitled Folder\\COIN\\Data\\data_clean.py:19: FutureWarning: 'T' is deprecated and will be removed in a future version, please use 'min' instead.\n",
      "  df[\"minute\"] = df[\"timestamp\"].dt.floor(\"T\")  # 按分钟对齐\n"
     ]
    },
    {
     "name": "stdout",
     "output_type": "stream",
     "text": [
      "成功处理文件: DOGE-USDT-SWAP-aggtrades-2024-07-14.csv\n",
      "成功处理文件: DOGE-USDT-SWAP-aggtrades-2024-07-15.csv\n",
      "成功处理文件: DOGE-USDT-SWAP-aggtrades-2024-07-16.csv\n",
      "成功处理文件: DOGE-USDT-SWAP-aggtrades-2024-07-17.csv\n",
      "成功处理文件: DOGE-USDT-SWAP-aggtrades-2024-07-18.csv\n",
      "成功处理文件: DOGE-USDT-SWAP-aggtrades-2024-07-19.csv\n"
     ]
    },
    {
     "name": "stderr",
     "output_type": "stream",
     "text": [
      "c:\\Users\\qianz\\Desktop\\Untitled Folder\\COIN\\Data\\data_clean.py:19: FutureWarning: 'T' is deprecated and will be removed in a future version, please use 'min' instead.\n",
      "  df[\"minute\"] = df[\"timestamp\"].dt.floor(\"T\")  # 按分钟对齐\n",
      "c:\\Users\\qianz\\Desktop\\Untitled Folder\\COIN\\Data\\data_clean.py:19: FutureWarning: 'T' is deprecated and will be removed in a future version, please use 'min' instead.\n",
      "  df[\"minute\"] = df[\"timestamp\"].dt.floor(\"T\")  # 按分钟对齐\n",
      "c:\\Users\\qianz\\Desktop\\Untitled Folder\\COIN\\Data\\data_clean.py:19: FutureWarning: 'T' is deprecated and will be removed in a future version, please use 'min' instead.\n",
      "  df[\"minute\"] = df[\"timestamp\"].dt.floor(\"T\")  # 按分钟对齐\n",
      "c:\\Users\\qianz\\Desktop\\Untitled Folder\\COIN\\Data\\data_clean.py:19: FutureWarning: 'T' is deprecated and will be removed in a future version, please use 'min' instead.\n",
      "  df[\"minute\"] = df[\"timestamp\"].dt.floor(\"T\")  # 按分钟对齐\n",
      "c:\\Users\\qianz\\Desktop\\Untitled Folder\\COIN\\Data\\data_clean.py:19: FutureWarning: 'T' is deprecated and will be removed in a future version, please use 'min' instead.\n",
      "  df[\"minute\"] = df[\"timestamp\"].dt.floor(\"T\")  # 按分钟对齐\n",
      "c:\\Users\\qianz\\Desktop\\Untitled Folder\\COIN\\Data\\data_clean.py:19: FutureWarning: 'T' is deprecated and will be removed in a future version, please use 'min' instead.\n",
      "  df[\"minute\"] = df[\"timestamp\"].dt.floor(\"T\")  # 按分钟对齐\n"
     ]
    },
    {
     "name": "stdout",
     "output_type": "stream",
     "text": [
      "成功处理文件: DOGE-USDT-SWAP-aggtrades-2024-07-20.csv\n",
      "成功处理文件: DOGE-USDT-SWAP-aggtrades-2024-07-21.csv\n",
      "成功处理文件: DOGE-USDT-SWAP-aggtrades-2024-07-22.csv\n",
      "成功处理文件: DOGE-USDT-SWAP-aggtrades-2024-07-23.csv\n",
      "成功处理文件: DOGE-USDT-SWAP-aggtrades-2024-07-24.csv\n"
     ]
    },
    {
     "name": "stderr",
     "output_type": "stream",
     "text": [
      "c:\\Users\\qianz\\Desktop\\Untitled Folder\\COIN\\Data\\data_clean.py:19: FutureWarning: 'T' is deprecated and will be removed in a future version, please use 'min' instead.\n",
      "  df[\"minute\"] = df[\"timestamp\"].dt.floor(\"T\")  # 按分钟对齐\n",
      "c:\\Users\\qianz\\Desktop\\Untitled Folder\\COIN\\Data\\data_clean.py:19: FutureWarning: 'T' is deprecated and will be removed in a future version, please use 'min' instead.\n",
      "  df[\"minute\"] = df[\"timestamp\"].dt.floor(\"T\")  # 按分钟对齐\n",
      "c:\\Users\\qianz\\Desktop\\Untitled Folder\\COIN\\Data\\data_clean.py:19: FutureWarning: 'T' is deprecated and will be removed in a future version, please use 'min' instead.\n",
      "  df[\"minute\"] = df[\"timestamp\"].dt.floor(\"T\")  # 按分钟对齐\n",
      "c:\\Users\\qianz\\Desktop\\Untitled Folder\\COIN\\Data\\data_clean.py:19: FutureWarning: 'T' is deprecated and will be removed in a future version, please use 'min' instead.\n",
      "  df[\"minute\"] = df[\"timestamp\"].dt.floor(\"T\")  # 按分钟对齐\n",
      "c:\\Users\\qianz\\Desktop\\Untitled Folder\\COIN\\Data\\data_clean.py:19: FutureWarning: 'T' is deprecated and will be removed in a future version, please use 'min' instead.\n",
      "  df[\"minute\"] = df[\"timestamp\"].dt.floor(\"T\")  # 按分钟对齐\n",
      "c:\\Users\\qianz\\Desktop\\Untitled Folder\\COIN\\Data\\data_clean.py:19: FutureWarning: 'T' is deprecated and will be removed in a future version, please use 'min' instead.\n",
      "  df[\"minute\"] = df[\"timestamp\"].dt.floor(\"T\")  # 按分钟对齐\n",
      "c:\\Users\\qianz\\Desktop\\Untitled Folder\\COIN\\Data\\data_clean.py:19: FutureWarning: 'T' is deprecated and will be removed in a future version, please use 'min' instead.\n",
      "  df[\"minute\"] = df[\"timestamp\"].dt.floor(\"T\")  # 按分钟对齐\n"
     ]
    },
    {
     "name": "stdout",
     "output_type": "stream",
     "text": [
      "成功处理文件: DOGE-USDT-SWAP-aggtrades-2024-07-25.csv\n",
      "成功处理文件: DOGE-USDT-SWAP-aggtrades-2024-07-26.csv\n",
      "成功处理文件: DOGE-USDT-SWAP-aggtrades-2024-07-27.csv\n",
      "成功处理文件: DOGE-USDT-SWAP-aggtrades-2024-07-28.csv\n",
      "成功处理文件: DOGE-USDT-SWAP-aggtrades-2024-07-29.csv\n",
      "成功处理文件: DOGE-USDT-SWAP-aggtrades-2024-07-30.csv\n"
     ]
    },
    {
     "name": "stderr",
     "output_type": "stream",
     "text": [
      "c:\\Users\\qianz\\Desktop\\Untitled Folder\\COIN\\Data\\data_clean.py:19: FutureWarning: 'T' is deprecated and will be removed in a future version, please use 'min' instead.\n",
      "  df[\"minute\"] = df[\"timestamp\"].dt.floor(\"T\")  # 按分钟对齐\n",
      "c:\\Users\\qianz\\Desktop\\Untitled Folder\\COIN\\Data\\data_clean.py:19: FutureWarning: 'T' is deprecated and will be removed in a future version, please use 'min' instead.\n",
      "  df[\"minute\"] = df[\"timestamp\"].dt.floor(\"T\")  # 按分钟对齐\n",
      "c:\\Users\\qianz\\Desktop\\Untitled Folder\\COIN\\Data\\data_clean.py:19: FutureWarning: 'T' is deprecated and will be removed in a future version, please use 'min' instead.\n",
      "  df[\"minute\"] = df[\"timestamp\"].dt.floor(\"T\")  # 按分钟对齐\n",
      "c:\\Users\\qianz\\Desktop\\Untitled Folder\\COIN\\Data\\data_clean.py:19: FutureWarning: 'T' is deprecated and will be removed in a future version, please use 'min' instead.\n",
      "  df[\"minute\"] = df[\"timestamp\"].dt.floor(\"T\")  # 按分钟对齐\n",
      "c:\\Users\\qianz\\Desktop\\Untitled Folder\\COIN\\Data\\data_clean.py:19: FutureWarning: 'T' is deprecated and will be removed in a future version, please use 'min' instead.\n",
      "  df[\"minute\"] = df[\"timestamp\"].dt.floor(\"T\")  # 按分钟对齐\n",
      "c:\\Users\\qianz\\Desktop\\Untitled Folder\\COIN\\Data\\data_clean.py:19: FutureWarning: 'T' is deprecated and will be removed in a future version, please use 'min' instead.\n",
      "  df[\"minute\"] = df[\"timestamp\"].dt.floor(\"T\")  # 按分钟对齐\n"
     ]
    },
    {
     "name": "stdout",
     "output_type": "stream",
     "text": [
      "成功处理文件: DOGE-USDT-SWAP-aggtrades-2024-07-31.csv\n",
      "成功处理文件: DOGE-USDT-SWAP-aggtrades-2024-08-01.csv\n",
      "成功处理文件: DOGE-USDT-SWAP-aggtrades-2024-08-02.csv\n",
      "成功处理文件: DOGE-USDT-SWAP-aggtrades-2024-08-03.csv\n",
      "成功处理文件: DOGE-USDT-SWAP-aggtrades-2024-08-04.csv\n"
     ]
    },
    {
     "name": "stderr",
     "output_type": "stream",
     "text": [
      "c:\\Users\\qianz\\Desktop\\Untitled Folder\\COIN\\Data\\data_clean.py:19: FutureWarning: 'T' is deprecated and will be removed in a future version, please use 'min' instead.\n",
      "  df[\"minute\"] = df[\"timestamp\"].dt.floor(\"T\")  # 按分钟对齐\n",
      "c:\\Users\\qianz\\Desktop\\Untitled Folder\\COIN\\Data\\data_clean.py:19: FutureWarning: 'T' is deprecated and will be removed in a future version, please use 'min' instead.\n",
      "  df[\"minute\"] = df[\"timestamp\"].dt.floor(\"T\")  # 按分钟对齐\n",
      "c:\\Users\\qianz\\Desktop\\Untitled Folder\\COIN\\Data\\data_clean.py:19: FutureWarning: 'T' is deprecated and will be removed in a future version, please use 'min' instead.\n",
      "  df[\"minute\"] = df[\"timestamp\"].dt.floor(\"T\")  # 按分钟对齐\n",
      "c:\\Users\\qianz\\Desktop\\Untitled Folder\\COIN\\Data\\data_clean.py:19: FutureWarning: 'T' is deprecated and will be removed in a future version, please use 'min' instead.\n",
      "  df[\"minute\"] = df[\"timestamp\"].dt.floor(\"T\")  # 按分钟对齐\n",
      "c:\\Users\\qianz\\Desktop\\Untitled Folder\\COIN\\Data\\data_clean.py:19: FutureWarning: 'T' is deprecated and will be removed in a future version, please use 'min' instead.\n",
      "  df[\"minute\"] = df[\"timestamp\"].dt.floor(\"T\")  # 按分钟对齐\n"
     ]
    },
    {
     "name": "stdout",
     "output_type": "stream",
     "text": [
      "成功处理文件: DOGE-USDT-SWAP-aggtrades-2024-08-05.csv\n",
      "成功处理文件: DOGE-USDT-SWAP-aggtrades-2024-08-06.csv\n",
      "成功处理文件: DOGE-USDT-SWAP-aggtrades-2024-08-07.csv\n",
      "成功处理文件: DOGE-USDT-SWAP-aggtrades-2024-08-08.csv\n",
      "成功处理文件: DOGE-USDT-SWAP-aggtrades-2024-08-09.csv\n"
     ]
    },
    {
     "name": "stderr",
     "output_type": "stream",
     "text": [
      "c:\\Users\\qianz\\Desktop\\Untitled Folder\\COIN\\Data\\data_clean.py:19: FutureWarning: 'T' is deprecated and will be removed in a future version, please use 'min' instead.\n",
      "  df[\"minute\"] = df[\"timestamp\"].dt.floor(\"T\")  # 按分钟对齐\n",
      "c:\\Users\\qianz\\Desktop\\Untitled Folder\\COIN\\Data\\data_clean.py:19: FutureWarning: 'T' is deprecated and will be removed in a future version, please use 'min' instead.\n",
      "  df[\"minute\"] = df[\"timestamp\"].dt.floor(\"T\")  # 按分钟对齐\n",
      "c:\\Users\\qianz\\Desktop\\Untitled Folder\\COIN\\Data\\data_clean.py:19: FutureWarning: 'T' is deprecated and will be removed in a future version, please use 'min' instead.\n",
      "  df[\"minute\"] = df[\"timestamp\"].dt.floor(\"T\")  # 按分钟对齐\n",
      "c:\\Users\\qianz\\Desktop\\Untitled Folder\\COIN\\Data\\data_clean.py:19: FutureWarning: 'T' is deprecated and will be removed in a future version, please use 'min' instead.\n",
      "  df[\"minute\"] = df[\"timestamp\"].dt.floor(\"T\")  # 按分钟对齐\n",
      "c:\\Users\\qianz\\Desktop\\Untitled Folder\\COIN\\Data\\data_clean.py:19: FutureWarning: 'T' is deprecated and will be removed in a future version, please use 'min' instead.\n",
      "  df[\"minute\"] = df[\"timestamp\"].dt.floor(\"T\")  # 按分钟对齐\n",
      "c:\\Users\\qianz\\Desktop\\Untitled Folder\\COIN\\Data\\data_clean.py:19: FutureWarning: 'T' is deprecated and will be removed in a future version, please use 'min' instead.\n",
      "  df[\"minute\"] = df[\"timestamp\"].dt.floor(\"T\")  # 按分钟对齐\n",
      "c:\\Users\\qianz\\Desktop\\Untitled Folder\\COIN\\Data\\data_clean.py:19: FutureWarning: 'T' is deprecated and will be removed in a future version, please use 'min' instead.\n",
      "  df[\"minute\"] = df[\"timestamp\"].dt.floor(\"T\")  # 按分钟对齐\n"
     ]
    },
    {
     "name": "stdout",
     "output_type": "stream",
     "text": [
      "成功处理文件: DOGE-USDT-SWAP-aggtrades-2024-08-10.csv\n",
      "成功处理文件: DOGE-USDT-SWAP-aggtrades-2024-08-11.csv\n",
      "成功处理文件: DOGE-USDT-SWAP-aggtrades-2024-08-12.csv\n",
      "成功处理文件: DOGE-USDT-SWAP-aggtrades-2024-08-13.csv\n",
      "成功处理文件: DOGE-USDT-SWAP-aggtrades-2024-08-14.csv\n",
      "成功处理文件: DOGE-USDT-SWAP-aggtrades-2024-08-15.csv\n",
      "成功处理文件: DOGE-USDT-SWAP-aggtrades-2024-08-16.csv\n"
     ]
    },
    {
     "name": "stderr",
     "output_type": "stream",
     "text": [
      "c:\\Users\\qianz\\Desktop\\Untitled Folder\\COIN\\Data\\data_clean.py:19: FutureWarning: 'T' is deprecated and will be removed in a future version, please use 'min' instead.\n",
      "  df[\"minute\"] = df[\"timestamp\"].dt.floor(\"T\")  # 按分钟对齐\n",
      "c:\\Users\\qianz\\Desktop\\Untitled Folder\\COIN\\Data\\data_clean.py:19: FutureWarning: 'T' is deprecated and will be removed in a future version, please use 'min' instead.\n",
      "  df[\"minute\"] = df[\"timestamp\"].dt.floor(\"T\")  # 按分钟对齐\n",
      "c:\\Users\\qianz\\Desktop\\Untitled Folder\\COIN\\Data\\data_clean.py:19: FutureWarning: 'T' is deprecated and will be removed in a future version, please use 'min' instead.\n",
      "  df[\"minute\"] = df[\"timestamp\"].dt.floor(\"T\")  # 按分钟对齐\n",
      "c:\\Users\\qianz\\Desktop\\Untitled Folder\\COIN\\Data\\data_clean.py:19: FutureWarning: 'T' is deprecated and will be removed in a future version, please use 'min' instead.\n",
      "  df[\"minute\"] = df[\"timestamp\"].dt.floor(\"T\")  # 按分钟对齐\n",
      "c:\\Users\\qianz\\Desktop\\Untitled Folder\\COIN\\Data\\data_clean.py:19: FutureWarning: 'T' is deprecated and will be removed in a future version, please use 'min' instead.\n",
      "  df[\"minute\"] = df[\"timestamp\"].dt.floor(\"T\")  # 按分钟对齐\n",
      "c:\\Users\\qianz\\Desktop\\Untitled Folder\\COIN\\Data\\data_clean.py:19: FutureWarning: 'T' is deprecated and will be removed in a future version, please use 'min' instead.\n",
      "  df[\"minute\"] = df[\"timestamp\"].dt.floor(\"T\")  # 按分钟对齐\n",
      "c:\\Users\\qianz\\Desktop\\Untitled Folder\\COIN\\Data\\data_clean.py:19: FutureWarning: 'T' is deprecated and will be removed in a future version, please use 'min' instead.\n",
      "  df[\"minute\"] = df[\"timestamp\"].dt.floor(\"T\")  # 按分钟对齐\n",
      "c:\\Users\\qianz\\Desktop\\Untitled Folder\\COIN\\Data\\data_clean.py:19: FutureWarning: 'T' is deprecated and will be removed in a future version, please use 'min' instead.\n",
      "  df[\"minute\"] = df[\"timestamp\"].dt.floor(\"T\")  # 按分钟对齐\n"
     ]
    },
    {
     "name": "stdout",
     "output_type": "stream",
     "text": [
      "成功处理文件: DOGE-USDT-SWAP-aggtrades-2024-08-17.csv\n",
      "成功处理文件: DOGE-USDT-SWAP-aggtrades-2024-08-18.csv\n",
      "成功处理文件: DOGE-USDT-SWAP-aggtrades-2024-08-19.csv\n",
      "成功处理文件: DOGE-USDT-SWAP-aggtrades-2024-08-20.csv\n",
      "成功处理文件: DOGE-USDT-SWAP-aggtrades-2024-08-21.csv\n",
      "成功处理文件: DOGE-USDT-SWAP-aggtrades-2024-08-22.csv\n",
      "成功处理文件: DOGE-USDT-SWAP-aggtrades-2024-08-23.csv\n",
      "成功处理文件: DOGE-USDT-SWAP-aggtrades-2024-08-24.csv\n"
     ]
    },
    {
     "name": "stderr",
     "output_type": "stream",
     "text": [
      "c:\\Users\\qianz\\Desktop\\Untitled Folder\\COIN\\Data\\data_clean.py:19: FutureWarning: 'T' is deprecated and will be removed in a future version, please use 'min' instead.\n",
      "  df[\"minute\"] = df[\"timestamp\"].dt.floor(\"T\")  # 按分钟对齐\n",
      "c:\\Users\\qianz\\Desktop\\Untitled Folder\\COIN\\Data\\data_clean.py:19: FutureWarning: 'T' is deprecated and will be removed in a future version, please use 'min' instead.\n",
      "  df[\"minute\"] = df[\"timestamp\"].dt.floor(\"T\")  # 按分钟对齐\n",
      "c:\\Users\\qianz\\Desktop\\Untitled Folder\\COIN\\Data\\data_clean.py:19: FutureWarning: 'T' is deprecated and will be removed in a future version, please use 'min' instead.\n",
      "  df[\"minute\"] = df[\"timestamp\"].dt.floor(\"T\")  # 按分钟对齐\n",
      "c:\\Users\\qianz\\Desktop\\Untitled Folder\\COIN\\Data\\data_clean.py:19: FutureWarning: 'T' is deprecated and will be removed in a future version, please use 'min' instead.\n",
      "  df[\"minute\"] = df[\"timestamp\"].dt.floor(\"T\")  # 按分钟对齐\n",
      "c:\\Users\\qianz\\Desktop\\Untitled Folder\\COIN\\Data\\data_clean.py:19: FutureWarning: 'T' is deprecated and will be removed in a future version, please use 'min' instead.\n",
      "  df[\"minute\"] = df[\"timestamp\"].dt.floor(\"T\")  # 按分钟对齐\n",
      "c:\\Users\\qianz\\Desktop\\Untitled Folder\\COIN\\Data\\data_clean.py:19: FutureWarning: 'T' is deprecated and will be removed in a future version, please use 'min' instead.\n",
      "  df[\"minute\"] = df[\"timestamp\"].dt.floor(\"T\")  # 按分钟对齐\n",
      "c:\\Users\\qianz\\Desktop\\Untitled Folder\\COIN\\Data\\data_clean.py:19: FutureWarning: 'T' is deprecated and will be removed in a future version, please use 'min' instead.\n",
      "  df[\"minute\"] = df[\"timestamp\"].dt.floor(\"T\")  # 按分钟对齐\n",
      "c:\\Users\\qianz\\Desktop\\Untitled Folder\\COIN\\Data\\data_clean.py:19: FutureWarning: 'T' is deprecated and will be removed in a future version, please use 'min' instead.\n",
      "  df[\"minute\"] = df[\"timestamp\"].dt.floor(\"T\")  # 按分钟对齐\n",
      "c:\\Users\\qianz\\Desktop\\Untitled Folder\\COIN\\Data\\data_clean.py:19: FutureWarning: 'T' is deprecated and will be removed in a future version, please use 'min' instead.\n",
      "  df[\"minute\"] = df[\"timestamp\"].dt.floor(\"T\")  # 按分钟对齐\n"
     ]
    },
    {
     "name": "stdout",
     "output_type": "stream",
     "text": [
      "成功处理文件: DOGE-USDT-SWAP-aggtrades-2024-08-25.csv\n",
      "成功处理文件: DOGE-USDT-SWAP-aggtrades-2024-08-26.csv\n",
      "成功处理文件: DOGE-USDT-SWAP-aggtrades-2024-08-27.csv\n",
      "成功处理文件: DOGE-USDT-SWAP-aggtrades-2024-08-28.csv\n",
      "成功处理文件: DOGE-USDT-SWAP-aggtrades-2024-08-29.csv\n",
      "成功处理文件: DOGE-USDT-SWAP-aggtrades-2024-08-30.csv\n",
      "成功处理文件: DOGE-USDT-SWAP-aggtrades-2024-08-31.csv\n",
      "成功处理文件: DOGE-USDT-SWAP-aggtrades-2024-09-01.csv\n",
      "成功处理文件: DOGE-USDT-SWAP-aggtrades-2024-09-02.csv\n",
      "成功处理文件: DOGE-USDT-SWAP-aggtrades-2024-09-03.csv\n",
      "成功处理文件: DOGE-USDT-SWAP-aggtrades-2024-09-04.csv\n",
      "成功处理文件: DOGE-USDT-SWAP-aggtrades-2024-09-05.csv\n",
      "成功处理文件: DOGE-USDT-SWAP-aggtrades-2024-09-06.csv\n",
      "成功处理文件: DOGE-USDT-SWAP-aggtrades-2024-09-07.csv\n",
      "成功处理文件: DOGE-USDT-SWAP-aggtrades-2024-09-08.csv\n",
      "成功处理文件: DOGE-USDT-SWAP-aggtrades-2024-09-09.csv\n"
     ]
    },
    {
     "name": "stderr",
     "output_type": "stream",
     "text": [
      "c:\\Users\\qianz\\Desktop\\Untitled Folder\\COIN\\Data\\data_clean.py:19: FutureWarning: 'T' is deprecated and will be removed in a future version, please use 'min' instead.\n",
      "  df[\"minute\"] = df[\"timestamp\"].dt.floor(\"T\")  # 按分钟对齐\n",
      "c:\\Users\\qianz\\Desktop\\Untitled Folder\\COIN\\Data\\data_clean.py:19: FutureWarning: 'T' is deprecated and will be removed in a future version, please use 'min' instead.\n",
      "  df[\"minute\"] = df[\"timestamp\"].dt.floor(\"T\")  # 按分钟对齐\n",
      "c:\\Users\\qianz\\Desktop\\Untitled Folder\\COIN\\Data\\data_clean.py:19: FutureWarning: 'T' is deprecated and will be removed in a future version, please use 'min' instead.\n",
      "  df[\"minute\"] = df[\"timestamp\"].dt.floor(\"T\")  # 按分钟对齐\n",
      "c:\\Users\\qianz\\Desktop\\Untitled Folder\\COIN\\Data\\data_clean.py:19: FutureWarning: 'T' is deprecated and will be removed in a future version, please use 'min' instead.\n",
      "  df[\"minute\"] = df[\"timestamp\"].dt.floor(\"T\")  # 按分钟对齐\n",
      "c:\\Users\\qianz\\Desktop\\Untitled Folder\\COIN\\Data\\data_clean.py:19: FutureWarning: 'T' is deprecated and will be removed in a future version, please use 'min' instead.\n",
      "  df[\"minute\"] = df[\"timestamp\"].dt.floor(\"T\")  # 按分钟对齐\n",
      "c:\\Users\\qianz\\Desktop\\Untitled Folder\\COIN\\Data\\data_clean.py:19: FutureWarning: 'T' is deprecated and will be removed in a future version, please use 'min' instead.\n",
      "  df[\"minute\"] = df[\"timestamp\"].dt.floor(\"T\")  # 按分钟对齐\n",
      "c:\\Users\\qianz\\Desktop\\Untitled Folder\\COIN\\Data\\data_clean.py:19: FutureWarning: 'T' is deprecated and will be removed in a future version, please use 'min' instead.\n",
      "  df[\"minute\"] = df[\"timestamp\"].dt.floor(\"T\")  # 按分钟对齐\n",
      "c:\\Users\\qianz\\Desktop\\Untitled Folder\\COIN\\Data\\data_clean.py:19: FutureWarning: 'T' is deprecated and will be removed in a future version, please use 'min' instead.\n",
      "  df[\"minute\"] = df[\"timestamp\"].dt.floor(\"T\")  # 按分钟对齐\n",
      "c:\\Users\\qianz\\Desktop\\Untitled Folder\\COIN\\Data\\data_clean.py:19: FutureWarning: 'T' is deprecated and will be removed in a future version, please use 'min' instead.\n",
      "  df[\"minute\"] = df[\"timestamp\"].dt.floor(\"T\")  # 按分钟对齐\n",
      "c:\\Users\\qianz\\Desktop\\Untitled Folder\\COIN\\Data\\data_clean.py:19: FutureWarning: 'T' is deprecated and will be removed in a future version, please use 'min' instead.\n",
      "  df[\"minute\"] = df[\"timestamp\"].dt.floor(\"T\")  # 按分钟对齐\n",
      "c:\\Users\\qianz\\Desktop\\Untitled Folder\\COIN\\Data\\data_clean.py:19: FutureWarning: 'T' is deprecated and will be removed in a future version, please use 'min' instead.\n",
      "  df[\"minute\"] = df[\"timestamp\"].dt.floor(\"T\")  # 按分钟对齐\n",
      "c:\\Users\\qianz\\Desktop\\Untitled Folder\\COIN\\Data\\data_clean.py:19: FutureWarning: 'T' is deprecated and will be removed in a future version, please use 'min' instead.\n",
      "  df[\"minute\"] = df[\"timestamp\"].dt.floor(\"T\")  # 按分钟对齐\n",
      "c:\\Users\\qianz\\Desktop\\Untitled Folder\\COIN\\Data\\data_clean.py:19: FutureWarning: 'T' is deprecated and will be removed in a future version, please use 'min' instead.\n",
      "  df[\"minute\"] = df[\"timestamp\"].dt.floor(\"T\")  # 按分钟对齐\n",
      "c:\\Users\\qianz\\Desktop\\Untitled Folder\\COIN\\Data\\data_clean.py:19: FutureWarning: 'T' is deprecated and will be removed in a future version, please use 'min' instead.\n",
      "  df[\"minute\"] = df[\"timestamp\"].dt.floor(\"T\")  # 按分钟对齐\n",
      "c:\\Users\\qianz\\Desktop\\Untitled Folder\\COIN\\Data\\data_clean.py:19: FutureWarning: 'T' is deprecated and will be removed in a future version, please use 'min' instead.\n",
      "  df[\"minute\"] = df[\"timestamp\"].dt.floor(\"T\")  # 按分钟对齐\n",
      "c:\\Users\\qianz\\Desktop\\Untitled Folder\\COIN\\Data\\data_clean.py:19: FutureWarning: 'T' is deprecated and will be removed in a future version, please use 'min' instead.\n",
      "  df[\"minute\"] = df[\"timestamp\"].dt.floor(\"T\")  # 按分钟对齐\n"
     ]
    },
    {
     "name": "stdout",
     "output_type": "stream",
     "text": [
      "成功处理文件: DOGE-USDT-SWAP-aggtrades-2024-09-10.csv\n",
      "成功处理文件: DOGE-USDT-SWAP-aggtrades-2024-09-11.csv\n",
      "成功处理文件: DOGE-USDT-SWAP-aggtrades-2024-09-12.csv\n",
      "成功处理文件: DOGE-USDT-SWAP-aggtrades-2024-09-13.csv\n",
      "成功处理文件: DOGE-USDT-SWAP-aggtrades-2024-09-14.csv\n",
      "成功处理文件: DOGE-USDT-SWAP-aggtrades-2024-09-15.csv\n",
      "成功处理文件: DOGE-USDT-SWAP-aggtrades-2024-09-16.csv\n",
      "成功处理文件: DOGE-USDT-SWAP-aggtrades-2024-09-17.csv\n",
      "成功处理文件: DOGE-USDT-SWAP-aggtrades-2024-09-18.csv\n"
     ]
    },
    {
     "name": "stderr",
     "output_type": "stream",
     "text": [
      "c:\\Users\\qianz\\Desktop\\Untitled Folder\\COIN\\Data\\data_clean.py:19: FutureWarning: 'T' is deprecated and will be removed in a future version, please use 'min' instead.\n",
      "  df[\"minute\"] = df[\"timestamp\"].dt.floor(\"T\")  # 按分钟对齐\n",
      "c:\\Users\\qianz\\Desktop\\Untitled Folder\\COIN\\Data\\data_clean.py:19: FutureWarning: 'T' is deprecated and will be removed in a future version, please use 'min' instead.\n",
      "  df[\"minute\"] = df[\"timestamp\"].dt.floor(\"T\")  # 按分钟对齐\n",
      "c:\\Users\\qianz\\Desktop\\Untitled Folder\\COIN\\Data\\data_clean.py:19: FutureWarning: 'T' is deprecated and will be removed in a future version, please use 'min' instead.\n",
      "  df[\"minute\"] = df[\"timestamp\"].dt.floor(\"T\")  # 按分钟对齐\n",
      "c:\\Users\\qianz\\Desktop\\Untitled Folder\\COIN\\Data\\data_clean.py:19: FutureWarning: 'T' is deprecated and will be removed in a future version, please use 'min' instead.\n",
      "  df[\"minute\"] = df[\"timestamp\"].dt.floor(\"T\")  # 按分钟对齐\n",
      "c:\\Users\\qianz\\Desktop\\Untitled Folder\\COIN\\Data\\data_clean.py:19: FutureWarning: 'T' is deprecated and will be removed in a future version, please use 'min' instead.\n",
      "  df[\"minute\"] = df[\"timestamp\"].dt.floor(\"T\")  # 按分钟对齐\n",
      "c:\\Users\\qianz\\Desktop\\Untitled Folder\\COIN\\Data\\data_clean.py:19: FutureWarning: 'T' is deprecated and will be removed in a future version, please use 'min' instead.\n",
      "  df[\"minute\"] = df[\"timestamp\"].dt.floor(\"T\")  # 按分钟对齐\n",
      "c:\\Users\\qianz\\Desktop\\Untitled Folder\\COIN\\Data\\data_clean.py:19: FutureWarning: 'T' is deprecated and will be removed in a future version, please use 'min' instead.\n",
      "  df[\"minute\"] = df[\"timestamp\"].dt.floor(\"T\")  # 按分钟对齐\n"
     ]
    },
    {
     "name": "stdout",
     "output_type": "stream",
     "text": [
      "成功处理文件: DOGE-USDT-SWAP-aggtrades-2024-09-19.csv\n",
      "成功处理文件: DOGE-USDT-SWAP-aggtrades-2024-09-20.csv\n",
      "成功处理文件: DOGE-USDT-SWAP-aggtrades-2024-09-21.csv\n",
      "成功处理文件: DOGE-USDT-SWAP-aggtrades-2024-09-22.csv\n",
      "成功处理文件: DOGE-USDT-SWAP-aggtrades-2024-09-23.csv\n",
      "成功处理文件: DOGE-USDT-SWAP-aggtrades-2024-09-24.csv\n",
      "成功处理文件: DOGE-USDT-SWAP-aggtrades-2024-09-25.csv\n"
     ]
    },
    {
     "name": "stderr",
     "output_type": "stream",
     "text": [
      "c:\\Users\\qianz\\Desktop\\Untitled Folder\\COIN\\Data\\data_clean.py:19: FutureWarning: 'T' is deprecated and will be removed in a future version, please use 'min' instead.\n",
      "  df[\"minute\"] = df[\"timestamp\"].dt.floor(\"T\")  # 按分钟对齐\n",
      "c:\\Users\\qianz\\Desktop\\Untitled Folder\\COIN\\Data\\data_clean.py:19: FutureWarning: 'T' is deprecated and will be removed in a future version, please use 'min' instead.\n",
      "  df[\"minute\"] = df[\"timestamp\"].dt.floor(\"T\")  # 按分钟对齐\n",
      "c:\\Users\\qianz\\Desktop\\Untitled Folder\\COIN\\Data\\data_clean.py:19: FutureWarning: 'T' is deprecated and will be removed in a future version, please use 'min' instead.\n",
      "  df[\"minute\"] = df[\"timestamp\"].dt.floor(\"T\")  # 按分钟对齐\n",
      "c:\\Users\\qianz\\Desktop\\Untitled Folder\\COIN\\Data\\data_clean.py:19: FutureWarning: 'T' is deprecated and will be removed in a future version, please use 'min' instead.\n",
      "  df[\"minute\"] = df[\"timestamp\"].dt.floor(\"T\")  # 按分钟对齐\n",
      "c:\\Users\\qianz\\Desktop\\Untitled Folder\\COIN\\Data\\data_clean.py:19: FutureWarning: 'T' is deprecated and will be removed in a future version, please use 'min' instead.\n",
      "  df[\"minute\"] = df[\"timestamp\"].dt.floor(\"T\")  # 按分钟对齐\n",
      "c:\\Users\\qianz\\Desktop\\Untitled Folder\\COIN\\Data\\data_clean.py:19: FutureWarning: 'T' is deprecated and will be removed in a future version, please use 'min' instead.\n",
      "  df[\"minute\"] = df[\"timestamp\"].dt.floor(\"T\")  # 按分钟对齐\n"
     ]
    },
    {
     "name": "stdout",
     "output_type": "stream",
     "text": [
      "成功处理文件: DOGE-USDT-SWAP-aggtrades-2024-09-26.csv\n",
      "成功处理文件: DOGE-USDT-SWAP-aggtrades-2024-09-27.csv\n",
      "成功处理文件: DOGE-USDT-SWAP-aggtrades-2024-09-28.csv\n",
      "成功处理文件: DOGE-USDT-SWAP-aggtrades-2024-09-29.csv\n",
      "成功处理文件: DOGE-USDT-SWAP-aggtrades-2024-09-30.csv\n",
      "成功处理文件: DOGE-USDT-SWAP-aggtrades-2024-10-01.csv\n"
     ]
    },
    {
     "name": "stderr",
     "output_type": "stream",
     "text": [
      "c:\\Users\\qianz\\Desktop\\Untitled Folder\\COIN\\Data\\data_clean.py:19: FutureWarning: 'T' is deprecated and will be removed in a future version, please use 'min' instead.\n",
      "  df[\"minute\"] = df[\"timestamp\"].dt.floor(\"T\")  # 按分钟对齐\n",
      "c:\\Users\\qianz\\Desktop\\Untitled Folder\\COIN\\Data\\data_clean.py:19: FutureWarning: 'T' is deprecated and will be removed in a future version, please use 'min' instead.\n",
      "  df[\"minute\"] = df[\"timestamp\"].dt.floor(\"T\")  # 按分钟对齐\n",
      "c:\\Users\\qianz\\Desktop\\Untitled Folder\\COIN\\Data\\data_clean.py:19: FutureWarning: 'T' is deprecated and will be removed in a future version, please use 'min' instead.\n",
      "  df[\"minute\"] = df[\"timestamp\"].dt.floor(\"T\")  # 按分钟对齐\n",
      "c:\\Users\\qianz\\Desktop\\Untitled Folder\\COIN\\Data\\data_clean.py:19: FutureWarning: 'T' is deprecated and will be removed in a future version, please use 'min' instead.\n",
      "  df[\"minute\"] = df[\"timestamp\"].dt.floor(\"T\")  # 按分钟对齐\n",
      "c:\\Users\\qianz\\Desktop\\Untitled Folder\\COIN\\Data\\data_clean.py:19: FutureWarning: 'T' is deprecated and will be removed in a future version, please use 'min' instead.\n",
      "  df[\"minute\"] = df[\"timestamp\"].dt.floor(\"T\")  # 按分钟对齐\n",
      "c:\\Users\\qianz\\Desktop\\Untitled Folder\\COIN\\Data\\data_clean.py:19: FutureWarning: 'T' is deprecated and will be removed in a future version, please use 'min' instead.\n",
      "  df[\"minute\"] = df[\"timestamp\"].dt.floor(\"T\")  # 按分钟对齐\n",
      "c:\\Users\\qianz\\Desktop\\Untitled Folder\\COIN\\Data\\data_clean.py:19: FutureWarning: 'T' is deprecated and will be removed in a future version, please use 'min' instead.\n",
      "  df[\"minute\"] = df[\"timestamp\"].dt.floor(\"T\")  # 按分钟对齐\n"
     ]
    },
    {
     "name": "stdout",
     "output_type": "stream",
     "text": [
      "成功处理文件: DOGE-USDT-SWAP-aggtrades-2024-10-02.csv\n",
      "成功处理文件: DOGE-USDT-SWAP-aggtrades-2024-10-03.csv\n",
      "成功处理文件: DOGE-USDT-SWAP-aggtrades-2024-10-04.csv\n",
      "成功处理文件: DOGE-USDT-SWAP-aggtrades-2024-10-05.csv\n",
      "成功处理文件: DOGE-USDT-SWAP-aggtrades-2024-10-06.csv\n",
      "成功处理文件: DOGE-USDT-SWAP-aggtrades-2024-10-07.csv\n",
      "成功处理文件: DOGE-USDT-SWAP-aggtrades-2024-10-08.csv\n"
     ]
    },
    {
     "name": "stderr",
     "output_type": "stream",
     "text": [
      "c:\\Users\\qianz\\Desktop\\Untitled Folder\\COIN\\Data\\data_clean.py:19: FutureWarning: 'T' is deprecated and will be removed in a future version, please use 'min' instead.\n",
      "  df[\"minute\"] = df[\"timestamp\"].dt.floor(\"T\")  # 按分钟对齐\n",
      "c:\\Users\\qianz\\Desktop\\Untitled Folder\\COIN\\Data\\data_clean.py:19: FutureWarning: 'T' is deprecated and will be removed in a future version, please use 'min' instead.\n",
      "  df[\"minute\"] = df[\"timestamp\"].dt.floor(\"T\")  # 按分钟对齐\n",
      "c:\\Users\\qianz\\Desktop\\Untitled Folder\\COIN\\Data\\data_clean.py:19: FutureWarning: 'T' is deprecated and will be removed in a future version, please use 'min' instead.\n",
      "  df[\"minute\"] = df[\"timestamp\"].dt.floor(\"T\")  # 按分钟对齐\n",
      "c:\\Users\\qianz\\Desktop\\Untitled Folder\\COIN\\Data\\data_clean.py:19: FutureWarning: 'T' is deprecated and will be removed in a future version, please use 'min' instead.\n",
      "  df[\"minute\"] = df[\"timestamp\"].dt.floor(\"T\")  # 按分钟对齐\n",
      "c:\\Users\\qianz\\Desktop\\Untitled Folder\\COIN\\Data\\data_clean.py:19: FutureWarning: 'T' is deprecated and will be removed in a future version, please use 'min' instead.\n",
      "  df[\"minute\"] = df[\"timestamp\"].dt.floor(\"T\")  # 按分钟对齐\n",
      "c:\\Users\\qianz\\Desktop\\Untitled Folder\\COIN\\Data\\data_clean.py:19: FutureWarning: 'T' is deprecated and will be removed in a future version, please use 'min' instead.\n",
      "  df[\"minute\"] = df[\"timestamp\"].dt.floor(\"T\")  # 按分钟对齐\n",
      "c:\\Users\\qianz\\Desktop\\Untitled Folder\\COIN\\Data\\data_clean.py:19: FutureWarning: 'T' is deprecated and will be removed in a future version, please use 'min' instead.\n",
      "  df[\"minute\"] = df[\"timestamp\"].dt.floor(\"T\")  # 按分钟对齐\n"
     ]
    },
    {
     "name": "stdout",
     "output_type": "stream",
     "text": [
      "成功处理文件: DOGE-USDT-SWAP-aggtrades-2024-10-09.csv\n",
      "成功处理文件: DOGE-USDT-SWAP-aggtrades-2024-10-10.csv\n",
      "成功处理文件: DOGE-USDT-SWAP-aggtrades-2024-10-11.csv\n",
      "成功处理文件: DOGE-USDT-SWAP-aggtrades-2024-10-12.csv\n",
      "成功处理文件: DOGE-USDT-SWAP-aggtrades-2024-10-13.csv\n",
      "成功处理文件: DOGE-USDT-SWAP-aggtrades-2024-10-14.csv\n",
      "成功处理文件: DOGE-USDT-SWAP-aggtrades-2024-10-15.csv\n"
     ]
    },
    {
     "name": "stderr",
     "output_type": "stream",
     "text": [
      "c:\\Users\\qianz\\Desktop\\Untitled Folder\\COIN\\Data\\data_clean.py:19: FutureWarning: 'T' is deprecated and will be removed in a future version, please use 'min' instead.\n",
      "  df[\"minute\"] = df[\"timestamp\"].dt.floor(\"T\")  # 按分钟对齐\n",
      "c:\\Users\\qianz\\Desktop\\Untitled Folder\\COIN\\Data\\data_clean.py:19: FutureWarning: 'T' is deprecated and will be removed in a future version, please use 'min' instead.\n",
      "  df[\"minute\"] = df[\"timestamp\"].dt.floor(\"T\")  # 按分钟对齐\n",
      "c:\\Users\\qianz\\Desktop\\Untitled Folder\\COIN\\Data\\data_clean.py:19: FutureWarning: 'T' is deprecated and will be removed in a future version, please use 'min' instead.\n",
      "  df[\"minute\"] = df[\"timestamp\"].dt.floor(\"T\")  # 按分钟对齐\n",
      "c:\\Users\\qianz\\Desktop\\Untitled Folder\\COIN\\Data\\data_clean.py:19: FutureWarning: 'T' is deprecated and will be removed in a future version, please use 'min' instead.\n",
      "  df[\"minute\"] = df[\"timestamp\"].dt.floor(\"T\")  # 按分钟对齐\n",
      "c:\\Users\\qianz\\Desktop\\Untitled Folder\\COIN\\Data\\data_clean.py:19: FutureWarning: 'T' is deprecated and will be removed in a future version, please use 'min' instead.\n",
      "  df[\"minute\"] = df[\"timestamp\"].dt.floor(\"T\")  # 按分钟对齐\n"
     ]
    },
    {
     "name": "stdout",
     "output_type": "stream",
     "text": [
      "成功处理文件: DOGE-USDT-SWAP-aggtrades-2024-10-16.csv\n",
      "成功处理文件: DOGE-USDT-SWAP-aggtrades-2024-10-17.csv\n",
      "成功处理文件: DOGE-USDT-SWAP-aggtrades-2024-10-18.csv\n",
      "成功处理文件: DOGE-USDT-SWAP-aggtrades-2024-10-19.csv\n",
      "成功处理文件: DOGE-USDT-SWAP-aggtrades-2024-10-20.csv\n"
     ]
    },
    {
     "name": "stderr",
     "output_type": "stream",
     "text": [
      "c:\\Users\\qianz\\Desktop\\Untitled Folder\\COIN\\Data\\data_clean.py:19: FutureWarning: 'T' is deprecated and will be removed in a future version, please use 'min' instead.\n",
      "  df[\"minute\"] = df[\"timestamp\"].dt.floor(\"T\")  # 按分钟对齐\n",
      "c:\\Users\\qianz\\Desktop\\Untitled Folder\\COIN\\Data\\data_clean.py:19: FutureWarning: 'T' is deprecated and will be removed in a future version, please use 'min' instead.\n",
      "  df[\"minute\"] = df[\"timestamp\"].dt.floor(\"T\")  # 按分钟对齐\n",
      "c:\\Users\\qianz\\Desktop\\Untitled Folder\\COIN\\Data\\data_clean.py:19: FutureWarning: 'T' is deprecated and will be removed in a future version, please use 'min' instead.\n",
      "  df[\"minute\"] = df[\"timestamp\"].dt.floor(\"T\")  # 按分钟对齐\n",
      "c:\\Users\\qianz\\Desktop\\Untitled Folder\\COIN\\Data\\data_clean.py:19: FutureWarning: 'T' is deprecated and will be removed in a future version, please use 'min' instead.\n",
      "  df[\"minute\"] = df[\"timestamp\"].dt.floor(\"T\")  # 按分钟对齐\n",
      "c:\\Users\\qianz\\Desktop\\Untitled Folder\\COIN\\Data\\data_clean.py:19: FutureWarning: 'T' is deprecated and will be removed in a future version, please use 'min' instead.\n",
      "  df[\"minute\"] = df[\"timestamp\"].dt.floor(\"T\")  # 按分钟对齐\n"
     ]
    },
    {
     "name": "stdout",
     "output_type": "stream",
     "text": [
      "成功处理文件: DOGE-USDT-SWAP-aggtrades-2024-10-21.csv\n",
      "成功处理文件: DOGE-USDT-SWAP-aggtrades-2024-10-22.csv\n",
      "成功处理文件: DOGE-USDT-SWAP-aggtrades-2024-10-23.csv\n",
      "成功处理文件: DOGE-USDT-SWAP-aggtrades-2024-10-24.csv\n",
      "成功处理文件: DOGE-USDT-SWAP-aggtrades-2024-10-25.csv\n"
     ]
    },
    {
     "name": "stderr",
     "output_type": "stream",
     "text": [
      "c:\\Users\\qianz\\Desktop\\Untitled Folder\\COIN\\Data\\data_clean.py:19: FutureWarning: 'T' is deprecated and will be removed in a future version, please use 'min' instead.\n",
      "  df[\"minute\"] = df[\"timestamp\"].dt.floor(\"T\")  # 按分钟对齐\n",
      "c:\\Users\\qianz\\Desktop\\Untitled Folder\\COIN\\Data\\data_clean.py:19: FutureWarning: 'T' is deprecated and will be removed in a future version, please use 'min' instead.\n",
      "  df[\"minute\"] = df[\"timestamp\"].dt.floor(\"T\")  # 按分钟对齐\n",
      "c:\\Users\\qianz\\Desktop\\Untitled Folder\\COIN\\Data\\data_clean.py:19: FutureWarning: 'T' is deprecated and will be removed in a future version, please use 'min' instead.\n",
      "  df[\"minute\"] = df[\"timestamp\"].dt.floor(\"T\")  # 按分钟对齐\n",
      "c:\\Users\\qianz\\Desktop\\Untitled Folder\\COIN\\Data\\data_clean.py:19: FutureWarning: 'T' is deprecated and will be removed in a future version, please use 'min' instead.\n",
      "  df[\"minute\"] = df[\"timestamp\"].dt.floor(\"T\")  # 按分钟对齐\n",
      "c:\\Users\\qianz\\Desktop\\Untitled Folder\\COIN\\Data\\data_clean.py:19: FutureWarning: 'T' is deprecated and will be removed in a future version, please use 'min' instead.\n",
      "  df[\"minute\"] = df[\"timestamp\"].dt.floor(\"T\")  # 按分钟对齐\n"
     ]
    },
    {
     "name": "stdout",
     "output_type": "stream",
     "text": [
      "成功处理文件: DOGE-USDT-SWAP-aggtrades-2024-10-26.csv\n",
      "成功处理文件: DOGE-USDT-SWAP-aggtrades-2024-10-27.csv\n",
      "成功处理文件: DOGE-USDT-SWAP-aggtrades-2024-10-28.csv\n",
      "成功处理文件: DOGE-USDT-SWAP-aggtrades-2024-10-29.csv\n",
      "成功处理文件: DOGE-USDT-SWAP-aggtrades-2024-10-30.csv\n",
      "成功处理文件: DOGE-USDT-SWAP-aggtrades-2024-10-31.csv\n",
      "成功处理文件: DOGE-USDT-SWAP-aggtrades-2024-11-01.csv\n",
      "成功处理文件: DOGE-USDT-SWAP-aggtrades-2024-11-02.csv\n"
     ]
    },
    {
     "name": "stderr",
     "output_type": "stream",
     "text": [
      "c:\\Users\\qianz\\Desktop\\Untitled Folder\\COIN\\Data\\data_clean.py:19: FutureWarning: 'T' is deprecated and will be removed in a future version, please use 'min' instead.\n",
      "  df[\"minute\"] = df[\"timestamp\"].dt.floor(\"T\")  # 按分钟对齐\n",
      "c:\\Users\\qianz\\Desktop\\Untitled Folder\\COIN\\Data\\data_clean.py:19: FutureWarning: 'T' is deprecated and will be removed in a future version, please use 'min' instead.\n",
      "  df[\"minute\"] = df[\"timestamp\"].dt.floor(\"T\")  # 按分钟对齐\n",
      "c:\\Users\\qianz\\Desktop\\Untitled Folder\\COIN\\Data\\data_clean.py:19: FutureWarning: 'T' is deprecated and will be removed in a future version, please use 'min' instead.\n",
      "  df[\"minute\"] = df[\"timestamp\"].dt.floor(\"T\")  # 按分钟对齐\n",
      "c:\\Users\\qianz\\Desktop\\Untitled Folder\\COIN\\Data\\data_clean.py:19: FutureWarning: 'T' is deprecated and will be removed in a future version, please use 'min' instead.\n",
      "  df[\"minute\"] = df[\"timestamp\"].dt.floor(\"T\")  # 按分钟对齐\n"
     ]
    },
    {
     "name": "stdout",
     "output_type": "stream",
     "text": [
      "成功处理文件: DOGE-USDT-SWAP-aggtrades-2024-11-03.csv\n",
      "成功处理文件: DOGE-USDT-SWAP-aggtrades-2024-11-04.csv\n",
      "成功处理文件: DOGE-USDT-SWAP-aggtrades-2024-11-05.csv\n"
     ]
    },
    {
     "name": "stderr",
     "output_type": "stream",
     "text": [
      "c:\\Users\\qianz\\Desktop\\Untitled Folder\\COIN\\Data\\data_clean.py:19: FutureWarning: 'T' is deprecated and will be removed in a future version, please use 'min' instead.\n",
      "  df[\"minute\"] = df[\"timestamp\"].dt.floor(\"T\")  # 按分钟对齐\n",
      "c:\\Users\\qianz\\Desktop\\Untitled Folder\\COIN\\Data\\data_clean.py:19: FutureWarning: 'T' is deprecated and will be removed in a future version, please use 'min' instead.\n",
      "  df[\"minute\"] = df[\"timestamp\"].dt.floor(\"T\")  # 按分钟对齐\n",
      "c:\\Users\\qianz\\Desktop\\Untitled Folder\\COIN\\Data\\data_clean.py:19: FutureWarning: 'T' is deprecated and will be removed in a future version, please use 'min' instead.\n",
      "  df[\"minute\"] = df[\"timestamp\"].dt.floor(\"T\")  # 按分钟对齐\n",
      "c:\\Users\\qianz\\Desktop\\Untitled Folder\\COIN\\Data\\data_clean.py:19: FutureWarning: 'T' is deprecated and will be removed in a future version, please use 'min' instead.\n",
      "  df[\"minute\"] = df[\"timestamp\"].dt.floor(\"T\")  # 按分钟对齐\n",
      "c:\\Users\\qianz\\Desktop\\Untitled Folder\\COIN\\Data\\data_clean.py:19: FutureWarning: 'T' is deprecated and will be removed in a future version, please use 'min' instead.\n",
      "  df[\"minute\"] = df[\"timestamp\"].dt.floor(\"T\")  # 按分钟对齐\n"
     ]
    },
    {
     "name": "stdout",
     "output_type": "stream",
     "text": [
      "成功处理文件: DOGE-USDT-SWAP-aggtrades-2024-11-06.csv\n",
      "成功处理文件: DOGE-USDT-SWAP-aggtrades-2024-11-07.csv\n",
      "成功处理文件: DOGE-USDT-SWAP-aggtrades-2024-11-08.csv\n"
     ]
    },
    {
     "name": "stderr",
     "output_type": "stream",
     "text": [
      "c:\\Users\\qianz\\Desktop\\Untitled Folder\\COIN\\Data\\data_clean.py:19: FutureWarning: 'T' is deprecated and will be removed in a future version, please use 'min' instead.\n",
      "  df[\"minute\"] = df[\"timestamp\"].dt.floor(\"T\")  # 按分钟对齐\n",
      "c:\\Users\\qianz\\Desktop\\Untitled Folder\\COIN\\Data\\data_clean.py:19: FutureWarning: 'T' is deprecated and will be removed in a future version, please use 'min' instead.\n",
      "  df[\"minute\"] = df[\"timestamp\"].dt.floor(\"T\")  # 按分钟对齐\n"
     ]
    },
    {
     "name": "stdout",
     "output_type": "stream",
     "text": [
      "成功处理文件: DOGE-USDT-SWAP-aggtrades-2024-11-09.csv\n",
      "成功处理文件: DOGE-USDT-SWAP-aggtrades-2024-11-10.csv\n"
     ]
    },
    {
     "name": "stderr",
     "output_type": "stream",
     "text": [
      "c:\\Users\\qianz\\Desktop\\Untitled Folder\\COIN\\Data\\data_clean.py:19: FutureWarning: 'T' is deprecated and will be removed in a future version, please use 'min' instead.\n",
      "  df[\"minute\"] = df[\"timestamp\"].dt.floor(\"T\")  # 按分钟对齐\n"
     ]
    },
    {
     "name": "stdout",
     "output_type": "stream",
     "text": [
      "成功处理文件: DOGE-USDT-SWAP-aggtrades-2024-11-11.csv\n"
     ]
    },
    {
     "name": "stderr",
     "output_type": "stream",
     "text": [
      "c:\\Users\\qianz\\Desktop\\Untitled Folder\\COIN\\Data\\data_clean.py:19: FutureWarning: 'T' is deprecated and will be removed in a future version, please use 'min' instead.\n",
      "  df[\"minute\"] = df[\"timestamp\"].dt.floor(\"T\")  # 按分钟对齐\n"
     ]
    },
    {
     "name": "stdout",
     "output_type": "stream",
     "text": [
      "成功处理文件: DOGE-USDT-SWAP-aggtrades-2024-11-12.csv\n"
     ]
    },
    {
     "name": "stderr",
     "output_type": "stream",
     "text": [
      "c:\\Users\\qianz\\Desktop\\Untitled Folder\\COIN\\Data\\data_clean.py:19: FutureWarning: 'T' is deprecated and will be removed in a future version, please use 'min' instead.\n",
      "  df[\"minute\"] = df[\"timestamp\"].dt.floor(\"T\")  # 按分钟对齐\n"
     ]
    },
    {
     "name": "stdout",
     "output_type": "stream",
     "text": [
      "成功处理文件: DOGE-USDT-SWAP-aggtrades-2024-11-13.csv\n"
     ]
    },
    {
     "name": "stderr",
     "output_type": "stream",
     "text": [
      "c:\\Users\\qianz\\Desktop\\Untitled Folder\\COIN\\Data\\data_clean.py:19: FutureWarning: 'T' is deprecated and will be removed in a future version, please use 'min' instead.\n",
      "  df[\"minute\"] = df[\"timestamp\"].dt.floor(\"T\")  # 按分钟对齐\n",
      "c:\\Users\\qianz\\Desktop\\Untitled Folder\\COIN\\Data\\data_clean.py:19: FutureWarning: 'T' is deprecated and will be removed in a future version, please use 'min' instead.\n",
      "  df[\"minute\"] = df[\"timestamp\"].dt.floor(\"T\")  # 按分钟对齐\n"
     ]
    },
    {
     "name": "stdout",
     "output_type": "stream",
     "text": [
      "成功处理文件: DOGE-USDT-SWAP-aggtrades-2024-11-14.csv\n",
      "成功处理文件: DOGE-USDT-SWAP-aggtrades-2024-11-15.csv\n"
     ]
    },
    {
     "name": "stderr",
     "output_type": "stream",
     "text": [
      "c:\\Users\\qianz\\Desktop\\Untitled Folder\\COIN\\Data\\data_clean.py:19: FutureWarning: 'T' is deprecated and will be removed in a future version, please use 'min' instead.\n",
      "  df[\"minute\"] = df[\"timestamp\"].dt.floor(\"T\")  # 按分钟对齐\n",
      "c:\\Users\\qianz\\Desktop\\Untitled Folder\\COIN\\Data\\data_clean.py:19: FutureWarning: 'T' is deprecated and will be removed in a future version, please use 'min' instead.\n",
      "  df[\"minute\"] = df[\"timestamp\"].dt.floor(\"T\")  # 按分钟对齐\n"
     ]
    },
    {
     "name": "stdout",
     "output_type": "stream",
     "text": [
      "成功处理文件: DOGE-USDT-SWAP-aggtrades-2024-11-16.csv\n",
      "成功处理文件: DOGE-USDT-SWAP-aggtrades-2024-11-17.csv\n"
     ]
    },
    {
     "name": "stderr",
     "output_type": "stream",
     "text": [
      "c:\\Users\\qianz\\Desktop\\Untitled Folder\\COIN\\Data\\data_clean.py:19: FutureWarning: 'T' is deprecated and will be removed in a future version, please use 'min' instead.\n",
      "  df[\"minute\"] = df[\"timestamp\"].dt.floor(\"T\")  # 按分钟对齐\n",
      "c:\\Users\\qianz\\Desktop\\Untitled Folder\\COIN\\Data\\data_clean.py:19: FutureWarning: 'T' is deprecated and will be removed in a future version, please use 'min' instead.\n",
      "  df[\"minute\"] = df[\"timestamp\"].dt.floor(\"T\")  # 按分钟对齐\n"
     ]
    },
    {
     "name": "stdout",
     "output_type": "stream",
     "text": [
      "成功处理文件: DOGE-USDT-SWAP-aggtrades-2024-11-18.csv\n",
      "成功处理文件: DOGE-USDT-SWAP-aggtrades-2024-11-19.csv\n"
     ]
    },
    {
     "name": "stderr",
     "output_type": "stream",
     "text": [
      "c:\\Users\\qianz\\Desktop\\Untitled Folder\\COIN\\Data\\data_clean.py:19: FutureWarning: 'T' is deprecated and will be removed in a future version, please use 'min' instead.\n",
      "  df[\"minute\"] = df[\"timestamp\"].dt.floor(\"T\")  # 按分钟对齐\n",
      "c:\\Users\\qianz\\Desktop\\Untitled Folder\\COIN\\Data\\data_clean.py:19: FutureWarning: 'T' is deprecated and will be removed in a future version, please use 'min' instead.\n",
      "  df[\"minute\"] = df[\"timestamp\"].dt.floor(\"T\")  # 按分钟对齐\n"
     ]
    },
    {
     "name": "stdout",
     "output_type": "stream",
     "text": [
      "成功处理文件: DOGE-USDT-SWAP-aggtrades-2024-11-20.csv\n",
      "成功处理文件: DOGE-USDT-SWAP-aggtrades-2024-11-21.csv\n"
     ]
    },
    {
     "name": "stderr",
     "output_type": "stream",
     "text": [
      "c:\\Users\\qianz\\Desktop\\Untitled Folder\\COIN\\Data\\data_clean.py:19: FutureWarning: 'T' is deprecated and will be removed in a future version, please use 'min' instead.\n",
      "  df[\"minute\"] = df[\"timestamp\"].dt.floor(\"T\")  # 按分钟对齐\n",
      "c:\\Users\\qianz\\Desktop\\Untitled Folder\\COIN\\Data\\data_clean.py:19: FutureWarning: 'T' is deprecated and will be removed in a future version, please use 'min' instead.\n",
      "  df[\"minute\"] = df[\"timestamp\"].dt.floor(\"T\")  # 按分钟对齐\n"
     ]
    },
    {
     "name": "stdout",
     "output_type": "stream",
     "text": [
      "成功处理文件: DOGE-USDT-SWAP-aggtrades-2024-11-22.csv\n",
      "成功处理文件: DOGE-USDT-SWAP-aggtrades-2024-11-23.csv\n",
      "成功处理文件: DOGE-USDT-SWAP-aggtrades-2024-11-24.csv\n"
     ]
    },
    {
     "name": "stderr",
     "output_type": "stream",
     "text": [
      "c:\\Users\\qianz\\Desktop\\Untitled Folder\\COIN\\Data\\data_clean.py:19: FutureWarning: 'T' is deprecated and will be removed in a future version, please use 'min' instead.\n",
      "  df[\"minute\"] = df[\"timestamp\"].dt.floor(\"T\")  # 按分钟对齐\n",
      "c:\\Users\\qianz\\Desktop\\Untitled Folder\\COIN\\Data\\data_clean.py:19: FutureWarning: 'T' is deprecated and will be removed in a future version, please use 'min' instead.\n",
      "  df[\"minute\"] = df[\"timestamp\"].dt.floor(\"T\")  # 按分钟对齐\n"
     ]
    },
    {
     "name": "stdout",
     "output_type": "stream",
     "text": [
      "成功处理文件: DOGE-USDT-SWAP-aggtrades-2024-11-25.csv\n",
      "成功处理文件: DOGE-USDT-SWAP-aggtrades-2024-11-26.csv\n"
     ]
    },
    {
     "name": "stderr",
     "output_type": "stream",
     "text": [
      "c:\\Users\\qianz\\Desktop\\Untitled Folder\\COIN\\Data\\data_clean.py:19: FutureWarning: 'T' is deprecated and will be removed in a future version, please use 'min' instead.\n",
      "  df[\"minute\"] = df[\"timestamp\"].dt.floor(\"T\")  # 按分钟对齐\n",
      "c:\\Users\\qianz\\Desktop\\Untitled Folder\\COIN\\Data\\data_clean.py:19: FutureWarning: 'T' is deprecated and will be removed in a future version, please use 'min' instead.\n",
      "  df[\"minute\"] = df[\"timestamp\"].dt.floor(\"T\")  # 按分钟对齐\n"
     ]
    },
    {
     "name": "stdout",
     "output_type": "stream",
     "text": [
      "成功处理文件: DOGE-USDT-SWAP-aggtrades-2024-11-27.csv\n",
      "成功处理文件: DOGE-USDT-SWAP-aggtrades-2024-11-28.csv\n",
      "成功处理文件: DOGE-USDT-SWAP-aggtrades-2024-11-29.csv\n"
     ]
    },
    {
     "name": "stderr",
     "output_type": "stream",
     "text": [
      "c:\\Users\\qianz\\Desktop\\Untitled Folder\\COIN\\Data\\data_clean.py:19: FutureWarning: 'T' is deprecated and will be removed in a future version, please use 'min' instead.\n",
      "  df[\"minute\"] = df[\"timestamp\"].dt.floor(\"T\")  # 按分钟对齐\n",
      "c:\\Users\\qianz\\Desktop\\Untitled Folder\\COIN\\Data\\data_clean.py:19: FutureWarning: 'T' is deprecated and will be removed in a future version, please use 'min' instead.\n",
      "  df[\"minute\"] = df[\"timestamp\"].dt.floor(\"T\")  # 按分钟对齐\n",
      "c:\\Users\\qianz\\Desktop\\Untitled Folder\\COIN\\Data\\data_clean.py:19: FutureWarning: 'T' is deprecated and will be removed in a future version, please use 'min' instead.\n",
      "  df[\"minute\"] = df[\"timestamp\"].dt.floor(\"T\")  # 按分钟对齐\n"
     ]
    },
    {
     "name": "stdout",
     "output_type": "stream",
     "text": [
      "成功处理文件: DOGE-USDT-SWAP-aggtrades-2024-11-30.csv\n",
      "成功处理文件: DOGE-USDT-SWAP-aggtrades-2024-12-01.csv\n"
     ]
    },
    {
     "name": "stderr",
     "output_type": "stream",
     "text": [
      "c:\\Users\\qianz\\Desktop\\Untitled Folder\\COIN\\Data\\data_clean.py:19: FutureWarning: 'T' is deprecated and will be removed in a future version, please use 'min' instead.\n",
      "  df[\"minute\"] = df[\"timestamp\"].dt.floor(\"T\")  # 按分钟对齐\n",
      "c:\\Users\\qianz\\Desktop\\Untitled Folder\\COIN\\Data\\data_clean.py:19: FutureWarning: 'T' is deprecated and will be removed in a future version, please use 'min' instead.\n",
      "  df[\"minute\"] = df[\"timestamp\"].dt.floor(\"T\")  # 按分钟对齐\n"
     ]
    },
    {
     "name": "stdout",
     "output_type": "stream",
     "text": [
      "成功处理文件: DOGE-USDT-SWAP-aggtrades-2024-12-02.csv\n",
      "成功处理文件: DOGE-USDT-SWAP-aggtrades-2024-12-03.csv\n"
     ]
    },
    {
     "name": "stderr",
     "output_type": "stream",
     "text": [
      "c:\\Users\\qianz\\Desktop\\Untitled Folder\\COIN\\Data\\data_clean.py:19: FutureWarning: 'T' is deprecated and will be removed in a future version, please use 'min' instead.\n",
      "  df[\"minute\"] = df[\"timestamp\"].dt.floor(\"T\")  # 按分钟对齐\n",
      "c:\\Users\\qianz\\Desktop\\Untitled Folder\\COIN\\Data\\data_clean.py:19: FutureWarning: 'T' is deprecated and will be removed in a future version, please use 'min' instead.\n",
      "  df[\"minute\"] = df[\"timestamp\"].dt.floor(\"T\")  # 按分钟对齐\n"
     ]
    },
    {
     "name": "stdout",
     "output_type": "stream",
     "text": [
      "成功处理文件: DOGE-USDT-SWAP-aggtrades-2024-12-04.csv\n",
      "成功处理文件: DOGE-USDT-SWAP-aggtrades-2024-12-05.csv\n"
     ]
    },
    {
     "name": "stderr",
     "output_type": "stream",
     "text": [
      "c:\\Users\\qianz\\Desktop\\Untitled Folder\\COIN\\Data\\data_clean.py:19: FutureWarning: 'T' is deprecated and will be removed in a future version, please use 'min' instead.\n",
      "  df[\"minute\"] = df[\"timestamp\"].dt.floor(\"T\")  # 按分钟对齐\n",
      "c:\\Users\\qianz\\Desktop\\Untitled Folder\\COIN\\Data\\data_clean.py:19: FutureWarning: 'T' is deprecated and will be removed in a future version, please use 'min' instead.\n",
      "  df[\"minute\"] = df[\"timestamp\"].dt.floor(\"T\")  # 按分钟对齐\n"
     ]
    },
    {
     "name": "stdout",
     "output_type": "stream",
     "text": [
      "成功处理文件: DOGE-USDT-SWAP-aggtrades-2024-12-06.csv\n",
      "成功处理文件: DOGE-USDT-SWAP-aggtrades-2024-12-07.csv\n"
     ]
    },
    {
     "name": "stderr",
     "output_type": "stream",
     "text": [
      "c:\\Users\\qianz\\Desktop\\Untitled Folder\\COIN\\Data\\data_clean.py:19: FutureWarning: 'T' is deprecated and will be removed in a future version, please use 'min' instead.\n",
      "  df[\"minute\"] = df[\"timestamp\"].dt.floor(\"T\")  # 按分钟对齐\n",
      "c:\\Users\\qianz\\Desktop\\Untitled Folder\\COIN\\Data\\data_clean.py:19: FutureWarning: 'T' is deprecated and will be removed in a future version, please use 'min' instead.\n",
      "  df[\"minute\"] = df[\"timestamp\"].dt.floor(\"T\")  # 按分钟对齐\n"
     ]
    },
    {
     "name": "stdout",
     "output_type": "stream",
     "text": [
      "成功处理文件: DOGE-USDT-SWAP-aggtrades-2024-12-08.csv\n",
      "成功处理文件: DOGE-USDT-SWAP-aggtrades-2024-12-09.csv\n"
     ]
    },
    {
     "name": "stderr",
     "output_type": "stream",
     "text": [
      "c:\\Users\\qianz\\Desktop\\Untitled Folder\\COIN\\Data\\data_clean.py:19: FutureWarning: 'T' is deprecated and will be removed in a future version, please use 'min' instead.\n",
      "  df[\"minute\"] = df[\"timestamp\"].dt.floor(\"T\")  # 按分钟对齐\n",
      "c:\\Users\\qianz\\Desktop\\Untitled Folder\\COIN\\Data\\data_clean.py:19: FutureWarning: 'T' is deprecated and will be removed in a future version, please use 'min' instead.\n",
      "  df[\"minute\"] = df[\"timestamp\"].dt.floor(\"T\")  # 按分钟对齐\n"
     ]
    },
    {
     "name": "stdout",
     "output_type": "stream",
     "text": [
      "成功处理文件: DOGE-USDT-SWAP-aggtrades-2024-12-10.csv\n",
      "成功处理文件: DOGE-USDT-SWAP-aggtrades-2024-12-11.csv\n"
     ]
    },
    {
     "name": "stderr",
     "output_type": "stream",
     "text": [
      "c:\\Users\\qianz\\Desktop\\Untitled Folder\\COIN\\Data\\data_clean.py:19: FutureWarning: 'T' is deprecated and will be removed in a future version, please use 'min' instead.\n",
      "  df[\"minute\"] = df[\"timestamp\"].dt.floor(\"T\")  # 按分钟对齐\n",
      "c:\\Users\\qianz\\Desktop\\Untitled Folder\\COIN\\Data\\data_clean.py:19: FutureWarning: 'T' is deprecated and will be removed in a future version, please use 'min' instead.\n",
      "  df[\"minute\"] = df[\"timestamp\"].dt.floor(\"T\")  # 按分钟对齐\n",
      "c:\\Users\\qianz\\Desktop\\Untitled Folder\\COIN\\Data\\data_clean.py:19: FutureWarning: 'T' is deprecated and will be removed in a future version, please use 'min' instead.\n",
      "  df[\"minute\"] = df[\"timestamp\"].dt.floor(\"T\")  # 按分钟对齐\n"
     ]
    },
    {
     "name": "stdout",
     "output_type": "stream",
     "text": [
      "成功处理文件: DOGE-USDT-SWAP-aggtrades-2024-12-12.csv\n",
      "成功处理文件: DOGE-USDT-SWAP-aggtrades-2024-12-13.csv\n",
      "成功处理文件: DOGE-USDT-SWAP-aggtrades-2024-12-14.csv\n"
     ]
    },
    {
     "name": "stderr",
     "output_type": "stream",
     "text": [
      "c:\\Users\\qianz\\Desktop\\Untitled Folder\\COIN\\Data\\data_clean.py:19: FutureWarning: 'T' is deprecated and will be removed in a future version, please use 'min' instead.\n",
      "  df[\"minute\"] = df[\"timestamp\"].dt.floor(\"T\")  # 按分钟对齐\n",
      "c:\\Users\\qianz\\Desktop\\Untitled Folder\\COIN\\Data\\data_clean.py:19: FutureWarning: 'T' is deprecated and will be removed in a future version, please use 'min' instead.\n",
      "  df[\"minute\"] = df[\"timestamp\"].dt.floor(\"T\")  # 按分钟对齐\n",
      "c:\\Users\\qianz\\Desktop\\Untitled Folder\\COIN\\Data\\data_clean.py:19: FutureWarning: 'T' is deprecated and will be removed in a future version, please use 'min' instead.\n",
      "  df[\"minute\"] = df[\"timestamp\"].dt.floor(\"T\")  # 按分钟对齐\n"
     ]
    },
    {
     "name": "stdout",
     "output_type": "stream",
     "text": [
      "成功处理文件: DOGE-USDT-SWAP-aggtrades-2024-12-15.csv\n",
      "成功处理文件: DOGE-USDT-SWAP-aggtrades-2024-12-16.csv\n",
      "成功处理文件: DOGE-USDT-SWAP-aggtrades-2024-12-17.csv\n"
     ]
    },
    {
     "name": "stderr",
     "output_type": "stream",
     "text": [
      "c:\\Users\\qianz\\Desktop\\Untitled Folder\\COIN\\Data\\data_clean.py:19: FutureWarning: 'T' is deprecated and will be removed in a future version, please use 'min' instead.\n",
      "  df[\"minute\"] = df[\"timestamp\"].dt.floor(\"T\")  # 按分钟对齐\n",
      "c:\\Users\\qianz\\Desktop\\Untitled Folder\\COIN\\Data\\data_clean.py:19: FutureWarning: 'T' is deprecated and will be removed in a future version, please use 'min' instead.\n",
      "  df[\"minute\"] = df[\"timestamp\"].dt.floor(\"T\")  # 按分钟对齐\n",
      "c:\\Users\\qianz\\Desktop\\Untitled Folder\\COIN\\Data\\data_clean.py:19: FutureWarning: 'T' is deprecated and will be removed in a future version, please use 'min' instead.\n",
      "  df[\"minute\"] = df[\"timestamp\"].dt.floor(\"T\")  # 按分钟对齐\n"
     ]
    },
    {
     "name": "stdout",
     "output_type": "stream",
     "text": [
      "成功处理文件: DOGE-USDT-SWAP-aggtrades-2024-12-18.csv\n",
      "成功处理文件: DOGE-USDT-SWAP-aggtrades-2024-12-19.csv\n"
     ]
    },
    {
     "name": "stderr",
     "output_type": "stream",
     "text": [
      "c:\\Users\\qianz\\Desktop\\Untitled Folder\\COIN\\Data\\data_clean.py:19: FutureWarning: 'T' is deprecated and will be removed in a future version, please use 'min' instead.\n",
      "  df[\"minute\"] = df[\"timestamp\"].dt.floor(\"T\")  # 按分钟对齐\n",
      "c:\\Users\\qianz\\Desktop\\Untitled Folder\\COIN\\Data\\data_clean.py:19: FutureWarning: 'T' is deprecated and will be removed in a future version, please use 'min' instead.\n",
      "  df[\"minute\"] = df[\"timestamp\"].dt.floor(\"T\")  # 按分钟对齐\n"
     ]
    },
    {
     "name": "stdout",
     "output_type": "stream",
     "text": [
      "成功处理文件: DOGE-USDT-SWAP-aggtrades-2024-12-20.csv\n",
      "成功处理文件: DOGE-USDT-SWAP-aggtrades-2024-12-21.csv\n"
     ]
    },
    {
     "name": "stderr",
     "output_type": "stream",
     "text": [
      "c:\\Users\\qianz\\Desktop\\Untitled Folder\\COIN\\Data\\data_clean.py:19: FutureWarning: 'T' is deprecated and will be removed in a future version, please use 'min' instead.\n",
      "  df[\"minute\"] = df[\"timestamp\"].dt.floor(\"T\")  # 按分钟对齐\n",
      "c:\\Users\\qianz\\Desktop\\Untitled Folder\\COIN\\Data\\data_clean.py:19: FutureWarning: 'T' is deprecated and will be removed in a future version, please use 'min' instead.\n",
      "  df[\"minute\"] = df[\"timestamp\"].dt.floor(\"T\")  # 按分钟对齐\n"
     ]
    },
    {
     "name": "stdout",
     "output_type": "stream",
     "text": [
      "成功处理文件: DOGE-USDT-SWAP-aggtrades-2024-12-22.csv\n",
      "成功处理文件: DOGE-USDT-SWAP-aggtrades-2024-12-23.csv\n"
     ]
    },
    {
     "name": "stderr",
     "output_type": "stream",
     "text": [
      "c:\\Users\\qianz\\Desktop\\Untitled Folder\\COIN\\Data\\data_clean.py:19: FutureWarning: 'T' is deprecated and will be removed in a future version, please use 'min' instead.\n",
      "  df[\"minute\"] = df[\"timestamp\"].dt.floor(\"T\")  # 按分钟对齐\n",
      "c:\\Users\\qianz\\Desktop\\Untitled Folder\\COIN\\Data\\data_clean.py:19: FutureWarning: 'T' is deprecated and will be removed in a future version, please use 'min' instead.\n",
      "  df[\"minute\"] = df[\"timestamp\"].dt.floor(\"T\")  # 按分钟对齐\n",
      "c:\\Users\\qianz\\Desktop\\Untitled Folder\\COIN\\Data\\data_clean.py:19: FutureWarning: 'T' is deprecated and will be removed in a future version, please use 'min' instead.\n",
      "  df[\"minute\"] = df[\"timestamp\"].dt.floor(\"T\")  # 按分钟对齐\n"
     ]
    },
    {
     "name": "stdout",
     "output_type": "stream",
     "text": [
      "成功处理文件: DOGE-USDT-SWAP-aggtrades-2024-12-24.csv\n",
      "成功处理文件: DOGE-USDT-SWAP-aggtrades-2024-12-25.csv\n",
      "成功处理文件: DOGE-USDT-SWAP-aggtrades-2024-12-26.csv\n"
     ]
    },
    {
     "name": "stderr",
     "output_type": "stream",
     "text": [
      "c:\\Users\\qianz\\Desktop\\Untitled Folder\\COIN\\Data\\data_clean.py:19: FutureWarning: 'T' is deprecated and will be removed in a future version, please use 'min' instead.\n",
      "  df[\"minute\"] = df[\"timestamp\"].dt.floor(\"T\")  # 按分钟对齐\n",
      "c:\\Users\\qianz\\Desktop\\Untitled Folder\\COIN\\Data\\data_clean.py:19: FutureWarning: 'T' is deprecated and will be removed in a future version, please use 'min' instead.\n",
      "  df[\"minute\"] = df[\"timestamp\"].dt.floor(\"T\")  # 按分钟对齐\n",
      "c:\\Users\\qianz\\Desktop\\Untitled Folder\\COIN\\Data\\data_clean.py:19: FutureWarning: 'T' is deprecated and will be removed in a future version, please use 'min' instead.\n",
      "  df[\"minute\"] = df[\"timestamp\"].dt.floor(\"T\")  # 按分钟对齐\n",
      "c:\\Users\\qianz\\Desktop\\Untitled Folder\\COIN\\Data\\data_clean.py:19: FutureWarning: 'T' is deprecated and will be removed in a future version, please use 'min' instead.\n",
      "  df[\"minute\"] = df[\"timestamp\"].dt.floor(\"T\")  # 按分钟对齐\n"
     ]
    },
    {
     "name": "stdout",
     "output_type": "stream",
     "text": [
      "成功处理文件: DOGE-USDT-SWAP-aggtrades-2024-12-27.csv\n",
      "成功处理文件: DOGE-USDT-SWAP-aggtrades-2024-12-28.csv\n",
      "成功处理文件: DOGE-USDT-SWAP-aggtrades-2024-12-29.csv\n",
      "成功处理文件: DOGE-USDT-SWAP-aggtrades-2024-12-30.csv\n"
     ]
    },
    {
     "name": "stderr",
     "output_type": "stream",
     "text": [
      "c:\\Users\\qianz\\Desktop\\Untitled Folder\\COIN\\Data\\data_clean.py:19: FutureWarning: 'T' is deprecated and will be removed in a future version, please use 'min' instead.\n",
      "  df[\"minute\"] = df[\"timestamp\"].dt.floor(\"T\")  # 按分钟对齐\n",
      "c:\\Users\\qianz\\Desktop\\Untitled Folder\\COIN\\Data\\data_clean.py:19: FutureWarning: 'T' is deprecated and will be removed in a future version, please use 'min' instead.\n",
      "  df[\"minute\"] = df[\"timestamp\"].dt.floor(\"T\")  # 按分钟对齐\n",
      "c:\\Users\\qianz\\Desktop\\Untitled Folder\\COIN\\Data\\data_clean.py:19: FutureWarning: 'T' is deprecated and will be removed in a future version, please use 'min' instead.\n",
      "  df[\"minute\"] = df[\"timestamp\"].dt.floor(\"T\")  # 按分钟对齐\n",
      "c:\\Users\\qianz\\Desktop\\Untitled Folder\\COIN\\Data\\data_clean.py:19: FutureWarning: 'T' is deprecated and will be removed in a future version, please use 'min' instead.\n",
      "  df[\"minute\"] = df[\"timestamp\"].dt.floor(\"T\")  # 按分钟对齐\n"
     ]
    },
    {
     "name": "stdout",
     "output_type": "stream",
     "text": [
      "成功处理文件: DOGE-USDT-SWAP-aggtrades-2024-12-31.csv\n",
      "成功处理文件: DOGE-USDT-SWAP-aggtrades-2025-01-01.csv\n",
      "成功处理文件: DOGE-USDT-SWAP-aggtrades-2025-01-02.csv\n",
      "成功处理文件: DOGE-USDT-SWAP-aggtrades-2025-01-03.csv\n",
      "成功处理文件: DOGE-USDT-SWAP-aggtrades-2025-01-04.csv\n",
      "成功处理文件: DOGE-USDT-SWAP-aggtrades-2025-01-05.csv\n"
     ]
    },
    {
     "name": "stderr",
     "output_type": "stream",
     "text": [
      "c:\\Users\\qianz\\Desktop\\Untitled Folder\\COIN\\Data\\data_clean.py:19: FutureWarning: 'T' is deprecated and will be removed in a future version, please use 'min' instead.\n",
      "  df[\"minute\"] = df[\"timestamp\"].dt.floor(\"T\")  # 按分钟对齐\n",
      "c:\\Users\\qianz\\Desktop\\Untitled Folder\\COIN\\Data\\data_clean.py:19: FutureWarning: 'T' is deprecated and will be removed in a future version, please use 'min' instead.\n",
      "  df[\"minute\"] = df[\"timestamp\"].dt.floor(\"T\")  # 按分钟对齐\n",
      "c:\\Users\\qianz\\Desktop\\Untitled Folder\\COIN\\Data\\data_clean.py:19: FutureWarning: 'T' is deprecated and will be removed in a future version, please use 'min' instead.\n",
      "  df[\"minute\"] = df[\"timestamp\"].dt.floor(\"T\")  # 按分钟对齐\n"
     ]
    },
    {
     "name": "stdout",
     "output_type": "stream",
     "text": [
      "成功处理文件: DOGE-USDT-SWAP-aggtrades-2025-01-06.csv\n",
      "成功处理文件: DOGE-USDT-SWAP-aggtrades-2025-01-07.csv\n",
      "成功处理文件: DOGE-USDT-SWAP-aggtrades-2025-01-08.csv\n"
     ]
    },
    {
     "name": "stderr",
     "output_type": "stream",
     "text": [
      "c:\\Users\\qianz\\Desktop\\Untitled Folder\\COIN\\Data\\data_clean.py:19: FutureWarning: 'T' is deprecated and will be removed in a future version, please use 'min' instead.\n",
      "  df[\"minute\"] = df[\"timestamp\"].dt.floor(\"T\")  # 按分钟对齐\n",
      "c:\\Users\\qianz\\Desktop\\Untitled Folder\\COIN\\Data\\data_clean.py:19: FutureWarning: 'T' is deprecated and will be removed in a future version, please use 'min' instead.\n",
      "  df[\"minute\"] = df[\"timestamp\"].dt.floor(\"T\")  # 按分钟对齐\n",
      "c:\\Users\\qianz\\Desktop\\Untitled Folder\\COIN\\Data\\data_clean.py:19: FutureWarning: 'T' is deprecated and will be removed in a future version, please use 'min' instead.\n",
      "  df[\"minute\"] = df[\"timestamp\"].dt.floor(\"T\")  # 按分钟对齐\n",
      "c:\\Users\\qianz\\Desktop\\Untitled Folder\\COIN\\Data\\data_clean.py:19: FutureWarning: 'T' is deprecated and will be removed in a future version, please use 'min' instead.\n",
      "  df[\"minute\"] = df[\"timestamp\"].dt.floor(\"T\")  # 按分钟对齐\n",
      "c:\\Users\\qianz\\Desktop\\Untitled Folder\\COIN\\Data\\data_clean.py:19: FutureWarning: 'T' is deprecated and will be removed in a future version, please use 'min' instead.\n",
      "  df[\"minute\"] = df[\"timestamp\"].dt.floor(\"T\")  # 按分钟对齐\n",
      "c:\\Users\\qianz\\Desktop\\Untitled Folder\\COIN\\Data\\data_clean.py:19: FutureWarning: 'T' is deprecated and will be removed in a future version, please use 'min' instead.\n",
      "  df[\"minute\"] = df[\"timestamp\"].dt.floor(\"T\")  # 按分钟对齐\n"
     ]
    },
    {
     "name": "stdout",
     "output_type": "stream",
     "text": [
      "成功处理文件: DOGE-USDT-SWAP-aggtrades-2025-01-09.csv\n",
      "成功处理文件: DOGE-USDT-SWAP-aggtrades-2025-01-10.csv\n",
      "成功处理文件: DOGE-USDT-SWAP-aggtrades-2025-01-11.csv\n",
      "成功处理文件: DOGE-USDT-SWAP-aggtrades-2025-01-12.csv\n",
      "成功处理文件: DOGE-USDT-SWAP-aggtrades-2025-01-13.csv\n",
      "成功处理文件: DOGE-USDT-SWAP-aggtrades-2025-01-14.csv\n"
     ]
    },
    {
     "name": "stderr",
     "output_type": "stream",
     "text": [
      "c:\\Users\\qianz\\Desktop\\Untitled Folder\\COIN\\Data\\data_clean.py:19: FutureWarning: 'T' is deprecated and will be removed in a future version, please use 'min' instead.\n",
      "  df[\"minute\"] = df[\"timestamp\"].dt.floor(\"T\")  # 按分钟对齐\n",
      "c:\\Users\\qianz\\Desktop\\Untitled Folder\\COIN\\Data\\data_clean.py:19: FutureWarning: 'T' is deprecated and will be removed in a future version, please use 'min' instead.\n",
      "  df[\"minute\"] = df[\"timestamp\"].dt.floor(\"T\")  # 按分钟对齐\n",
      "c:\\Users\\qianz\\Desktop\\Untitled Folder\\COIN\\Data\\data_clean.py:19: FutureWarning: 'T' is deprecated and will be removed in a future version, please use 'min' instead.\n",
      "  df[\"minute\"] = df[\"timestamp\"].dt.floor(\"T\")  # 按分钟对齐\n"
     ]
    },
    {
     "name": "stdout",
     "output_type": "stream",
     "text": [
      "成功处理文件: DOGE-USDT-SWAP-aggtrades-2025-01-15.csv\n",
      "成功处理文件: DOGE-USDT-SWAP-aggtrades-2025-01-16.csv\n",
      "成功处理文件: DOGE-USDT-SWAP-aggtrades-2025-01-17.csv\n"
     ]
    },
    {
     "name": "stderr",
     "output_type": "stream",
     "text": [
      "c:\\Users\\qianz\\Desktop\\Untitled Folder\\COIN\\Data\\data_clean.py:19: FutureWarning: 'T' is deprecated and will be removed in a future version, please use 'min' instead.\n",
      "  df[\"minute\"] = df[\"timestamp\"].dt.floor(\"T\")  # 按分钟对齐\n",
      "c:\\Users\\qianz\\Desktop\\Untitled Folder\\COIN\\Data\\data_clean.py:19: FutureWarning: 'T' is deprecated and will be removed in a future version, please use 'min' instead.\n",
      "  df[\"minute\"] = df[\"timestamp\"].dt.floor(\"T\")  # 按分钟对齐\n",
      "c:\\Users\\qianz\\Desktop\\Untitled Folder\\COIN\\Data\\data_clean.py:19: FutureWarning: 'T' is deprecated and will be removed in a future version, please use 'min' instead.\n",
      "  df[\"minute\"] = df[\"timestamp\"].dt.floor(\"T\")  # 按分钟对齐\n",
      "c:\\Users\\qianz\\Desktop\\Untitled Folder\\COIN\\Data\\data_clean.py:19: FutureWarning: 'T' is deprecated and will be removed in a future version, please use 'min' instead.\n",
      "  df[\"minute\"] = df[\"timestamp\"].dt.floor(\"T\")  # 按分钟对齐\n"
     ]
    },
    {
     "name": "stdout",
     "output_type": "stream",
     "text": [
      "成功处理文件: DOGE-USDT-SWAP-aggtrades-2025-01-18.csv\n",
      "成功处理文件: DOGE-USDT-SWAP-aggtrades-2025-01-19.csv\n"
     ]
    },
    {
     "name": "stderr",
     "output_type": "stream",
     "text": [
      "c:\\Users\\qianz\\Desktop\\Untitled Folder\\COIN\\Data\\data_clean.py:19: FutureWarning: 'T' is deprecated and will be removed in a future version, please use 'min' instead.\n",
      "  df[\"minute\"] = df[\"timestamp\"].dt.floor(\"T\")  # 按分钟对齐\n",
      "c:\\Users\\qianz\\Desktop\\Untitled Folder\\COIN\\Data\\data_clean.py:19: FutureWarning: 'T' is deprecated and will be removed in a future version, please use 'min' instead.\n",
      "  df[\"minute\"] = df[\"timestamp\"].dt.floor(\"T\")  # 按分钟对齐\n"
     ]
    },
    {
     "name": "stdout",
     "output_type": "stream",
     "text": [
      "成功处理文件: DOGE-USDT-SWAP-aggtrades-2025-01-20.csv\n",
      "成功处理文件: DOGE-USDT-SWAP-aggtrades-2025-01-21.csv\n"
     ]
    },
    {
     "name": "stderr",
     "output_type": "stream",
     "text": [
      "c:\\Users\\qianz\\Desktop\\Untitled Folder\\COIN\\Data\\data_clean.py:19: FutureWarning: 'T' is deprecated and will be removed in a future version, please use 'min' instead.\n",
      "  df[\"minute\"] = df[\"timestamp\"].dt.floor(\"T\")  # 按分钟对齐\n",
      "c:\\Users\\qianz\\Desktop\\Untitled Folder\\COIN\\Data\\data_clean.py:19: FutureWarning: 'T' is deprecated and will be removed in a future version, please use 'min' instead.\n",
      "  df[\"minute\"] = df[\"timestamp\"].dt.floor(\"T\")  # 按分钟对齐\n",
      "c:\\Users\\qianz\\Desktop\\Untitled Folder\\COIN\\Data\\data_clean.py:19: FutureWarning: 'T' is deprecated and will be removed in a future version, please use 'min' instead.\n",
      "  df[\"minute\"] = df[\"timestamp\"].dt.floor(\"T\")  # 按分钟对齐\n"
     ]
    },
    {
     "name": "stdout",
     "output_type": "stream",
     "text": [
      "成功处理文件: DOGE-USDT-SWAP-aggtrades-2025-01-22.csv\n",
      "成功处理文件: DOGE-USDT-SWAP-aggtrades-2025-01-23.csv\n",
      "成功处理文件: DOGE-USDT-SWAP-aggtrades-2025-01-24.csv\n"
     ]
    },
    {
     "name": "stderr",
     "output_type": "stream",
     "text": [
      "c:\\Users\\qianz\\Desktop\\Untitled Folder\\COIN\\Data\\data_clean.py:19: FutureWarning: 'T' is deprecated and will be removed in a future version, please use 'min' instead.\n",
      "  df[\"minute\"] = df[\"timestamp\"].dt.floor(\"T\")  # 按分钟对齐\n",
      "c:\\Users\\qianz\\Desktop\\Untitled Folder\\COIN\\Data\\data_clean.py:19: FutureWarning: 'T' is deprecated and will be removed in a future version, please use 'min' instead.\n",
      "  df[\"minute\"] = df[\"timestamp\"].dt.floor(\"T\")  # 按分钟对齐\n",
      "c:\\Users\\qianz\\Desktop\\Untitled Folder\\COIN\\Data\\data_clean.py:19: FutureWarning: 'T' is deprecated and will be removed in a future version, please use 'min' instead.\n",
      "  df[\"minute\"] = df[\"timestamp\"].dt.floor(\"T\")  # 按分钟对齐\n"
     ]
    },
    {
     "name": "stdout",
     "output_type": "stream",
     "text": [
      "成功处理文件: DOGE-USDT-SWAP-aggtrades-2025-01-25.csv\n",
      "成功处理文件: DOGE-USDT-SWAP-aggtrades-2025-01-26.csv\n",
      "成功处理文件: DOGE-USDT-SWAP-aggtrades-2025-01-27.csv\n"
     ]
    },
    {
     "name": "stderr",
     "output_type": "stream",
     "text": [
      "c:\\Users\\qianz\\Desktop\\Untitled Folder\\COIN\\Data\\data_clean.py:19: FutureWarning: 'T' is deprecated and will be removed in a future version, please use 'min' instead.\n",
      "  df[\"minute\"] = df[\"timestamp\"].dt.floor(\"T\")  # 按分钟对齐\n",
      "c:\\Users\\qianz\\Desktop\\Untitled Folder\\COIN\\Data\\data_clean.py:19: FutureWarning: 'T' is deprecated and will be removed in a future version, please use 'min' instead.\n",
      "  df[\"minute\"] = df[\"timestamp\"].dt.floor(\"T\")  # 按分钟对齐\n",
      "c:\\Users\\qianz\\Desktop\\Untitled Folder\\COIN\\Data\\data_clean.py:19: FutureWarning: 'T' is deprecated and will be removed in a future version, please use 'min' instead.\n",
      "  df[\"minute\"] = df[\"timestamp\"].dt.floor(\"T\")  # 按分钟对齐\n"
     ]
    },
    {
     "name": "stdout",
     "output_type": "stream",
     "text": [
      "成功处理文件: DOGE-USDT-SWAP-aggtrades-2025-01-28.csv\n",
      "成功处理文件: DOGE-USDT-SWAP-aggtrades-2025-01-29.csv\n",
      "成功处理文件: DOGE-USDT-SWAP-aggtrades-2025-01-30.csv\n"
     ]
    },
    {
     "name": "stderr",
     "output_type": "stream",
     "text": [
      "c:\\Users\\qianz\\Desktop\\Untitled Folder\\COIN\\Data\\data_clean.py:19: FutureWarning: 'T' is deprecated and will be removed in a future version, please use 'min' instead.\n",
      "  df[\"minute\"] = df[\"timestamp\"].dt.floor(\"T\")  # 按分钟对齐\n",
      "c:\\Users\\qianz\\Desktop\\Untitled Folder\\COIN\\Data\\data_clean.py:19: FutureWarning: 'T' is deprecated and will be removed in a future version, please use 'min' instead.\n",
      "  df[\"minute\"] = df[\"timestamp\"].dt.floor(\"T\")  # 按分钟对齐\n",
      "c:\\Users\\qianz\\Desktop\\Untitled Folder\\COIN\\Data\\data_clean.py:19: FutureWarning: 'T' is deprecated and will be removed in a future version, please use 'min' instead.\n",
      "  df[\"minute\"] = df[\"timestamp\"].dt.floor(\"T\")  # 按分钟对齐\n"
     ]
    },
    {
     "name": "stdout",
     "output_type": "stream",
     "text": [
      "成功处理文件: DOGE-USDT-SWAP-aggtrades-2025-01-31.csv\n",
      "成功处理文件: DOGE-USDT-SWAP-aggtrades-2025-02-01.csv\n",
      "成功处理文件: DOGE-USDT-SWAP-aggtrades-2025-02-02.csv\n"
     ]
    },
    {
     "name": "stderr",
     "output_type": "stream",
     "text": [
      "c:\\Users\\qianz\\Desktop\\Untitled Folder\\COIN\\Data\\data_clean.py:19: FutureWarning: 'T' is deprecated and will be removed in a future version, please use 'min' instead.\n",
      "  df[\"minute\"] = df[\"timestamp\"].dt.floor(\"T\")  # 按分钟对齐\n",
      "c:\\Users\\qianz\\Desktop\\Untitled Folder\\COIN\\Data\\data_clean.py:19: FutureWarning: 'T' is deprecated and will be removed in a future version, please use 'min' instead.\n",
      "  df[\"minute\"] = df[\"timestamp\"].dt.floor(\"T\")  # 按分钟对齐\n"
     ]
    },
    {
     "name": "stdout",
     "output_type": "stream",
     "text": [
      "成功处理文件: DOGE-USDT-SWAP-aggtrades-2025-02-03.csv\n",
      "成功处理文件: DOGE-USDT-SWAP-aggtrades-2025-02-04.csv\n"
     ]
    },
    {
     "name": "stderr",
     "output_type": "stream",
     "text": [
      "c:\\Users\\qianz\\Desktop\\Untitled Folder\\COIN\\Data\\data_clean.py:19: FutureWarning: 'T' is deprecated and will be removed in a future version, please use 'min' instead.\n",
      "  df[\"minute\"] = df[\"timestamp\"].dt.floor(\"T\")  # 按分钟对齐\n",
      "c:\\Users\\qianz\\Desktop\\Untitled Folder\\COIN\\Data\\data_clean.py:19: FutureWarning: 'T' is deprecated and will be removed in a future version, please use 'min' instead.\n",
      "  df[\"minute\"] = df[\"timestamp\"].dt.floor(\"T\")  # 按分钟对齐\n",
      "c:\\Users\\qianz\\Desktop\\Untitled Folder\\COIN\\Data\\data_clean.py:19: FutureWarning: 'T' is deprecated and will be removed in a future version, please use 'min' instead.\n",
      "  df[\"minute\"] = df[\"timestamp\"].dt.floor(\"T\")  # 按分钟对齐\n"
     ]
    },
    {
     "name": "stdout",
     "output_type": "stream",
     "text": [
      "成功处理文件: DOGE-USDT-SWAP-aggtrades-2025-02-05.csv\n",
      "成功处理文件: DOGE-USDT-SWAP-aggtrades-2025-02-06.csv\n",
      "成功处理文件: DOGE-USDT-SWAP-aggtrades-2025-02-07.csv\n"
     ]
    },
    {
     "name": "stderr",
     "output_type": "stream",
     "text": [
      "c:\\Users\\qianz\\Desktop\\Untitled Folder\\COIN\\Data\\data_clean.py:19: FutureWarning: 'T' is deprecated and will be removed in a future version, please use 'min' instead.\n",
      "  df[\"minute\"] = df[\"timestamp\"].dt.floor(\"T\")  # 按分钟对齐\n",
      "c:\\Users\\qianz\\Desktop\\Untitled Folder\\COIN\\Data\\data_clean.py:19: FutureWarning: 'T' is deprecated and will be removed in a future version, please use 'min' instead.\n",
      "  df[\"minute\"] = df[\"timestamp\"].dt.floor(\"T\")  # 按分钟对齐\n",
      "c:\\Users\\qianz\\Desktop\\Untitled Folder\\COIN\\Data\\data_clean.py:19: FutureWarning: 'T' is deprecated and will be removed in a future version, please use 'min' instead.\n",
      "  df[\"minute\"] = df[\"timestamp\"].dt.floor(\"T\")  # 按分钟对齐\n",
      "c:\\Users\\qianz\\Desktop\\Untitled Folder\\COIN\\Data\\data_clean.py:19: FutureWarning: 'T' is deprecated and will be removed in a future version, please use 'min' instead.\n",
      "  df[\"minute\"] = df[\"timestamp\"].dt.floor(\"T\")  # 按分钟对齐\n"
     ]
    },
    {
     "name": "stdout",
     "output_type": "stream",
     "text": [
      "成功处理文件: DOGE-USDT-SWAP-aggtrades-2025-02-08.csv\n",
      "成功处理文件: DOGE-USDT-SWAP-aggtrades-2025-02-09.csv\n",
      "成功处理文件: DOGE-USDT-SWAP-aggtrades-2025-02-10.csv\n",
      "成功处理文件: DOGE-USDT-SWAP-aggtrades-2025-02-11.csv\n"
     ]
    },
    {
     "name": "stderr",
     "output_type": "stream",
     "text": [
      "c:\\Users\\qianz\\Desktop\\Untitled Folder\\COIN\\Data\\data_clean.py:19: FutureWarning: 'T' is deprecated and will be removed in a future version, please use 'min' instead.\n",
      "  df[\"minute\"] = df[\"timestamp\"].dt.floor(\"T\")  # 按分钟对齐\n",
      "c:\\Users\\qianz\\Desktop\\Untitled Folder\\COIN\\Data\\data_clean.py:19: FutureWarning: 'T' is deprecated and will be removed in a future version, please use 'min' instead.\n",
      "  df[\"minute\"] = df[\"timestamp\"].dt.floor(\"T\")  # 按分钟对齐\n",
      "c:\\Users\\qianz\\Desktop\\Untitled Folder\\COIN\\Data\\data_clean.py:19: FutureWarning: 'T' is deprecated and will be removed in a future version, please use 'min' instead.\n",
      "  df[\"minute\"] = df[\"timestamp\"].dt.floor(\"T\")  # 按分钟对齐\n",
      "c:\\Users\\qianz\\Desktop\\Untitled Folder\\COIN\\Data\\data_clean.py:19: FutureWarning: 'T' is deprecated and will be removed in a future version, please use 'min' instead.\n",
      "  df[\"minute\"] = df[\"timestamp\"].dt.floor(\"T\")  # 按分钟对齐\n"
     ]
    },
    {
     "name": "stdout",
     "output_type": "stream",
     "text": [
      "成功处理文件: DOGE-USDT-SWAP-aggtrades-2025-02-12.csv\n",
      "成功处理文件: DOGE-USDT-SWAP-aggtrades-2025-02-13.csv\n",
      "成功处理文件: DOGE-USDT-SWAP-aggtrades-2025-02-14.csv\n",
      "成功处理文件: DOGE-USDT-SWAP-aggtrades-2025-02-15.csv\n"
     ]
    },
    {
     "name": "stderr",
     "output_type": "stream",
     "text": [
      "c:\\Users\\qianz\\Desktop\\Untitled Folder\\COIN\\Data\\data_clean.py:19: FutureWarning: 'T' is deprecated and will be removed in a future version, please use 'min' instead.\n",
      "  df[\"minute\"] = df[\"timestamp\"].dt.floor(\"T\")  # 按分钟对齐\n",
      "c:\\Users\\qianz\\Desktop\\Untitled Folder\\COIN\\Data\\data_clean.py:19: FutureWarning: 'T' is deprecated and will be removed in a future version, please use 'min' instead.\n",
      "  df[\"minute\"] = df[\"timestamp\"].dt.floor(\"T\")  # 按分钟对齐\n",
      "c:\\Users\\qianz\\Desktop\\Untitled Folder\\COIN\\Data\\data_clean.py:19: FutureWarning: 'T' is deprecated and will be removed in a future version, please use 'min' instead.\n",
      "  df[\"minute\"] = df[\"timestamp\"].dt.floor(\"T\")  # 按分钟对齐\n",
      "c:\\Users\\qianz\\Desktop\\Untitled Folder\\COIN\\Data\\data_clean.py:19: FutureWarning: 'T' is deprecated and will be removed in a future version, please use 'min' instead.\n",
      "  df[\"minute\"] = df[\"timestamp\"].dt.floor(\"T\")  # 按分钟对齐\n"
     ]
    },
    {
     "name": "stdout",
     "output_type": "stream",
     "text": [
      "成功处理文件: DOGE-USDT-SWAP-aggtrades-2025-02-16.csv\n",
      "成功处理文件: DOGE-USDT-SWAP-aggtrades-2025-02-17.csv\n",
      "成功处理文件: DOGE-USDT-SWAP-aggtrades-2025-02-18.csv\n",
      "成功处理文件: DOGE-USDT-SWAP-aggtrades-2025-02-19.csv\n"
     ]
    },
    {
     "name": "stderr",
     "output_type": "stream",
     "text": [
      "c:\\Users\\qianz\\Desktop\\Untitled Folder\\COIN\\Data\\data_clean.py:19: FutureWarning: 'T' is deprecated and will be removed in a future version, please use 'min' instead.\n",
      "  df[\"minute\"] = df[\"timestamp\"].dt.floor(\"T\")  # 按分钟对齐\n",
      "c:\\Users\\qianz\\Desktop\\Untitled Folder\\COIN\\Data\\data_clean.py:19: FutureWarning: 'T' is deprecated and will be removed in a future version, please use 'min' instead.\n",
      "  df[\"minute\"] = df[\"timestamp\"].dt.floor(\"T\")  # 按分钟对齐\n",
      "c:\\Users\\qianz\\Desktop\\Untitled Folder\\COIN\\Data\\data_clean.py:19: FutureWarning: 'T' is deprecated and will be removed in a future version, please use 'min' instead.\n",
      "  df[\"minute\"] = df[\"timestamp\"].dt.floor(\"T\")  # 按分钟对齐\n",
      "c:\\Users\\qianz\\Desktop\\Untitled Folder\\COIN\\Data\\data_clean.py:19: FutureWarning: 'T' is deprecated and will be removed in a future version, please use 'min' instead.\n",
      "  df[\"minute\"] = df[\"timestamp\"].dt.floor(\"T\")  # 按分钟对齐\n",
      "c:\\Users\\qianz\\Desktop\\Untitled Folder\\COIN\\Data\\data_clean.py:19: FutureWarning: 'T' is deprecated and will be removed in a future version, please use 'min' instead.\n",
      "  df[\"minute\"] = df[\"timestamp\"].dt.floor(\"T\")  # 按分钟对齐\n"
     ]
    },
    {
     "name": "stdout",
     "output_type": "stream",
     "text": [
      "成功处理文件: DOGE-USDT-SWAP-aggtrades-2025-02-20.csv\n",
      "成功处理文件: DOGE-USDT-SWAP-aggtrades-2025-02-21.csv\n",
      "成功处理文件: DOGE-USDT-SWAP-aggtrades-2025-02-22.csv\n",
      "成功处理文件: DOGE-USDT-SWAP-aggtrades-2025-02-23.csv\n",
      "成功处理文件: DOGE-USDT-SWAP-aggtrades-2025-02-24.csv\n"
     ]
    },
    {
     "name": "stderr",
     "output_type": "stream",
     "text": [
      "c:\\Users\\qianz\\Desktop\\Untitled Folder\\COIN\\Data\\data_clean.py:19: FutureWarning: 'T' is deprecated and will be removed in a future version, please use 'min' instead.\n",
      "  df[\"minute\"] = df[\"timestamp\"].dt.floor(\"T\")  # 按分钟对齐\n",
      "c:\\Users\\qianz\\Desktop\\Untitled Folder\\COIN\\Data\\data_clean.py:19: FutureWarning: 'T' is deprecated and will be removed in a future version, please use 'min' instead.\n",
      "  df[\"minute\"] = df[\"timestamp\"].dt.floor(\"T\")  # 按分钟对齐\n",
      "c:\\Users\\qianz\\Desktop\\Untitled Folder\\COIN\\Data\\data_clean.py:19: FutureWarning: 'T' is deprecated and will be removed in a future version, please use 'min' instead.\n",
      "  df[\"minute\"] = df[\"timestamp\"].dt.floor(\"T\")  # 按分钟对齐\n"
     ]
    },
    {
     "name": "stdout",
     "output_type": "stream",
     "text": [
      "成功处理文件: DOGE-USDT-SWAP-aggtrades-2025-02-25.csv\n",
      "成功处理文件: DOGE-USDT-SWAP-aggtrades-2025-02-26.csv\n",
      "成功处理文件: DOGE-USDT-SWAP-aggtrades-2025-02-27.csv\n"
     ]
    },
    {
     "name": "stderr",
     "output_type": "stream",
     "text": [
      "c:\\Users\\qianz\\Desktop\\Untitled Folder\\COIN\\Data\\data_clean.py:19: FutureWarning: 'T' is deprecated and will be removed in a future version, please use 'min' instead.\n",
      "  df[\"minute\"] = df[\"timestamp\"].dt.floor(\"T\")  # 按分钟对齐\n",
      "c:\\Users\\qianz\\Desktop\\Untitled Folder\\COIN\\Data\\data_clean.py:19: FutureWarning: 'T' is deprecated and will be removed in a future version, please use 'min' instead.\n",
      "  df[\"minute\"] = df[\"timestamp\"].dt.floor(\"T\")  # 按分钟对齐\n",
      "c:\\Users\\qianz\\Desktop\\Untitled Folder\\COIN\\Data\\data_clean.py:19: FutureWarning: 'T' is deprecated and will be removed in a future version, please use 'min' instead.\n",
      "  df[\"minute\"] = df[\"timestamp\"].dt.floor(\"T\")  # 按分钟对齐\n"
     ]
    },
    {
     "name": "stdout",
     "output_type": "stream",
     "text": [
      "成功处理文件: DOGE-USDT-SWAP-aggtrades-2025-02-28.csv\n",
      "成功处理文件: DOGE-USDT-SWAP-aggtrades-2025-03-01.csv\n",
      "成功处理文件: DOGE-USDT-SWAP-aggtrades-2025-03-02.csv\n"
     ]
    },
    {
     "name": "stderr",
     "output_type": "stream",
     "text": [
      "c:\\Users\\qianz\\Desktop\\Untitled Folder\\COIN\\Data\\data_clean.py:19: FutureWarning: 'T' is deprecated and will be removed in a future version, please use 'min' instead.\n",
      "  df[\"minute\"] = df[\"timestamp\"].dt.floor(\"T\")  # 按分钟对齐\n",
      "c:\\Users\\qianz\\Desktop\\Untitled Folder\\COIN\\Data\\data_clean.py:19: FutureWarning: 'T' is deprecated and will be removed in a future version, please use 'min' instead.\n",
      "  df[\"minute\"] = df[\"timestamp\"].dt.floor(\"T\")  # 按分钟对齐\n",
      "c:\\Users\\qianz\\Desktop\\Untitled Folder\\COIN\\Data\\data_clean.py:19: FutureWarning: 'T' is deprecated and will be removed in a future version, please use 'min' instead.\n",
      "  df[\"minute\"] = df[\"timestamp\"].dt.floor(\"T\")  # 按分钟对齐\n"
     ]
    },
    {
     "name": "stdout",
     "output_type": "stream",
     "text": [
      "成功处理文件: DOGE-USDT-SWAP-aggtrades-2025-03-03.csv\n",
      "成功处理文件: DOGE-USDT-SWAP-aggtrades-2025-03-04.csv\n",
      "成功处理文件: DOGE-USDT-SWAP-aggtrades-2025-03-05.csv\n"
     ]
    },
    {
     "name": "stderr",
     "output_type": "stream",
     "text": [
      "c:\\Users\\qianz\\Desktop\\Untitled Folder\\COIN\\Data\\data_clean.py:19: FutureWarning: 'T' is deprecated and will be removed in a future version, please use 'min' instead.\n",
      "  df[\"minute\"] = df[\"timestamp\"].dt.floor(\"T\")  # 按分钟对齐\n",
      "c:\\Users\\qianz\\Desktop\\Untitled Folder\\COIN\\Data\\data_clean.py:19: FutureWarning: 'T' is deprecated and will be removed in a future version, please use 'min' instead.\n",
      "  df[\"minute\"] = df[\"timestamp\"].dt.floor(\"T\")  # 按分钟对齐\n",
      "c:\\Users\\qianz\\Desktop\\Untitled Folder\\COIN\\Data\\data_clean.py:19: FutureWarning: 'T' is deprecated and will be removed in a future version, please use 'min' instead.\n",
      "  df[\"minute\"] = df[\"timestamp\"].dt.floor(\"T\")  # 按分钟对齐\n"
     ]
    },
    {
     "name": "stdout",
     "output_type": "stream",
     "text": [
      "成功处理文件: DOGE-USDT-SWAP-aggtrades-2025-03-06.csv\n",
      "成功处理文件: DOGE-USDT-SWAP-aggtrades-2025-03-07.csv\n",
      "成功处理文件: DOGE-USDT-SWAP-aggtrades-2025-03-08.csv\n",
      "所有 CSV 文件合并完成，输出文件: merged_kline_1year.csv\n"
     ]
    }
   ],
   "source": [
    "import os\n",
    "import pandas as pd\n",
    "from data_clean import KlineProcessor\n",
    "\n",
    "def process_all_csv_in_folder(folder_path, output_file, encoding=\"GBK\"):\n",
    "    \"\"\"\n",
    "    批量处理指定文件夹内的所有 CSV 文件，并合并为一个大 CSV 文件。\n",
    "    \n",
    "    :param folder_path: 包含 CSV 文件的文件夹路径\n",
    "    :param output_file: 合并后的 CSV 输出文件路径\n",
    "    :param encoding: CSV 文件编码，默认 GBK\n",
    "    \"\"\"\n",
    "    all_kline_dfs = []\n",
    "    \n",
    "    # 遍历文件夹中的所有 CSV 文件\n",
    "    for file_name in os.listdir(folder_path):\n",
    "        if file_name.endswith(\".csv\"):  # 确保是 CSV 文件\n",
    "            file_path = os.path.join(folder_path, file_name)\n",
    "            \n",
    "            try:\n",
    "                # 使用 KlineProcessor 处理文件\n",
    "                processor = KlineProcessor(file_path, encoding=encoding)\n",
    "                kline_df = processor.get_kline_df()\n",
    "                \n",
    "                # 记录文件来源\n",
    "                kline_df[\"source_file\"] = file_name\n",
    "                \n",
    "                all_kline_dfs.append(kline_df)\n",
    "                print(f\"成功处理文件: {file_name}\")\n",
    "            except Exception as e:\n",
    "                print(f\"处理文件 {file_name} 时出错: {e}\")\n",
    "    \n",
    "    # 合并所有数据\n",
    "    if all_kline_dfs:\n",
    "        combined_df = pd.concat(all_kline_dfs, ignore_index=True)\n",
    "        combined_df.to_csv(output_file, index=False, encoding=encoding)\n",
    "        print(f\"所有 CSV 文件合并完成，输出文件: {output_file}\")\n",
    "    else:\n",
    "        print(\"未找到有效的 CSV 文件或处理失败！\")\n",
    "\n",
    "# 使用示例\n",
    "folder_path = \"DOGE\"  # 你的文件夹路径\n",
    "output_file = \"merged_kline_1year.csv\"  # 合并后的 CSV 文件\n",
    "process_all_csv_in_folder(folder_path, output_file)\n"
   ]
  },
  {
   "cell_type": "code",
   "execution_count": 7,
   "metadata": {},
   "outputs": [
    {
     "data": {
      "text/html": [
       "<div>\n",
       "<style scoped>\n",
       "    .dataframe tbody tr th:only-of-type {\n",
       "        vertical-align: middle;\n",
       "    }\n",
       "\n",
       "    .dataframe tbody tr th {\n",
       "        vertical-align: top;\n",
       "    }\n",
       "\n",
       "    .dataframe thead th {\n",
       "        text-align: right;\n",
       "    }\n",
       "</style>\n",
       "<table border=\"1\" class=\"dataframe\">\n",
       "  <thead>\n",
       "    <tr style=\"text-align: right;\">\n",
       "      <th></th>\n",
       "      <th>timestamp</th>\n",
       "      <th>open</th>\n",
       "      <th>high</th>\n",
       "      <th>low</th>\n",
       "      <th>close</th>\n",
       "      <th>vol</th>\n",
       "      <th>source_file</th>\n",
       "    </tr>\n",
       "  </thead>\n",
       "  <tbody>\n",
       "    <tr>\n",
       "      <th>0</th>\n",
       "      <td>2023-12-15 16:00:00</td>\n",
       "      <td>0.09389</td>\n",
       "      <td>0.09398</td>\n",
       "      <td>0.09386</td>\n",
       "      <td>0.09397</td>\n",
       "      <td>848.00</td>\n",
       "      <td>DOGE-USDT-SWAP-aggtrades-2023-12-16.csv</td>\n",
       "    </tr>\n",
       "    <tr>\n",
       "      <th>1</th>\n",
       "      <td>2023-12-15 16:01:00</td>\n",
       "      <td>0.09384</td>\n",
       "      <td>0.09389</td>\n",
       "      <td>0.09383</td>\n",
       "      <td>0.09389</td>\n",
       "      <td>849.00</td>\n",
       "      <td>DOGE-USDT-SWAP-aggtrades-2023-12-16.csv</td>\n",
       "    </tr>\n",
       "    <tr>\n",
       "      <th>2</th>\n",
       "      <td>2023-12-15 16:02:00</td>\n",
       "      <td>0.09386</td>\n",
       "      <td>0.09413</td>\n",
       "      <td>0.09386</td>\n",
       "      <td>0.09413</td>\n",
       "      <td>1683.00</td>\n",
       "      <td>DOGE-USDT-SWAP-aggtrades-2023-12-16.csv</td>\n",
       "    </tr>\n",
       "    <tr>\n",
       "      <th>3</th>\n",
       "      <td>2023-12-15 16:03:00</td>\n",
       "      <td>0.09413</td>\n",
       "      <td>0.09427</td>\n",
       "      <td>0.09412</td>\n",
       "      <td>0.09427</td>\n",
       "      <td>2372.00</td>\n",
       "      <td>DOGE-USDT-SWAP-aggtrades-2023-12-16.csv</td>\n",
       "    </tr>\n",
       "    <tr>\n",
       "      <th>4</th>\n",
       "      <td>2023-12-15 16:04:00</td>\n",
       "      <td>0.09414</td>\n",
       "      <td>0.09420</td>\n",
       "      <td>0.09412</td>\n",
       "      <td>0.09420</td>\n",
       "      <td>1052.00</td>\n",
       "      <td>DOGE-USDT-SWAP-aggtrades-2023-12-16.csv</td>\n",
       "    </tr>\n",
       "    <tr>\n",
       "      <th>...</th>\n",
       "      <td>...</td>\n",
       "      <td>...</td>\n",
       "      <td>...</td>\n",
       "      <td>...</td>\n",
       "      <td>...</td>\n",
       "      <td>...</td>\n",
       "      <td>...</td>\n",
       "    </tr>\n",
       "    <tr>\n",
       "      <th>646424</th>\n",
       "      <td>2025-03-08 15:55:00</td>\n",
       "      <td>0.19461</td>\n",
       "      <td>0.19480</td>\n",
       "      <td>0.19460</td>\n",
       "      <td>0.19479</td>\n",
       "      <td>1420.07</td>\n",
       "      <td>DOGE-USDT-SWAP-aggtrades-2025-03-08.csv</td>\n",
       "    </tr>\n",
       "    <tr>\n",
       "      <th>646425</th>\n",
       "      <td>2025-03-08 15:56:00</td>\n",
       "      <td>0.19465</td>\n",
       "      <td>0.19477</td>\n",
       "      <td>0.19464</td>\n",
       "      <td>0.19475</td>\n",
       "      <td>1155.60</td>\n",
       "      <td>DOGE-USDT-SWAP-aggtrades-2025-03-08.csv</td>\n",
       "    </tr>\n",
       "    <tr>\n",
       "      <th>646426</th>\n",
       "      <td>2025-03-08 15:57:00</td>\n",
       "      <td>0.19467</td>\n",
       "      <td>0.19480</td>\n",
       "      <td>0.19467</td>\n",
       "      <td>0.19479</td>\n",
       "      <td>781.42</td>\n",
       "      <td>DOGE-USDT-SWAP-aggtrades-2025-03-08.csv</td>\n",
       "    </tr>\n",
       "    <tr>\n",
       "      <th>646427</th>\n",
       "      <td>2025-03-08 15:58:00</td>\n",
       "      <td>0.19463</td>\n",
       "      <td>0.19476</td>\n",
       "      <td>0.19462</td>\n",
       "      <td>0.19476</td>\n",
       "      <td>776.97</td>\n",
       "      <td>DOGE-USDT-SWAP-aggtrades-2025-03-08.csv</td>\n",
       "    </tr>\n",
       "    <tr>\n",
       "      <th>646428</th>\n",
       "      <td>2025-03-08 15:59:00</td>\n",
       "      <td>0.19466</td>\n",
       "      <td>0.19474</td>\n",
       "      <td>0.19466</td>\n",
       "      <td>0.19473</td>\n",
       "      <td>1882.33</td>\n",
       "      <td>DOGE-USDT-SWAP-aggtrades-2025-03-08.csv</td>\n",
       "    </tr>\n",
       "  </tbody>\n",
       "</table>\n",
       "<p>646429 rows × 7 columns</p>\n",
       "</div>"
      ],
      "text/plain": [
       "                  timestamp     open     high      low    close      vol  \\\n",
       "0       2023-12-15 16:00:00  0.09389  0.09398  0.09386  0.09397   848.00   \n",
       "1       2023-12-15 16:01:00  0.09384  0.09389  0.09383  0.09389   849.00   \n",
       "2       2023-12-15 16:02:00  0.09386  0.09413  0.09386  0.09413  1683.00   \n",
       "3       2023-12-15 16:03:00  0.09413  0.09427  0.09412  0.09427  2372.00   \n",
       "4       2023-12-15 16:04:00  0.09414  0.09420  0.09412  0.09420  1052.00   \n",
       "...                     ...      ...      ...      ...      ...      ...   \n",
       "646424  2025-03-08 15:55:00  0.19461  0.19480  0.19460  0.19479  1420.07   \n",
       "646425  2025-03-08 15:56:00  0.19465  0.19477  0.19464  0.19475  1155.60   \n",
       "646426  2025-03-08 15:57:00  0.19467  0.19480  0.19467  0.19479   781.42   \n",
       "646427  2025-03-08 15:58:00  0.19463  0.19476  0.19462  0.19476   776.97   \n",
       "646428  2025-03-08 15:59:00  0.19466  0.19474  0.19466  0.19473  1882.33   \n",
       "\n",
       "                                    source_file  \n",
       "0       DOGE-USDT-SWAP-aggtrades-2023-12-16.csv  \n",
       "1       DOGE-USDT-SWAP-aggtrades-2023-12-16.csv  \n",
       "2       DOGE-USDT-SWAP-aggtrades-2023-12-16.csv  \n",
       "3       DOGE-USDT-SWAP-aggtrades-2023-12-16.csv  \n",
       "4       DOGE-USDT-SWAP-aggtrades-2023-12-16.csv  \n",
       "...                                         ...  \n",
       "646424  DOGE-USDT-SWAP-aggtrades-2025-03-08.csv  \n",
       "646425  DOGE-USDT-SWAP-aggtrades-2025-03-08.csv  \n",
       "646426  DOGE-USDT-SWAP-aggtrades-2025-03-08.csv  \n",
       "646427  DOGE-USDT-SWAP-aggtrades-2025-03-08.csv  \n",
       "646428  DOGE-USDT-SWAP-aggtrades-2025-03-08.csv  \n",
       "\n",
       "[646429 rows x 7 columns]"
      ]
     },
     "execution_count": 7,
     "metadata": {},
     "output_type": "execute_result"
    }
   ],
   "source": [
    "df=pd.read_csv(\"merged_kline_1year.csv\")\n",
    "df"
   ]
  },
  {
   "cell_type": "code",
   "execution_count": 6,
   "metadata": {},
   "outputs": [
    {
     "name": "stdout",
     "output_type": "stream",
     "text": [
      "成交量波动因子与价格、RSI(5) 相关性:\n",
      "                   vol_change_factor     close     RSI_5\n",
      "vol_change_factor           1.000000 -0.006459  0.016630\n",
      "close                      -0.006459  1.000000  0.009006\n",
      "RSI_5                       0.016630  0.009006  1.000000\n"
     ]
    }
   ],
   "source": [
    "# 计算成交量波动因子\n",
    "df[\"vol_change_factor\"] = df[\"vol\"] / df[\"vol\"].shift(1)\n",
    "\n",
    "# 计算 RSI(5)\n",
    "window_length = 5\n",
    "\n",
    "delta = df[\"close\"].diff()\n",
    "gain = (delta.where(delta > 0, 0)).rolling(window=window_length, min_periods=1).mean()\n",
    "loss = (-delta.where(delta < 0, 0)).rolling(window=window_length, min_periods=1).mean()\n",
    "rs = gain / (loss + 1e-10)\n",
    "df[\"RSI_5\"] = 100 - (100 / (1 + rs))\n",
    "\n",
    "# 计算相关性\n",
    "correlation_matrix = df[[\"vol_change_factor\", \"close\", \"RSI_5\"]].corr()\n",
    "print(\"成交量波动因子与价格、RSI(5) 相关性:\")\n",
    "print(correlation_matrix)\n"
   ]
  },
  {
   "cell_type": "code",
   "execution_count": 24,
   "metadata": {},
   "outputs": [
    {
     "data": {
      "text/html": [
       "<div>\n",
       "<style scoped>\n",
       "    .dataframe tbody tr th:only-of-type {\n",
       "        vertical-align: middle;\n",
       "    }\n",
       "\n",
       "    .dataframe tbody tr th {\n",
       "        vertical-align: top;\n",
       "    }\n",
       "\n",
       "    .dataframe thead th {\n",
       "        text-align: right;\n",
       "    }\n",
       "</style>\n",
       "<table border=\"1\" class=\"dataframe\">\n",
       "  <thead>\n",
       "    <tr style=\"text-align: right;\">\n",
       "      <th></th>\n",
       "      <th>timestamp</th>\n",
       "      <th>return_1</th>\n",
       "      <th>return_2</th>\n",
       "      <th>return_3</th>\n",
       "      <th>return_5</th>\n",
       "      <th>return_7</th>\n",
       "      <th>return_10</th>\n",
       "    </tr>\n",
       "  </thead>\n",
       "  <tbody>\n",
       "    <tr>\n",
       "      <th>12</th>\n",
       "      <td>2024-12-15 16:12:00</td>\n",
       "      <td>0.000074</td>\n",
       "      <td>0.000372</td>\n",
       "      <td>0.000694</td>\n",
       "      <td>0.001041</td>\n",
       "      <td>0.001513</td>\n",
       "      <td>0.001513</td>\n",
       "    </tr>\n",
       "    <tr>\n",
       "      <th>27</th>\n",
       "      <td>2024-12-15 16:27:00</td>\n",
       "      <td>-0.000124</td>\n",
       "      <td>-0.000619</td>\n",
       "      <td>-0.000495</td>\n",
       "      <td>0.000965</td>\n",
       "      <td>0.001213</td>\n",
       "      <td>0.002475</td>\n",
       "    </tr>\n",
       "    <tr>\n",
       "      <th>525</th>\n",
       "      <td>2024-12-16 00:45:00</td>\n",
       "      <td>0.000073</td>\n",
       "      <td>0.001210</td>\n",
       "      <td>0.002492</td>\n",
       "      <td>0.004500</td>\n",
       "      <td>0.000653</td>\n",
       "      <td>-0.000242</td>\n",
       "    </tr>\n",
       "    <tr>\n",
       "      <th>737</th>\n",
       "      <td>2024-12-16 04:17:00</td>\n",
       "      <td>-0.000812</td>\n",
       "      <td>-0.000984</td>\n",
       "      <td>-0.001697</td>\n",
       "      <td>-0.000541</td>\n",
       "      <td>-0.001156</td>\n",
       "      <td>-0.001943</td>\n",
       "    </tr>\n",
       "    <tr>\n",
       "      <th>822</th>\n",
       "      <td>2024-12-16 05:42:00</td>\n",
       "      <td>-0.000714</td>\n",
       "      <td>-0.000887</td>\n",
       "      <td>-0.000961</td>\n",
       "      <td>-0.000345</td>\n",
       "      <td>0.000172</td>\n",
       "      <td>0.000468</td>\n",
       "    </tr>\n",
       "    <tr>\n",
       "      <th>...</th>\n",
       "      <td>...</td>\n",
       "      <td>...</td>\n",
       "      <td>...</td>\n",
       "      <td>...</td>\n",
       "      <td>...</td>\n",
       "      <td>...</td>\n",
       "      <td>...</td>\n",
       "    </tr>\n",
       "    <tr>\n",
       "      <th>114231</th>\n",
       "      <td>2025-03-04 23:51:00</td>\n",
       "      <td>-0.001152</td>\n",
       "      <td>-0.001002</td>\n",
       "      <td>-0.001002</td>\n",
       "      <td>-0.001854</td>\n",
       "      <td>-0.002705</td>\n",
       "      <td>-0.004859</td>\n",
       "    </tr>\n",
       "    <tr>\n",
       "      <th>114615</th>\n",
       "      <td>2025-03-05 06:15:00</td>\n",
       "      <td>0.001675</td>\n",
       "      <td>0.002132</td>\n",
       "      <td>0.001371</td>\n",
       "      <td>0.000964</td>\n",
       "      <td>0.002132</td>\n",
       "      <td>0.003604</td>\n",
       "    </tr>\n",
       "    <tr>\n",
       "      <th>114831</th>\n",
       "      <td>2025-03-05 09:51:00</td>\n",
       "      <td>-0.000198</td>\n",
       "      <td>-0.000198</td>\n",
       "      <td>-0.000889</td>\n",
       "      <td>0.000741</td>\n",
       "      <td>0.000692</td>\n",
       "      <td>-0.000593</td>\n",
       "    </tr>\n",
       "    <tr>\n",
       "      <th>114941</th>\n",
       "      <td>2025-03-05 11:41:00</td>\n",
       "      <td>-0.000343</td>\n",
       "      <td>-0.000147</td>\n",
       "      <td>-0.000049</td>\n",
       "      <td>0.001078</td>\n",
       "      <td>0.001176</td>\n",
       "      <td>-0.000539</td>\n",
       "    </tr>\n",
       "    <tr>\n",
       "      <th>115140</th>\n",
       "      <td>2025-03-05 15:00:00</td>\n",
       "      <td>-0.004154</td>\n",
       "      <td>-0.005192</td>\n",
       "      <td>-0.006478</td>\n",
       "      <td>-0.004895</td>\n",
       "      <td>-0.004055</td>\n",
       "      <td>-0.007467</td>\n",
       "    </tr>\n",
       "  </tbody>\n",
       "</table>\n",
       "<p>518 rows × 7 columns</p>\n",
       "</div>"
      ],
      "text/plain": [
       "                  timestamp  return_1  return_2  return_3  return_5  return_7  \\\n",
       "12      2024-12-15 16:12:00  0.000074  0.000372  0.000694  0.001041  0.001513   \n",
       "27      2024-12-15 16:27:00 -0.000124 -0.000619 -0.000495  0.000965  0.001213   \n",
       "525     2024-12-16 00:45:00  0.000073  0.001210  0.002492  0.004500  0.000653   \n",
       "737     2024-12-16 04:17:00 -0.000812 -0.000984 -0.001697 -0.000541 -0.001156   \n",
       "822     2024-12-16 05:42:00 -0.000714 -0.000887 -0.000961 -0.000345  0.000172   \n",
       "...                     ...       ...       ...       ...       ...       ...   \n",
       "114231  2025-03-04 23:51:00 -0.001152 -0.001002 -0.001002 -0.001854 -0.002705   \n",
       "114615  2025-03-05 06:15:00  0.001675  0.002132  0.001371  0.000964  0.002132   \n",
       "114831  2025-03-05 09:51:00 -0.000198 -0.000198 -0.000889  0.000741  0.000692   \n",
       "114941  2025-03-05 11:41:00 -0.000343 -0.000147 -0.000049  0.001078  0.001176   \n",
       "115140  2025-03-05 15:00:00 -0.004154 -0.005192 -0.006478 -0.004895 -0.004055   \n",
       "\n",
       "        return_10  \n",
       "12       0.001513  \n",
       "27       0.002475  \n",
       "525     -0.000242  \n",
       "737     -0.001943  \n",
       "822      0.000468  \n",
       "...           ...  \n",
       "114231  -0.004859  \n",
       "114615   0.003604  \n",
       "114831  -0.000593  \n",
       "114941  -0.000539  \n",
       "115140  -0.007467  \n",
       "\n",
       "[518 rows x 7 columns]"
      ]
     },
     "execution_count": 24,
     "metadata": {},
     "output_type": "execute_result"
    }
   ],
   "source": [
    "# 计算成交量波动因子\n",
    "df[\"vol_change_factor\"] = df[\"vol\"] / df[\"vol\"].shift(1)\n",
    "\n",
    "# 计算 RSI(5)\n",
    "window_length = 5\n",
    "delta = df[\"close\"].diff()\n",
    "gain = (delta.where(delta > 0, 0)).rolling(window=window_length, min_periods=1).mean()\n",
    "loss = (-delta.where(delta < 0, 0)).rolling(window=window_length, min_periods=1).mean()\n",
    "rs = gain / (loss + 1e-10)\n",
    "df[\"RSI_5\"] = 100 - (100 / (1 + rs))\n",
    "\n",
    "# 找到符合条件的K线\n",
    "condition = (\n",
    "    (df[\"vol\"] > 5 * df[\"vol\"].shift(1)) &\n",
    "    ((df[\"RSI_5\"] - df[\"RSI_5\"].shift(1)) > 15) &\n",
    "    (df[\"vol\"] > 3 * df[\"vol\"].rolling(3).max().shift(1)) &\n",
    "    (df[\"close\"].shift(1) > df[\"open\"].shift(1)) &  # 上一根 K 线是上涨的\n",
    "    (df[\"close\"] > df[\"open\"])  # 当前 K 线是上涨的\n",
    ")\n",
    "\n",
    "selected_kline = df[condition].copy()\n",
    "\n",
    "# 计算后面第3，5，7，10根K线的涨跌幅度\n",
    "for shift in [1,2,3, 5, 7, 10]:\n",
    "    selected_kline[f\"return_{shift}\"] = (df[\"close\"].shift(-shift) - selected_kline[\"close\"]) / selected_kline[\"close\"]\n",
    "\n",
    "# 只保留时间戳和计算的收益率\n",
    "df_result = selected_kline[[\"timestamp\",\"return_1\",\"return_2\",\"return_3\", \"return_5\", \"return_7\", \"return_10\"]]\n",
    "\n",
    "df_result\n"
   ]
  },
  {
   "cell_type": "code",
   "execution_count": 25,
   "metadata": {},
   "outputs": [
    {
     "data": {
      "text/html": [
       "<div>\n",
       "<style scoped>\n",
       "    .dataframe tbody tr th:only-of-type {\n",
       "        vertical-align: middle;\n",
       "    }\n",
       "\n",
       "    .dataframe tbody tr th {\n",
       "        vertical-align: top;\n",
       "    }\n",
       "\n",
       "    .dataframe thead th {\n",
       "        text-align: right;\n",
       "    }\n",
       "</style>\n",
       "<table border=\"1\" class=\"dataframe\">\n",
       "  <thead>\n",
       "    <tr style=\"text-align: right;\">\n",
       "      <th></th>\n",
       "      <th>timestamp</th>\n",
       "      <th>return_1</th>\n",
       "      <th>return_2</th>\n",
       "      <th>return_3</th>\n",
       "      <th>return_5</th>\n",
       "      <th>return_7</th>\n",
       "      <th>return_10</th>\n",
       "    </tr>\n",
       "  </thead>\n",
       "  <tbody>\n",
       "    <tr>\n",
       "      <th>12</th>\n",
       "      <td>2024-12-15 16:12:00</td>\n",
       "      <td>0.000074</td>\n",
       "      <td>0.000372</td>\n",
       "      <td>0.000694</td>\n",
       "      <td>0.001041</td>\n",
       "      <td>0.001513</td>\n",
       "      <td>0.001513</td>\n",
       "    </tr>\n",
       "    <tr>\n",
       "      <th>27</th>\n",
       "      <td>2024-12-15 16:27:00</td>\n",
       "      <td>-0.000124</td>\n",
       "      <td>-0.000619</td>\n",
       "      <td>-0.000495</td>\n",
       "      <td>0.000965</td>\n",
       "      <td>0.001213</td>\n",
       "      <td>0.002475</td>\n",
       "    </tr>\n",
       "    <tr>\n",
       "      <th>525</th>\n",
       "      <td>2024-12-16 00:45:00</td>\n",
       "      <td>0.000073</td>\n",
       "      <td>0.001210</td>\n",
       "      <td>0.002492</td>\n",
       "      <td>0.004500</td>\n",
       "      <td>0.000653</td>\n",
       "      <td>-0.000242</td>\n",
       "    </tr>\n",
       "    <tr>\n",
       "      <th>737</th>\n",
       "      <td>2024-12-16 04:17:00</td>\n",
       "      <td>-0.000812</td>\n",
       "      <td>-0.000984</td>\n",
       "      <td>-0.001697</td>\n",
       "      <td>-0.000541</td>\n",
       "      <td>-0.001156</td>\n",
       "      <td>-0.001943</td>\n",
       "    </tr>\n",
       "    <tr>\n",
       "      <th>822</th>\n",
       "      <td>2024-12-16 05:42:00</td>\n",
       "      <td>-0.000714</td>\n",
       "      <td>-0.000887</td>\n",
       "      <td>-0.000961</td>\n",
       "      <td>-0.000345</td>\n",
       "      <td>0.000172</td>\n",
       "      <td>0.000468</td>\n",
       "    </tr>\n",
       "    <tr>\n",
       "      <th>...</th>\n",
       "      <td>...</td>\n",
       "      <td>...</td>\n",
       "      <td>...</td>\n",
       "      <td>...</td>\n",
       "      <td>...</td>\n",
       "      <td>...</td>\n",
       "      <td>...</td>\n",
       "    </tr>\n",
       "    <tr>\n",
       "      <th>114231</th>\n",
       "      <td>2025-03-04 23:51:00</td>\n",
       "      <td>-0.001152</td>\n",
       "      <td>-0.001002</td>\n",
       "      <td>-0.001002</td>\n",
       "      <td>-0.001854</td>\n",
       "      <td>-0.002705</td>\n",
       "      <td>-0.004859</td>\n",
       "    </tr>\n",
       "    <tr>\n",
       "      <th>114615</th>\n",
       "      <td>2025-03-05 06:15:00</td>\n",
       "      <td>0.001675</td>\n",
       "      <td>0.002132</td>\n",
       "      <td>0.001371</td>\n",
       "      <td>0.000964</td>\n",
       "      <td>0.002132</td>\n",
       "      <td>0.003604</td>\n",
       "    </tr>\n",
       "    <tr>\n",
       "      <th>114831</th>\n",
       "      <td>2025-03-05 09:51:00</td>\n",
       "      <td>-0.000198</td>\n",
       "      <td>-0.000198</td>\n",
       "      <td>-0.000889</td>\n",
       "      <td>0.000741</td>\n",
       "      <td>0.000692</td>\n",
       "      <td>-0.000593</td>\n",
       "    </tr>\n",
       "    <tr>\n",
       "      <th>114941</th>\n",
       "      <td>2025-03-05 11:41:00</td>\n",
       "      <td>-0.000343</td>\n",
       "      <td>-0.000147</td>\n",
       "      <td>-0.000049</td>\n",
       "      <td>0.001078</td>\n",
       "      <td>0.001176</td>\n",
       "      <td>-0.000539</td>\n",
       "    </tr>\n",
       "    <tr>\n",
       "      <th>115140</th>\n",
       "      <td>2025-03-05 15:00:00</td>\n",
       "      <td>-0.004154</td>\n",
       "      <td>-0.005192</td>\n",
       "      <td>-0.006478</td>\n",
       "      <td>-0.004895</td>\n",
       "      <td>-0.004055</td>\n",
       "      <td>-0.007467</td>\n",
       "    </tr>\n",
       "  </tbody>\n",
       "</table>\n",
       "<p>518 rows × 7 columns</p>\n",
       "</div>"
      ],
      "text/plain": [
       "                  timestamp  return_1  return_2  return_3  return_5  return_7  \\\n",
       "12      2024-12-15 16:12:00  0.000074  0.000372  0.000694  0.001041  0.001513   \n",
       "27      2024-12-15 16:27:00 -0.000124 -0.000619 -0.000495  0.000965  0.001213   \n",
       "525     2024-12-16 00:45:00  0.000073  0.001210  0.002492  0.004500  0.000653   \n",
       "737     2024-12-16 04:17:00 -0.000812 -0.000984 -0.001697 -0.000541 -0.001156   \n",
       "822     2024-12-16 05:42:00 -0.000714 -0.000887 -0.000961 -0.000345  0.000172   \n",
       "...                     ...       ...       ...       ...       ...       ...   \n",
       "114231  2025-03-04 23:51:00 -0.001152 -0.001002 -0.001002 -0.001854 -0.002705   \n",
       "114615  2025-03-05 06:15:00  0.001675  0.002132  0.001371  0.000964  0.002132   \n",
       "114831  2025-03-05 09:51:00 -0.000198 -0.000198 -0.000889  0.000741  0.000692   \n",
       "114941  2025-03-05 11:41:00 -0.000343 -0.000147 -0.000049  0.001078  0.001176   \n",
       "115140  2025-03-05 15:00:00 -0.004154 -0.005192 -0.006478 -0.004895 -0.004055   \n",
       "\n",
       "        return_10  \n",
       "12       0.001513  \n",
       "27       0.002475  \n",
       "525     -0.000242  \n",
       "737     -0.001943  \n",
       "822      0.000468  \n",
       "...           ...  \n",
       "114231  -0.004859  \n",
       "114615   0.003604  \n",
       "114831  -0.000593  \n",
       "114941  -0.000539  \n",
       "115140  -0.007467  \n",
       "\n",
       "[518 rows x 7 columns]"
      ]
     },
     "execution_count": 25,
     "metadata": {},
     "output_type": "execute_result"
    }
   ],
   "source": [
    "df_result"
   ]
  },
  {
   "cell_type": "code",
   "execution_count": 26,
   "metadata": {},
   "outputs": [
    {
     "name": "stdout",
     "output_type": "stream",
     "text": [
      "Return Statistics:\n",
      "         return_1    return_2    return_3    return_5      return_7  \\\n",
      "count  518.000000  518.000000  518.000000  518.000000  5.180000e+02   \n",
      "mean     0.000015   -0.000104   -0.000150    0.000031  4.663437e-07   \n",
      "std      0.002291    0.003583    0.003935    0.005158  5.978543e-03   \n",
      "min     -0.008991   -0.012002   -0.016019   -0.031338 -3.018065e-02   \n",
      "25%     -0.000669   -0.001142   -0.001331   -0.001719 -2.107096e-03   \n",
      "50%     -0.000079   -0.000152   -0.000188   -0.000121 -2.440036e-04   \n",
      "75%      0.000593    0.000807    0.000905    0.001445  1.588926e-03   \n",
      "max      0.036574    0.065493    0.069349    0.086133  9.449690e-02   \n",
      "\n",
      "        return_10  \n",
      "count  518.000000  \n",
      "mean     0.000082  \n",
      "std      0.005804  \n",
      "min     -0.032459  \n",
      "25%     -0.002237  \n",
      "50%      0.000015  \n",
      "75%      0.001918  \n",
      "max      0.073970  \n",
      "\n",
      "Upward Probability:\n",
      "{1: np.float64(0.4343629343629344), 2: np.float64(0.4305019305019305), 3: np.float64(0.44787644787644787), 5: np.float64(0.4691119691119691), 7: np.float64(0.4594594594594595), 10: np.float64(0.5)}\n"
     ]
    },
    {
     "name": "stderr",
     "output_type": "stream",
     "text": [
      "C:\\Users\\36679\\AppData\\Local\\Temp\\ipykernel_552\\170583528.py:12: SettingWithCopyWarning: \n",
      "A value is trying to be set on a copy of a slice from a DataFrame.\n",
      "Try using .loc[row_indexer,col_indexer] = value instead\n",
      "\n",
      "See the caveats in the documentation: https://pandas.pydata.org/pandas-docs/stable/user_guide/indexing.html#returning-a-view-versus-a-copy\n",
      "  df_result.loc[:, f\"up_{shift}\"] = df_result[f\"return_{shift}\"] > 0\n",
      "C:\\Users\\36679\\AppData\\Local\\Temp\\ipykernel_552\\170583528.py:12: SettingWithCopyWarning: \n",
      "A value is trying to be set on a copy of a slice from a DataFrame.\n",
      "Try using .loc[row_indexer,col_indexer] = value instead\n",
      "\n",
      "See the caveats in the documentation: https://pandas.pydata.org/pandas-docs/stable/user_guide/indexing.html#returning-a-view-versus-a-copy\n",
      "  df_result.loc[:, f\"up_{shift}\"] = df_result[f\"return_{shift}\"] > 0\n",
      "C:\\Users\\36679\\AppData\\Local\\Temp\\ipykernel_552\\170583528.py:12: SettingWithCopyWarning: \n",
      "A value is trying to be set on a copy of a slice from a DataFrame.\n",
      "Try using .loc[row_indexer,col_indexer] = value instead\n",
      "\n",
      "See the caveats in the documentation: https://pandas.pydata.org/pandas-docs/stable/user_guide/indexing.html#returning-a-view-versus-a-copy\n",
      "  df_result.loc[:, f\"up_{shift}\"] = df_result[f\"return_{shift}\"] > 0\n",
      "C:\\Users\\36679\\AppData\\Local\\Temp\\ipykernel_552\\170583528.py:12: SettingWithCopyWarning: \n",
      "A value is trying to be set on a copy of a slice from a DataFrame.\n",
      "Try using .loc[row_indexer,col_indexer] = value instead\n",
      "\n",
      "See the caveats in the documentation: https://pandas.pydata.org/pandas-docs/stable/user_guide/indexing.html#returning-a-view-versus-a-copy\n",
      "  df_result.loc[:, f\"up_{shift}\"] = df_result[f\"return_{shift}\"] > 0\n",
      "C:\\Users\\36679\\AppData\\Local\\Temp\\ipykernel_552\\170583528.py:12: SettingWithCopyWarning: \n",
      "A value is trying to be set on a copy of a slice from a DataFrame.\n",
      "Try using .loc[row_indexer,col_indexer] = value instead\n",
      "\n",
      "See the caveats in the documentation: https://pandas.pydata.org/pandas-docs/stable/user_guide/indexing.html#returning-a-view-versus-a-copy\n",
      "  df_result.loc[:, f\"up_{shift}\"] = df_result[f\"return_{shift}\"] > 0\n",
      "C:\\Users\\36679\\AppData\\Local\\Temp\\ipykernel_552\\170583528.py:12: SettingWithCopyWarning: \n",
      "A value is trying to be set on a copy of a slice from a DataFrame.\n",
      "Try using .loc[row_indexer,col_indexer] = value instead\n",
      "\n",
      "See the caveats in the documentation: https://pandas.pydata.org/pandas-docs/stable/user_guide/indexing.html#returning-a-view-versus-a-copy\n",
      "  df_result.loc[:, f\"up_{shift}\"] = df_result[f\"return_{shift}\"] > 0\n"
     ]
    },
    {
     "data": {
      "image/png": "[encoded data removed]",
      "text/plain": [
       "<Figure size 1200x600 with 1 Axes>"
      ]
     },
     "metadata": {},
     "output_type": "display_data"
    }
   ],
   "source": [
    "import pandas as pd\n",
    "import numpy as np\n",
    "import matplotlib.pyplot as plt\n",
    "\n",
    "# 计算统计数据\n",
    "stats = df_result.describe()\n",
    "print(\"Return Statistics:\")\n",
    "print(stats)\n",
    "\n",
    "# 计算涨跌次数\n",
    "for shift in [1,2, 3, 5, 7, 10]:\n",
    "    df_result.loc[:, f\"up_{shift}\"] = df_result[f\"return_{shift}\"] > 0\n",
    "\n",
    "# 计算涨跌比\n",
    "up_down_ratio = {\n",
    "    shift: df_result[f\"up_{shift}\"].mean() for shift in [1,2,3, 5, 7, 10]\n",
    "}\n",
    "print(\"\\nUpward Probability:\")\n",
    "print(up_down_ratio)\n",
    "\n",
    "# 绘制收益率分布\n",
    "plt.figure(figsize=(12, 6))\n",
    "for shift in [1,2,3, 5, 7, 10]:\n",
    "    plt.hist(df_result[f\"return_{shift}\"].dropna(), bins=30, alpha=0.5, label=f\"Return {shift}\")\n",
    "\n",
    "plt.axvline(0, color='black', linestyle='dashed')\n",
    "plt.xlabel(\"Return\")\n",
    "plt.ylabel(\"Frequency\")\n",
    "plt.legend()\n",
    "plt.title(\"Return Distribution\")\n",
    "plt.show()\n"
   ]
  },
  {
   "cell_type": "code",
   "execution_count": 12,
   "metadata": {},
   "outputs": [
    {
     "data": {
      "text/html": [
       "<div>\n",
       "<style scoped>\n",
       "    .dataframe tbody tr th:only-of-type {\n",
       "        vertical-align: middle;\n",
       "    }\n",
       "\n",
       "    .dataframe tbody tr th {\n",
       "        vertical-align: top;\n",
       "    }\n",
       "\n",
       "    .dataframe thead th {\n",
       "        text-align: right;\n",
       "    }\n",
       "</style>\n",
       "<table border=\"1\" class=\"dataframe\">\n",
       "  <thead>\n",
       "    <tr style=\"text-align: right;\">\n",
       "      <th></th>\n",
       "      <th>timestamp</th>\n",
       "      <th>return_3</th>\n",
       "      <th>return_5</th>\n",
       "      <th>return_7</th>\n",
       "      <th>return_10</th>\n",
       "    </tr>\n",
       "  </thead>\n",
       "  <tbody>\n",
       "    <tr>\n",
       "      <th>12</th>\n",
       "      <td>2024-12-15 16:12:00</td>\n",
       "      <td>0.000694</td>\n",
       "      <td>0.001041</td>\n",
       "      <td>0.001513</td>\n",
       "      <td>0.001513</td>\n",
       "    </tr>\n",
       "    <tr>\n",
       "      <th>27</th>\n",
       "      <td>2024-12-15 16:27:00</td>\n",
       "      <td>-0.000495</td>\n",
       "      <td>0.000965</td>\n",
       "      <td>0.001213</td>\n",
       "      <td>0.002475</td>\n",
       "    </tr>\n",
       "    <tr>\n",
       "      <th>525</th>\n",
       "      <td>2024-12-16 00:45:00</td>\n",
       "      <td>0.002492</td>\n",
       "      <td>0.004500</td>\n",
       "      <td>0.000653</td>\n",
       "      <td>-0.000242</td>\n",
       "    </tr>\n",
       "    <tr>\n",
       "      <th>737</th>\n",
       "      <td>2024-12-16 04:17:00</td>\n",
       "      <td>-0.001697</td>\n",
       "      <td>-0.000541</td>\n",
       "      <td>-0.001156</td>\n",
       "      <td>-0.001943</td>\n",
       "    </tr>\n",
       "    <tr>\n",
       "      <th>822</th>\n",
       "      <td>2024-12-16 05:42:00</td>\n",
       "      <td>-0.000961</td>\n",
       "      <td>-0.000345</td>\n",
       "      <td>0.000172</td>\n",
       "      <td>0.000468</td>\n",
       "    </tr>\n",
       "    <tr>\n",
       "      <th>...</th>\n",
       "      <td>...</td>\n",
       "      <td>...</td>\n",
       "      <td>...</td>\n",
       "      <td>...</td>\n",
       "      <td>...</td>\n",
       "    </tr>\n",
       "    <tr>\n",
       "      <th>114231</th>\n",
       "      <td>2025-03-04 23:51:00</td>\n",
       "      <td>-0.001002</td>\n",
       "      <td>-0.001854</td>\n",
       "      <td>-0.002705</td>\n",
       "      <td>-0.004859</td>\n",
       "    </tr>\n",
       "    <tr>\n",
       "      <th>114615</th>\n",
       "      <td>2025-03-05 06:15:00</td>\n",
       "      <td>0.001371</td>\n",
       "      <td>0.000964</td>\n",
       "      <td>0.002132</td>\n",
       "      <td>0.003604</td>\n",
       "    </tr>\n",
       "    <tr>\n",
       "      <th>114831</th>\n",
       "      <td>2025-03-05 09:51:00</td>\n",
       "      <td>-0.000889</td>\n",
       "      <td>0.000741</td>\n",
       "      <td>0.000692</td>\n",
       "      <td>-0.000593</td>\n",
       "    </tr>\n",
       "    <tr>\n",
       "      <th>114941</th>\n",
       "      <td>2025-03-05 11:41:00</td>\n",
       "      <td>-0.000049</td>\n",
       "      <td>0.001078</td>\n",
       "      <td>0.001176</td>\n",
       "      <td>-0.000539</td>\n",
       "    </tr>\n",
       "    <tr>\n",
       "      <th>115140</th>\n",
       "      <td>2025-03-05 15:00:00</td>\n",
       "      <td>-0.006478</td>\n",
       "      <td>-0.004895</td>\n",
       "      <td>-0.004055</td>\n",
       "      <td>-0.007467</td>\n",
       "    </tr>\n",
       "  </tbody>\n",
       "</table>\n",
       "<p>519 rows × 5 columns</p>\n",
       "</div>"
      ],
      "text/plain": [
       "                  timestamp  return_3  return_5  return_7  return_10\n",
       "12      2024-12-15 16:12:00  0.000694  0.001041  0.001513   0.001513\n",
       "27      2024-12-15 16:27:00 -0.000495  0.000965  0.001213   0.002475\n",
       "525     2024-12-16 00:45:00  0.002492  0.004500  0.000653  -0.000242\n",
       "737     2024-12-16 04:17:00 -0.001697 -0.000541 -0.001156  -0.001943\n",
       "822     2024-12-16 05:42:00 -0.000961 -0.000345  0.000172   0.000468\n",
       "...                     ...       ...       ...       ...        ...\n",
       "114231  2025-03-04 23:51:00 -0.001002 -0.001854 -0.002705  -0.004859\n",
       "114615  2025-03-05 06:15:00  0.001371  0.000964  0.002132   0.003604\n",
       "114831  2025-03-05 09:51:00 -0.000889  0.000741  0.000692  -0.000593\n",
       "114941  2025-03-05 11:41:00 -0.000049  0.001078  0.001176  -0.000539\n",
       "115140  2025-03-05 15:00:00 -0.006478 -0.004895 -0.004055  -0.007467\n",
       "\n",
       "[519 rows x 5 columns]"
      ]
     },
     "execution_count": 12,
     "metadata": {},
     "output_type": "execute_result"
    }
   ],
   "source": [
    "\n",
    "# 计算成交量波动因子\n",
    "df[\"vol_change_factor\"] = df[\"vol\"] / df[\"vol\"].shift(1)\n",
    "\n",
    "# 计算 RSI(5)\n",
    "window_length = 5\n",
    "delta = df[\"close\"].diff()\n",
    "gain = (delta.where(delta > 0, 0)).rolling(window=window_length, min_periods=1).mean()\n",
    "loss = (-delta.where(delta < 0, 0)).rolling(window=window_length, min_periods=1).mean()\n",
    "rs = gain / (loss + 1e-10)\n",
    "df[\"RSI_5\"] = 100 - (100 / (1 + rs))\n",
    "\n",
    "# 找到符合条件的K线\n",
    "condition = (\n",
    "    (df[\"vol\"] > 5 * df[\"vol\"].shift(1)) &\n",
    "    ((df[\"RSI_5\"] - df[\"RSI_5\"].shift(1)) > 15) &\n",
    "    (df[\"vol\"] > 3 * df[\"vol\"].rolling(3).max().shift(1))\n",
    ")\n",
    "selected_kline = df[condition].copy()\n",
    "\n",
    "# 计算后面第3，5，7，10根K线的涨跌幅度\n",
    "for shift in [3, 5, 7, 10]:\n",
    "    selected_kline[f\"return_{shift}\"] = (df[\"close\"].shift(-shift) - selected_kline[\"close\"]) / selected_kline[\"close\"]\n",
    "\n",
    "# 只保留时间戳和计算的收益率\n",
    "df_result = selected_kline[[\"timestamp\", \"return_3\", \"return_5\", \"return_7\", \"return_10\"]]\n",
    "\n",
    "df_result"
   ]
  },
  {
   "cell_type": "code",
   "execution_count": null,
   "metadata": {},
   "outputs": [],
   "source": [
    "import pandas as pd\n",
    "import numpy as np\n",
    "import matplotlib.pyplot as plt\n",
    "\n",
    "# 计算统计数据\n",
    "stats = df_result.describe()\n",
    "print(\"Return Statistics:\")\n",
    "print(stats)\n",
    "\n",
    "# 计算涨跌次数\n",
    "for shift in [3, 5, 7, 10]:\n",
    "    df_result.loc[:, f\"up_{shift}\"] = df_result[f\"return_{shift}\"] > 0\n",
    "\n",
    "# 计算涨跌比\n",
    "up_down_ratio = {\n",
    "    shift: df_result[f\"up_{shift}\"].mean() for shift in [3, 5, 7, 10]\n",
    "}\n",
    "print(\"\\nUpward Probability:\")\n",
    "print(up_down_ratio)\n",
    "\n",
    "# 绘制收益率分布\n",
    "plt.figure(figsize=(12, 6))\n",
    "for shift in [3, 5, 7, 10]:\n",
    "    plt.hist(df_result[f\"return_{shift}\"].dropna(), bins=30, alpha=0.5, label=f\"Return {shift}\")\n",
    "\n",
    "plt.axvline(0, color='black', linestyle='dashed')\n",
    "plt.xlabel(\"Return\")\n",
    "plt.ylabel(\"Frequency\")\n",
    "plt.legend()\n",
    "plt.title(\"Return Distribution\")\n",
    "plt.show()\n"
   ]
  },
  {
   "cell_type": "code",
   "execution_count": 31,
   "metadata": {},
   "outputs": [
    {
     "name": "stdout",
     "output_type": "stream",
     "text": [
      "最终资金: 43.98\n",
      "总收益: -9956.02\n",
      "总交易次数: 2765\n",
      "胜率: 53.38%\n"
     ]
    }
   ],
   "source": [
    "import pandas as pd\n",
    "import numpy as np\n",
    "\n",
    "# 参数设置\n",
    "initial_balance = 10000  # 初始资金\n",
    "leverage = 10            # 杠杆倍数\n",
    "position_ratio = 0.1     # 仓位比例\n",
    "fee_rate = 0.0005        # 手续费率\n",
    "stop_loss_ratio = 1  # 止损比例（总资金的10%）\n",
    "bb_window = 20           # 布林带周期\n",
    "bb_std_mult = 3          # 标准差倍数\n",
    "\n",
    "def calculate_bollinger_bands(df, window=20, std_mult=3):\n",
    "    \"\"\"计算布林带指标\"\"\"\n",
    "    df['ma'] = df['close'].rolling(window).mean()\n",
    "    df['std'] = df['close'].rolling(window).std(ddof=0)\n",
    "    df['upper'] = df['ma'] + df['std'] * std_mult\n",
    "    df['lower'] = df['ma'] - df['std'] * std_mult\n",
    "    return df\n",
    "\n",
    "def backtest_strategy(df):\n",
    "    \"\"\"执行回测\"\"\"\n",
    "    df = calculate_bollinger_bands(df, window=bb_window, std_mult=bb_std_mult)\n",
    "    \n",
    "    balance = initial_balance\n",
    "    position = None\n",
    "    trades = []\n",
    "    \n",
    "    for i in range(bb_window, len(df)):\n",
    "        current = df.iloc[i]\n",
    "        prev = df.iloc[i-1]\n",
    "        \n",
    "        # 处理平仓逻辑\n",
    "        if position:\n",
    "            # 计算当前持仓信息\n",
    "            entry_price = position['entry_price']\n",
    "            position_size = position['size']\n",
    "            direction = position['direction']\n",
    "            \n",
    "            # 计算当前盈亏\n",
    "            if direction == 'long':\n",
    "                unrealized_pnl = (current['close'] - entry_price) * position_size\n",
    "            else:\n",
    "                unrealized_pnl = (entry_price - current['close']) * position_size\n",
    "            \n",
    "            # 止损检查\n",
    "            if unrealized_pnl <= -abs(position['stop_loss']):\n",
    "                # 计算平仓价格（以触发止损时的限价计算）\n",
    "                if direction == 'long':\n",
    "                    exit_price = entry_price * (1 - stop_loss_ratio/leverage)\n",
    "                else:\n",
    "                    exit_price = entry_price * (1 + stop_loss_ratio/leverage)\n",
    "                \n",
    "                # 计算实际平仓价格（不能超过当日价格范围）\n",
    "                exit_price = np.clip(exit_price, current['low'], current['high'])\n",
    "                \n",
    "                # 计算手续费\n",
    "                close_fee = position_size * exit_price * fee_rate\n",
    "                \n",
    "                # 计算实际盈亏\n",
    "                if direction == 'long':\n",
    "                    pnl = (exit_price - entry_price) * position_size - position['open_fee'] - close_fee\n",
    "                else:\n",
    "                    pnl = (entry_price - exit_price) * position_size - position['open_fee'] - close_fee\n",
    "                \n",
    "                # 更新资金\n",
    "                balance += pnl\n",
    "                \n",
    "                # 记录交易\n",
    "                trades.append({\n",
    "                    'entry': position['entry_time'],\n",
    "                    'exit': current['timestamp'],\n",
    "                    'direction': direction,\n",
    "                    'entry_price': entry_price,\n",
    "                    'exit_price': exit_price,\n",
    "                    'pnl': pnl,\n",
    "                    'stop_loss': True\n",
    "                })\n",
    "                position = None\n",
    "\n",
    "            # 平仓条件检查（回到中轨）\n",
    "            elif ((direction == 'long' and current['close'] >= current['ma']) or \n",
    "                  (direction == 'short' and current['close'] <= current['ma'])):\n",
    "                exit_price = current['ma']\n",
    "                close_fee = position_size * exit_price * fee_rate\n",
    "                \n",
    "                if direction == 'long':\n",
    "                    pnl = (exit_price - entry_price) * position_size - position['open_fee'] - close_fee\n",
    "                else:\n",
    "                    pnl = (entry_price - exit_price) * position_size - position['open_fee'] - close_fee\n",
    "                \n",
    "                balance += pnl\n",
    "                \n",
    "                trades.append({\n",
    "                    'entry': position['entry_time'],\n",
    "                    'exit': current['timestamp'],\n",
    "                    'direction': direction,\n",
    "                    'entry_price': entry_price,\n",
    "                    'exit_price': exit_price,\n",
    "                    'pnl': pnl,\n",
    "                    'stop_loss': False\n",
    "                })\n",
    "                position = None\n",
    "\n",
    "        # 开仓逻辑\n",
    "        if not position:\n",
    "            # 检查上轨突破\n",
    "            if prev['high'] < prev['upper'] and current['high'] >= current['upper']:\n",
    "                entry_price = current['upper']\n",
    "                position_size = (balance * position_ratio) * leverage / entry_price\n",
    "                open_fee = position_size * entry_price * fee_rate\n",
    "                stop_loss = balance * stop_loss_ratio\n",
    "                \n",
    "                position = {\n",
    "                    'entry_time': current['timestamp'],\n",
    "                    'direction': 'short',\n",
    "                    'entry_price': entry_price,\n",
    "                    'size': position_size,\n",
    "                    'open_fee': open_fee,\n",
    "                    'stop_loss': stop_loss\n",
    "                }\n",
    "                balance -= open_fee\n",
    "                \n",
    "            # 检查下轨突破\n",
    "            elif prev['low'] > prev['lower'] and current['low'] <= current['lower']:\n",
    "                entry_price = current['lower']\n",
    "                position_size = (balance * position_ratio) * leverage / entry_price\n",
    "                open_fee = position_size * entry_price * fee_rate\n",
    "                stop_loss = balance * stop_loss_ratio\n",
    "                \n",
    "                position = {\n",
    "                    'entry_time': current['timestamp'],\n",
    "                    'direction': 'long',\n",
    "                    'entry_price': entry_price,\n",
    "                    'size': position_size,\n",
    "                    'open_fee': open_fee,\n",
    "                    'stop_loss': stop_loss\n",
    "                }\n",
    "                balance -= open_fee\n",
    "\n",
    "    # 生成报告\n",
    "    total_return = balance - initial_balance\n",
    "    num_trades = len(trades)\n",
    "    win_trades = len([t for t in trades if t['pnl'] > 0])\n",
    "    \n",
    "    print(f\"最终资金: {balance:.2f}\")\n",
    "    print(f\"总收益: {total_return:.2f}\")\n",
    "    print(f\"总交易次数: {num_trades}\")\n",
    "    print(f\"胜率: {win_trades/num_trades if num_trades>0 else 0:.2%}\")\n",
    "    \n",
    "    return pd.DataFrame(trades)\n",
    "\n",
    "# 运行回测\n",
    "df = pd.read_csv('merged_kline.csv', parse_dates=['timestamp'])\n",
    "results = backtest_strategy(df)\n"
   ]
  },
  {
   "cell_type": "code",
   "execution_count": 36,
   "metadata": {},
   "outputs": [
    {
     "name": "stdout",
     "output_type": "stream",
     "text": [
      "最终资金: 5095.15\n",
      "总收益: -4904.85\n",
      "总交易次数: 1418\n",
      "胜率: 64.53%\n",
      "\n",
      "盈利交易:\n",
      "                  entry                exit direction  entry_price  \\\n",
      "0   2024-12-15 16:36:00 2024-12-15 17:21:00     short     0.405424   \n",
      "1   2024-12-15 22:07:00 2024-12-15 22:16:00      long     0.397589   \n",
      "2   2024-12-15 23:46:00 2024-12-15 23:50:00      long     0.405766   \n",
      "3   2024-12-15 23:56:00 2024-12-16 00:20:00      long     0.406368   \n",
      "4   2024-12-16 09:17:00 2024-12-16 09:33:00      long     0.400456   \n",
      "..                  ...                 ...       ...          ...   \n",
      "910 2025-03-05 10:52:00 2025-03-05 11:16:00      long     0.204030   \n",
      "911 2025-03-05 11:29:00 2025-03-05 12:32:00      long     0.203702   \n",
      "912 2025-03-05 13:25:00 2025-03-05 13:30:00      long     0.201526   \n",
      "913 2025-03-05 15:28:00 2025-03-05 15:32:00      long     0.198162   \n",
      "914 2025-03-05 15:51:00 2025-03-05 15:55:00      long     0.198901   \n",
      "\n",
      "     exit_price        pnl  stop_loss  take_profit  \n",
      "0       0.40289  52.523827      False         True  \n",
      "1       0.40011  52.989893      False         True  \n",
      "2       0.40832  52.110188      False         True  \n",
      "3       0.40957  68.046189      False         True  \n",
      "4       0.40287  48.858484      False         True  \n",
      "..          ...        ...        ...          ...  \n",
      "910     0.20544  30.078641      False         True  \n",
      "911     0.20547  39.296973      False         True  \n",
      "912     0.20278  26.585232      False         True  \n",
      "913     0.19937  25.685705      False         True  \n",
      "914     0.20024  29.044733      False         True  \n",
      "\n",
      "[915 rows x 8 columns]\n",
      "\n",
      "亏损交易:\n",
      "                  entry                exit direction  entry_price  \\\n",
      "0   2024-12-15 18:08:00 2024-12-15 21:25:00      long     0.402746   \n",
      "1   2024-12-15 23:03:00 2024-12-15 23:20:00     short     0.402946   \n",
      "2   2024-12-15 23:20:00 2024-12-15 23:27:00     short     0.407193   \n",
      "3   2024-12-16 02:03:00 2024-12-16 03:21:00      long     0.410586   \n",
      "4   2024-12-16 03:40:00 2024-12-16 09:15:00      long     0.405298   \n",
      "..                  ...                 ...       ...          ...   \n",
      "498 2025-03-05 03:40:00 2025-03-05 04:00:00      long     0.202401   \n",
      "499 2025-03-05 07:43:00 2025-03-05 09:09:00     short     0.199877   \n",
      "500 2025-03-05 10:25:00 2025-03-05 10:36:00     short     0.204076   \n",
      "501 2025-03-05 12:44:00 2025-03-05 13:15:00      long     0.203852   \n",
      "502 2025-03-05 13:35:00 2025-03-05 14:37:00      long     0.201859   \n",
      "\n",
      "     exit_price         pnl  stop_loss  take_profit  \n",
      "0       0.39856 -114.416978       True        False  \n",
      "1       0.40443  -46.742064       True        False  \n",
      "2       0.40963  -69.357884       True        False  \n",
      "3       0.40615 -117.507193       True        False  \n",
      "4       0.40119 -109.508199       True        False  \n",
      "..          ...         ...        ...          ...  \n",
      "498     0.20000  -66.800889       True        False  \n",
      "499     0.20152  -47.617053       True        False  \n",
      "500     0.20562  -44.041025       True        False  \n",
      "501     0.20172  -59.056094       True        False  \n",
      "502     0.19925  -71.249088       True        False  \n",
      "\n",
      "[503 rows x 8 columns]\n"
     ]
    }
   ],
   "source": [
    "import pandas as pd\n",
    "import numpy as np\n",
    "\n",
    "# 参数设置\n",
    "initial_balance = 10000  # 初始资金\n",
    "leverage = 10            # 杠杆倍数\n",
    "position_ratio = 0.1     # 仓位比例\n",
    "fee_rate = 0.0005        # 手续费率\n",
    "stop_loss_ratio = 0.01   # 止损比例（总资金的10%）\n",
    "bb_window = 20           # 布林带周期\n",
    "bb_std_mult = 3          # 标准差倍数\n",
    "take_profit_ratio = 0.005  # 止盈比例 0.5%\n",
    "\n",
    "def calculate_bollinger_bands(df, window=20, std_mult=3):\n",
    "    \"\"\"计算布林带指标\"\"\"\n",
    "    df['ma'] = df['close'].rolling(window).mean()\n",
    "    df['std'] = df['close'].rolling(window).std(ddof=0)\n",
    "    df['upper'] = df['ma'] + df['std'] * std_mult\n",
    "    df['lower'] = df['ma'] - df['std'] * std_mult\n",
    "    return df\n",
    "\n",
    "def backtest_strategy(df):\n",
    "    \"\"\"执行回测\"\"\"\n",
    "    df = calculate_bollinger_bands(df, window=bb_window, std_mult=bb_std_mult)\n",
    "    \n",
    "    balance = initial_balance\n",
    "    position = None\n",
    "    trades = []\n",
    "    \n",
    "    for i in range(bb_window, len(df)):\n",
    "        current = df.iloc[i]\n",
    "        prev = df.iloc[i-1]\n",
    "        \n",
    "        # 处理平仓逻辑\n",
    "        if position:\n",
    "            entry_price = position['entry_price']\n",
    "            position_size = position['size']\n",
    "            direction = position['direction']\n",
    "            current_price = current['close']\n",
    "            \n",
    "            # 计算未实现盈亏\n",
    "            if direction == 'long':\n",
    "                unrealized_pnl = (current_price - entry_price) * position_size\n",
    "            else:\n",
    "                unrealized_pnl = (entry_price - current_price) * position_size\n",
    "            \n",
    "            close_fee = position_size * current_price * fee_rate\n",
    "            net_pnl = unrealized_pnl - position['open_fee'] - close_fee\n",
    "            \n",
    "            # 止盈检查\n",
    "            if net_pnl >= position['target_profit']:\n",
    "                exit_price = current_price\n",
    "                actual_close_fee = position_size * exit_price * fee_rate\n",
    "                actual_net_pnl = unrealized_pnl - position['open_fee'] - actual_close_fee\n",
    "                balance += actual_net_pnl\n",
    "                trades.append({\n",
    "                    'entry': position['entry_time'],\n",
    "                    'exit': current['timestamp'],\n",
    "                    'direction': direction,\n",
    "                    'entry_price': entry_price,\n",
    "                    'exit_price': exit_price,\n",
    "                    'pnl': actual_net_pnl,\n",
    "                    'stop_loss': False,\n",
    "                    'take_profit': True\n",
    "                })\n",
    "                position = None\n",
    "                continue\n",
    "\n",
    "            # 止损检查\n",
    "            if unrealized_pnl <= -abs(position['stop_loss']):\n",
    "                exit_price = entry_price * (1 - stop_loss_ratio/leverage) if direction == 'long' else entry_price * (1 + stop_loss_ratio/leverage)\n",
    "                exit_price = np.clip(exit_price, current['low'], current['high'])\n",
    "                pnl = (exit_price - entry_price) * position_size if direction == 'long' else (entry_price - exit_price) * position_size\n",
    "                close_fee = position_size * exit_price * fee_rate\n",
    "                pnl = pnl - position['open_fee'] - close_fee\n",
    "                balance += pnl\n",
    "                trades.append({\n",
    "                    'entry': position['entry_time'],\n",
    "                    'exit': current['timestamp'],\n",
    "                    'direction': direction,\n",
    "                    'entry_price': entry_price,\n",
    "                    'exit_price': exit_price,\n",
    "                    'pnl': pnl,\n",
    "                    'stop_loss': True,\n",
    "                    'take_profit': False\n",
    "                })\n",
    "                position = None\n",
    "\n",
    "        # 开仓逻辑\n",
    "        if not position:\n",
    "            if prev['high'] < prev['upper'] and current['high'] >= current['upper']:\n",
    "                entry_price = current['upper']\n",
    "                position_size = (balance * position_ratio) * leverage / entry_price\n",
    "                open_fee = position_size * entry_price * fee_rate\n",
    "                stop_loss = balance * stop_loss_ratio\n",
    "                balance_before = balance + open_fee\n",
    "                target_profit = balance_before * take_profit_ratio\n",
    "                position = {\n",
    "                    'entry_time': current['timestamp'],\n",
    "                    'direction': 'short',\n",
    "                    'entry_price': entry_price,\n",
    "                    'size': position_size,\n",
    "                    'open_fee': open_fee,\n",
    "                    'stop_loss': stop_loss,\n",
    "                    'target_profit': target_profit\n",
    "                }\n",
    "                balance -= open_fee\n",
    "            elif prev['low'] > prev['lower'] and current['low'] <= current['lower']:\n",
    "                entry_price = current['lower']\n",
    "                position_size = (balance * position_ratio) * leverage / entry_price\n",
    "                open_fee = position_size * entry_price * fee_rate\n",
    "                stop_loss = balance * stop_loss_ratio\n",
    "                balance_before = balance + open_fee\n",
    "                target_profit = balance_before * take_profit_ratio\n",
    "                position = {\n",
    "                    'entry_time': current['timestamp'],\n",
    "                    'direction': 'long',\n",
    "                    'entry_price': entry_price,\n",
    "                    'size': position_size,\n",
    "                    'open_fee': open_fee,\n",
    "                    'stop_loss': stop_loss,\n",
    "                    'target_profit': target_profit\n",
    "                }\n",
    "                balance -= open_fee\n",
    "\n",
    "    # 生成报告\n",
    "    total_return = balance - initial_balance\n",
    "    num_trades = len(trades)\n",
    "    win_trades = [t for t in trades if t['pnl'] > 0]\n",
    "    lose_trades = [t for t in trades if t['pnl'] <= 0]\n",
    "    \n",
    "    print(f\"最终资金: {balance:.2f}\")\n",
    "    print(f\"总收益: {total_return:.2f}\")\n",
    "    print(f\"总交易次数: {num_trades}\")\n",
    "    print(f\"胜率: {len(win_trades)/num_trades if num_trades>0 else 0:.2%}\")\n",
    "    \n",
    "    print(\"\\n盈利交易:\")\n",
    "    print(pd.DataFrame(win_trades))\n",
    "    print(\"\\n亏损交易:\")\n",
    "    print(pd.DataFrame(lose_trades))\n",
    "    \n",
    "    return pd.DataFrame(trades)\n",
    "\n",
    "# 运行回测\n",
    "df = pd.read_csv('merged_kline.csv', parse_dates=['timestamp'])\n",
    "results = backtest_strategy(df)\n"
   ]
  },
  {
   "cell_type": "code",
   "execution_count": 22,
   "metadata": {},
   "outputs": [
    {
     "name": "stdout",
     "output_type": "stream",
     "text": [
      "最终资金: 1514739.33\n",
      "总收益: 1504739.33\n",
      "总交易次数: 1591\n",
      "胜率: 62.54%\n",
      "\n",
      "盈利交易:\n",
      "                  entry                exit direction  entry_price  \\\n",
      "0   2023-12-15 23:20:00 2023-12-16 04:00:00      long     0.092557   \n",
      "1   2023-12-18 10:30:00 2023-12-18 10:50:00      long     0.086575   \n",
      "2   2023-12-19 01:55:00 2023-12-19 12:35:00     short     0.093360   \n",
      "3   2023-12-20 01:50:00 2023-12-20 04:35:00      long     0.089964   \n",
      "4   2023-12-20 08:25:00 2023-12-20 13:05:00      long     0.089883   \n",
      "..                  ...                 ...       ...          ...   \n",
      "990 2025-03-06 22:15:00 2025-03-06 22:20:00     short     0.204749   \n",
      "991 2025-03-07 12:35:00 2025-03-07 13:30:00      long     0.202906   \n",
      "992 2025-03-07 20:35:00 2025-03-07 20:50:00      long     0.203222   \n",
      "993 2025-03-07 23:10:00 2025-03-08 00:45:00      long     0.196232   \n",
      "994 2025-03-08 01:30:00 2025-03-08 04:35:00      long     0.195897   \n",
      "\n",
      "     exit_price           pnl  stop_loss  take_profit  \n",
      "0       0.09409    153.098664      False         True  \n",
      "1       0.08819    165.612787      False         True  \n",
      "2       0.09183    146.596583      False         True  \n",
      "3       0.09145    147.488924      False         True  \n",
      "4       0.09150    163.740862      False         True  \n",
      "..          ...           ...        ...          ...  \n",
      "990     0.20124  23494.524027      False         True  \n",
      "991     0.20805  35366.398959      False         True  \n",
      "992     0.20724  27659.093935      False         True  \n",
      "993     0.19972  24687.575583      False         True  \n",
      "994     0.19936  24898.481279      False         True  \n",
      "\n",
      "[995 rows x 8 columns]\n",
      "\n",
      "亏损交易:\n",
      "                  entry                exit direction  entry_price  \\\n",
      "0   2023-12-15 20:45:00 2023-12-15 23:20:00      long     0.094652   \n",
      "1   2023-12-16 05:55:00 2023-12-16 21:35:00     short     0.094174   \n",
      "2   2023-12-17 05:35:00 2023-12-17 14:30:00      long     0.095045   \n",
      "3   2023-12-17 22:35:00 2023-12-18 02:45:00      long     0.093277   \n",
      "4   2023-12-18 06:00:00 2023-12-18 09:25:00      long     0.091468   \n",
      "..                  ...                 ...       ...          ...   \n",
      "591 2025-03-05 22:55:00 2025-03-06 03:25:00     short     0.205192   \n",
      "592 2025-03-06 04:40:00 2025-03-06 05:20:00     short     0.212640   \n",
      "593 2025-03-06 12:05:00 2025-03-06 14:10:00      long     0.209225   \n",
      "594 2025-03-07 00:15:00 2025-03-07 00:25:00      long     0.199903   \n",
      "595 2025-03-07 21:05:00 2025-03-07 22:10:00      long     0.201942   \n",
      "\n",
      "     exit_price           pnl  stop_loss  take_profit  \n",
      "0       0.09325   -158.075816       True        False  \n",
      "1       0.09566   -167.635241       True        False  \n",
      "2       0.09361   -158.185938       True        False  \n",
      "3       0.09193   -149.388094       True        False  \n",
      "4       0.08979   -184.264280       True        False  \n",
      "..          ...           ...        ...          ...  \n",
      "591     0.20812 -22307.259919       True        False  \n",
      "592     0.21568 -22000.134954       True        False  \n",
      "593     0.20598 -23691.507662       True        False  \n",
      "594     0.19652 -26445.231440       True        False  \n",
      "595     0.19906 -22827.174780       True        False  \n",
      "\n",
      "[596 rows x 8 columns]\n"
     ]
    }
   ],
   "source": [
    "import pandas as pd\n",
    "import numpy as np\n",
    "\n",
    "# 参数设置\n",
    "initial_balance = 10000  # 初始资金\n",
    "leverage = 10            # 杠杆倍数\n",
    "position_ratio = 0.1     # 仓位比例\n",
    "fee_rate = 0.0005        # 手续费率\n",
    "stop_loss_ratio = 0.015   # 止损比例（总资金的10%）\n",
    "bb_window = 20           # 布林带周期\n",
    "bb_std_mult = 3          # 标准差倍数\n",
    "take_profit_ratio = 0.015  # 止盈比例 0.5%\n",
    "\n",
    "def calculate_bollinger_bands(df, window=20, std_mult=3):\n",
    "    \"\"\"计算布林带指标\"\"\"\n",
    "    df['ma'] = df['close'].rolling(window).mean()\n",
    "    df['std'] = df['close'].rolling(window).std(ddof=0)\n",
    "    df['upper'] = df['ma'] + df['std'] * std_mult\n",
    "    df['lower'] = df['ma'] - df['std'] * std_mult\n",
    "    return df\n",
    "\n",
    "def backtest_strategy(df):\n",
    "    \"\"\"执行回测\"\"\"\n",
    "    df = calculate_bollinger_bands(df, window=bb_window, std_mult=bb_std_mult)\n",
    "    \n",
    "    balance = initial_balance\n",
    "    position = None\n",
    "    trades = []\n",
    "    \n",
    "    for i in range(bb_window, len(df)):\n",
    "        current = df.iloc[i]\n",
    "        prev = df.iloc[i-1]\n",
    "        \n",
    "        # 处理平仓逻辑\n",
    "        if position:\n",
    "            entry_price = position['entry_price']\n",
    "            position_size = position['size']\n",
    "            direction = position['direction']\n",
    "            current_price_high = current['high']\n",
    "            current_price_low = current['low']\n",
    "            \n",
    "            # 计算未实现盈亏\n",
    "            if direction == 'long':\n",
    "                unrealized_pnl = (current_price_high - entry_price) * position_size\n",
    "            else:\n",
    "                unrealized_pnl = (entry_price - current_price_low) * position_size\n",
    "            \n",
    "            if direction == 'long':\n",
    "                close_fee = position_size * current_price_high * fee_rate\n",
    "            else:\n",
    "                close_fee = position_size * current_price_low * fee_rate\n",
    "            net_pnl = unrealized_pnl - position['open_fee'] - close_fee\n",
    "            \n",
    "            # 止盈检查\n",
    "            if net_pnl >= position['target_profit']:\n",
    "                if direction == 'long':\n",
    "                    exit_price = current_price_high\n",
    "                else:\n",
    "                    exit_price = current_price_low\n",
    "                actual_close_fee = position_size * exit_price * fee_rate\n",
    "                actual_net_pnl = unrealized_pnl - position['open_fee'] - actual_close_fee\n",
    "                balance += position['target_profit']\n",
    "                trades.append({\n",
    "                    'entry': position['entry_time'],\n",
    "                    'exit': current['timestamp'],\n",
    "                    'direction': direction,\n",
    "                    'entry_price': entry_price,\n",
    "                    'exit_price': exit_price,\n",
    "                    'pnl': actual_net_pnl,\n",
    "                    'stop_loss': False,\n",
    "                    'take_profit': True\n",
    "                })\n",
    "                position = None\n",
    "                continue\n",
    "\n",
    "            # 止损检查\n",
    "            if net_pnl <= -abs(position['stop_loss']):\n",
    "                exit_price = entry_price * (1 - stop_loss_ratio/leverage) if direction == 'long' else entry_price * (1 + stop_loss_ratio/leverage)\n",
    "                exit_price = np.clip(exit_price, current['low'], current['high'])\n",
    "                pnl = (exit_price - entry_price) * position_size if direction == 'long' else (entry_price - exit_price) * position_size\n",
    "                close_fee = position_size * exit_price * fee_rate\n",
    "                pnl = pnl - position['open_fee'] - close_fee\n",
    "                balance -= position['stop_loss']\n",
    "                trades.append({\n",
    "                    'entry': position['entry_time'],\n",
    "                    'exit': current['timestamp'],\n",
    "                    'direction': direction,\n",
    "                    'entry_price': entry_price,\n",
    "                    'exit_price': exit_price,\n",
    "                    'pnl': pnl,\n",
    "                    'stop_loss': True,\n",
    "                    'take_profit': False\n",
    "                })\n",
    "                position = None\n",
    "\n",
    "        # 开仓逻辑\n",
    "        if not position:\n",
    "            if prev['high'] < prev['upper'] and current['high'] >= current['upper']:\n",
    "                entry_price = current['upper']\n",
    "                position_size = (balance * position_ratio) * leverage / entry_price\n",
    "                open_fee = position_size * entry_price * fee_rate\n",
    "                stop_loss = balance * stop_loss_ratio\n",
    "                balance_before = balance + open_fee\n",
    "                target_profit = balance_before * take_profit_ratio\n",
    "                position = {\n",
    "                    'entry_time': current['timestamp'],\n",
    "                    'direction': 'short',\n",
    "                    'entry_price': entry_price,\n",
    "                    'size': position_size,\n",
    "                    'open_fee': open_fee,\n",
    "                    'stop_loss': stop_loss,\n",
    "                    'target_profit': target_profit\n",
    "                }\n",
    "                balance -= open_fee\n",
    "            elif prev['low'] > prev['lower'] and current['low'] <= current['lower']:\n",
    "                entry_price = current['lower']\n",
    "                position_size = (balance * position_ratio) * leverage / entry_price\n",
    "                open_fee = position_size * entry_price * fee_rate\n",
    "                stop_loss = balance * stop_loss_ratio\n",
    "                balance_before = balance + open_fee\n",
    "                target_profit = balance_before * take_profit_ratio\n",
    "                position = {\n",
    "                    'entry_time': current['timestamp'],\n",
    "                    'direction': 'long',\n",
    "                    'entry_price': entry_price,\n",
    "                    'size': position_size,\n",
    "                    'open_fee': open_fee,\n",
    "                    'stop_loss': stop_loss,\n",
    "                    'target_profit': target_profit\n",
    "                }\n",
    "                balance -= open_fee\n",
    "\n",
    "    # 生成报告\n",
    "    total_return = balance - initial_balance\n",
    "    num_trades = len(trades)\n",
    "    win_trades = [t for t in trades if t['pnl'] > 0]\n",
    "    lose_trades = [t for t in trades if t['pnl'] <= 0]\n",
    "    \n",
    "    print(f\"最终资金: {balance:.2f}\")\n",
    "    print(f\"总收益: {total_return:.2f}\")\n",
    "    print(f\"总交易次数: {num_trades}\")\n",
    "    print(f\"胜率: {len(win_trades)/num_trades if num_trades>0 else 0:.2%}\")\n",
    "    \n",
    "    print(\"\\n盈利交易:\")\n",
    "    print(pd.DataFrame(win_trades))\n",
    "    print(\"\\n亏损交易:\")\n",
    "    print(pd.DataFrame(lose_trades))\n",
    "    \n",
    "    return pd.DataFrame(trades)\n",
    "\n",
    "# 运行回测\n",
    "df = pd.read_csv('merged_kline.csv', parse_dates=['timestamp'])\n",
    "results = backtest_strategy(df_resampled)\n"
   ]
  },
  {
   "cell_type": "code",
   "execution_count": 15,
   "metadata": {},
   "outputs": [
    {
     "data": {
      "image/png": "[encoded data removed]",
      "text/plain": [
       "<Figure size 1000x500 with 1 Axes>"
      ]
     },
     "metadata": {},
     "output_type": "display_data"
    }
   ],
   "source": [
    "import matplotlib.pyplot as plt\n",
    "# 确保 'entry' 是 datetime 格式\n",
    "results[\"entry\"] = pd.to_datetime(results[\"entry\"])\n",
    "\n",
    "# 计算整体胜率\n",
    "total_win_rate = (results[\"pnl\"] > 0).mean()\n",
    "\n",
    "# 计算每个月的胜率\n",
    "monthly_win_rate = results.groupby(results[\"entry\"].dt.to_period(\"M\"))[\"pnl\"].apply(lambda x: (x > 0).mean())\n",
    "\n",
    "# 可视化\n",
    "plt.figure(figsize=(10, 5))\n",
    "plt.plot(monthly_win_rate.index.astype(str), monthly_win_rate, marker='o', linestyle='-', label=\"Monthly Win Rate\")\n",
    "plt.axhline(total_win_rate, color='r', linestyle=\"--\", label=f\"Overall Win Rate: {total_win_rate:.2%}\")\n",
    "\n",
    "plt.xlabel(\"Month\")\n",
    "plt.ylabel(\"Win Rate\")\n",
    "plt.title(\"Monthly Win Rate vs Overall Win Rate\")\n",
    "plt.legend()\n",
    "plt.xticks(rotation=45)\n",
    "plt.grid(True)"
   ]
  },
  {
   "cell_type": "code",
   "execution_count": 8,
   "metadata": {},
   "outputs": [
    {
     "name": "stderr",
     "output_type": "stream",
     "text": [
      "C:\\Users\\qianz\\AppData\\Local\\Temp\\ipykernel_12500\\197707617.py:4: FutureWarning: 'T' is deprecated and will be removed in a future version, please use 'min' instead.\n",
      "  df_resampled = df.resample('5T').agg({\n"
     ]
    },
    {
     "data": {
      "text/html": [
       "<div>\n",
       "<style scoped>\n",
       "    .dataframe tbody tr th:only-of-type {\n",
       "        vertical-align: middle;\n",
       "    }\n",
       "\n",
       "    .dataframe tbody tr th {\n",
       "        vertical-align: top;\n",
       "    }\n",
       "\n",
       "    .dataframe thead th {\n",
       "        text-align: right;\n",
       "    }\n",
       "</style>\n",
       "<table border=\"1\" class=\"dataframe\">\n",
       "  <thead>\n",
       "    <tr style=\"text-align: right;\">\n",
       "      <th></th>\n",
       "      <th>timestamp</th>\n",
       "      <th>open</th>\n",
       "      <th>high</th>\n",
       "      <th>low</th>\n",
       "      <th>close</th>\n",
       "      <th>vol</th>\n",
       "    </tr>\n",
       "  </thead>\n",
       "  <tbody>\n",
       "    <tr>\n",
       "      <th>0</th>\n",
       "      <td>2023-12-15 16:00:00</td>\n",
       "      <td>0.09389</td>\n",
       "      <td>0.09427</td>\n",
       "      <td>0.09383</td>\n",
       "      <td>0.09420</td>\n",
       "      <td>6804.00</td>\n",
       "    </tr>\n",
       "    <tr>\n",
       "      <th>1</th>\n",
       "      <td>2023-12-15 16:05:00</td>\n",
       "      <td>0.09405</td>\n",
       "      <td>0.09413</td>\n",
       "      <td>0.09390</td>\n",
       "      <td>0.09397</td>\n",
       "      <td>3840.00</td>\n",
       "    </tr>\n",
       "    <tr>\n",
       "      <th>2</th>\n",
       "      <td>2023-12-15 16:10:00</td>\n",
       "      <td>0.09392</td>\n",
       "      <td>0.09405</td>\n",
       "      <td>0.09372</td>\n",
       "      <td>0.09390</td>\n",
       "      <td>6387.00</td>\n",
       "    </tr>\n",
       "    <tr>\n",
       "      <th>3</th>\n",
       "      <td>2023-12-15 16:15:00</td>\n",
       "      <td>0.09385</td>\n",
       "      <td>0.09432</td>\n",
       "      <td>0.09373</td>\n",
       "      <td>0.09431</td>\n",
       "      <td>7510.00</td>\n",
       "    </tr>\n",
       "    <tr>\n",
       "      <th>4</th>\n",
       "      <td>2023-12-15 16:20:00</td>\n",
       "      <td>0.09421</td>\n",
       "      <td>0.09452</td>\n",
       "      <td>0.09421</td>\n",
       "      <td>0.09452</td>\n",
       "      <td>8637.00</td>\n",
       "    </tr>\n",
       "    <tr>\n",
       "      <th>...</th>\n",
       "      <td>...</td>\n",
       "      <td>...</td>\n",
       "      <td>...</td>\n",
       "      <td>...</td>\n",
       "      <td>...</td>\n",
       "      <td>...</td>\n",
       "    </tr>\n",
       "    <tr>\n",
       "      <th>129307</th>\n",
       "      <td>2025-03-08 15:35:00</td>\n",
       "      <td>0.19541</td>\n",
       "      <td>0.19566</td>\n",
       "      <td>0.19520</td>\n",
       "      <td>0.19546</td>\n",
       "      <td>3298.87</td>\n",
       "    </tr>\n",
       "    <tr>\n",
       "      <th>129308</th>\n",
       "      <td>2025-03-08 15:40:00</td>\n",
       "      <td>0.19522</td>\n",
       "      <td>0.19542</td>\n",
       "      <td>0.19512</td>\n",
       "      <td>0.19534</td>\n",
       "      <td>2755.16</td>\n",
       "    </tr>\n",
       "    <tr>\n",
       "      <th>129309</th>\n",
       "      <td>2025-03-08 15:45:00</td>\n",
       "      <td>0.19487</td>\n",
       "      <td>0.19535</td>\n",
       "      <td>0.19484</td>\n",
       "      <td>0.19526</td>\n",
       "      <td>8444.17</td>\n",
       "    </tr>\n",
       "    <tr>\n",
       "      <th>129310</th>\n",
       "      <td>2025-03-08 15:50:00</td>\n",
       "      <td>0.19501</td>\n",
       "      <td>0.19524</td>\n",
       "      <td>0.19477</td>\n",
       "      <td>0.19495</td>\n",
       "      <td>3463.85</td>\n",
       "    </tr>\n",
       "    <tr>\n",
       "      <th>129311</th>\n",
       "      <td>2025-03-08 15:55:00</td>\n",
       "      <td>0.19461</td>\n",
       "      <td>0.19480</td>\n",
       "      <td>0.19460</td>\n",
       "      <td>0.19473</td>\n",
       "      <td>6016.39</td>\n",
       "    </tr>\n",
       "  </tbody>\n",
       "</table>\n",
       "<p>129312 rows × 6 columns</p>\n",
       "</div>"
      ],
      "text/plain": [
       "                 timestamp     open     high      low    close      vol\n",
       "0      2023-12-15 16:00:00  0.09389  0.09427  0.09383  0.09420  6804.00\n",
       "1      2023-12-15 16:05:00  0.09405  0.09413  0.09390  0.09397  3840.00\n",
       "2      2023-12-15 16:10:00  0.09392  0.09405  0.09372  0.09390  6387.00\n",
       "3      2023-12-15 16:15:00  0.09385  0.09432  0.09373  0.09431  7510.00\n",
       "4      2023-12-15 16:20:00  0.09421  0.09452  0.09421  0.09452  8637.00\n",
       "...                    ...      ...      ...      ...      ...      ...\n",
       "129307 2025-03-08 15:35:00  0.19541  0.19566  0.19520  0.19546  3298.87\n",
       "129308 2025-03-08 15:40:00  0.19522  0.19542  0.19512  0.19534  2755.16\n",
       "129309 2025-03-08 15:45:00  0.19487  0.19535  0.19484  0.19526  8444.17\n",
       "129310 2025-03-08 15:50:00  0.19501  0.19524  0.19477  0.19495  3463.85\n",
       "129311 2025-03-08 15:55:00  0.19461  0.19480  0.19460  0.19473  6016.39\n",
       "\n",
       "[129312 rows x 6 columns]"
      ]
     },
     "execution_count": 8,
     "metadata": {},
     "output_type": "execute_result"
    }
   ],
   "source": [
    "df['timestamp'] = pd.to_datetime(df['timestamp'])\n",
    "df.set_index('timestamp', inplace=True)\n",
    "\n",
    "df_resampled = df.resample('5T').agg({\n",
    "    'open': 'first',   # 取第一个开盘价\n",
    "    'high': 'max',     # 最高价取最大值\n",
    "    'low': 'min',      # 最低价取最小值\n",
    "    'close': 'last',   # 收盘价取最后一个\n",
    "    'vol': 'sum'       # 交易量累加\n",
    "}).dropna()\n",
    "\n",
    "df_resampled.reset_index(inplace=True)\n",
    "\n",
    "df_resampled\n"
   ]
  }
 ],
 "metadata": {
  "kernelspec": {
   "display_name": "coin",
   "language": "python",
   "name": "python3"
  },
  "language_info": {
   "codemirror_mode": {
    "name": "ipython",
    "version": 3
   },
   "file_extension": ".py",
   "mimetype": "text/x-python",
   "name": "python",
   "nbconvert_exporter": "python",
   "pygments_lexer": "ipython3",
   "version": "3.11.4"
  }
 },
 "nbformat": 4,
 "nbformat_minor": 2
}
